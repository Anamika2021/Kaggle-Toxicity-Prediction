{
 "cells": [
  {
   "cell_type": "code",
   "execution_count": 1,
   "metadata": {
    "_cell_guid": "b1076dfc-b9ad-4769-8c92-a6c4dae69d19",
    "_uuid": "8f2839f25d086af736a60e9eeb907d3b93b6e0e5",
    "execution": {
     "iopub.execute_input": "2021-03-18T22:21:00.046516Z",
     "iopub.status.busy": "2021-03-18T22:21:00.045264Z",
     "iopub.status.idle": "2021-03-18T22:21:00.051961Z",
     "shell.execute_reply": "2021-03-18T22:21:00.051219Z"
    },
    "papermill": {
     "duration": 0.04472,
     "end_time": "2021-03-18T22:21:00.052174",
     "exception": false,
     "start_time": "2021-03-18T22:21:00.007454",
     "status": "completed"
    },
    "tags": []
   },
   "outputs": [
    {
     "name": "stdout",
     "output_type": "stream",
     "text": [
      "/kaggle/input/the-toxicity-prediction-challenge/sample_submission.csv\n",
      "/kaggle/input/the-toxicity-prediction-challenge/feamat.csv\n",
      "/kaggle/input/the-toxicity-prediction-challenge/features_id_name_mappings.csv\n",
      "/kaggle/input/the-toxicity-prediction-challenge/train.csv\n",
      "/kaggle/input/the-toxicity-prediction-challenge/test.csv\n"
     ]
    }
   ],
   "source": [
    "# This Python 3 environment comes with many helpful analytics libraries installed\n",
    "# It is defined by the kaggle/python Docker image: https://github.com/kaggle/docker-python\n",
    "# For example, here's several helpful packages to load\n",
    "\n",
    "import numpy as np # linear algebra\n",
    "import pandas as pd # data processing, CSV file I/O (e.g. pd.read_csv)\n",
    "\n",
    "# Input data files are available in the read-only \"../input/\" directory\n",
    "# For example, running this (by clicking run or pressing Shift+Enter) will list all files under the input directory\n",
    "\n",
    "import os\n",
    "for dirname, _, filenames in os.walk('/kaggle/input'):\n",
    "    for filename in filenames:\n",
    "        print(os.path.join(dirname, filename))\n",
    "\n",
    "# You can write up to 20GB to the current directory (/kaggle/working/) that gets preserved as output when you create a version using \"Save & Run All\" \n",
    "# You can also write temporary files to /kaggle/temp/, but they won't be saved outside of the current session"
   ]
  },
  {
   "cell_type": "markdown",
   "metadata": {
    "papermill": {
     "duration": 0.028302,
     "end_time": "2021-03-18T22:21:00.110473",
     "exception": false,
     "start_time": "2021-03-18T22:21:00.082171",
     "status": "completed"
    },
    "tags": []
   },
   "source": [
    "### Step 1. Reading train.csv file\n",
    "> Parsing the training file by paying attention to the delimiters. We split by a comma and a semi colon. Eventually, we get three columns from train.csv including chemical id, assay id and label."
   ]
  },
  {
   "cell_type": "code",
   "execution_count": 2,
   "metadata": {
    "execution": {
     "iopub.execute_input": "2021-03-18T22:21:00.172670Z",
     "iopub.status.busy": "2021-03-18T22:21:00.171878Z",
     "iopub.status.idle": "2021-03-18T22:21:00.688698Z",
     "shell.execute_reply": "2021-03-18T22:21:00.687576Z"
    },
    "papermill": {
     "duration": 0.548364,
     "end_time": "2021-03-18T22:21:00.688881",
     "exception": false,
     "start_time": "2021-03-18T22:21:00.140517",
     "status": "completed"
    },
    "tags": []
   },
   "outputs": [
    {
     "name": "stderr",
     "output_type": "stream",
     "text": [
      "/opt/conda/lib/python3.7/site-packages/ipykernel_launcher.py:2: ParserWarning: Falling back to the 'python' engine because the 'c' engine does not support regex separators (separators > 1 char and different from '\\s+' are interpreted as regex); you can avoid this warning by specifying engine='python'.\n",
      "  \n"
     ]
    },
    {
     "data": {
      "text/html": [
       "<div>\n",
       "<style scoped>\n",
       "    .dataframe tbody tr th:only-of-type {\n",
       "        vertical-align: middle;\n",
       "    }\n",
       "\n",
       "    .dataframe tbody tr th {\n",
       "        vertical-align: top;\n",
       "    }\n",
       "\n",
       "    .dataframe thead th {\n",
       "        text-align: right;\n",
       "    }\n",
       "</style>\n",
       "<table border=\"1\" class=\"dataframe\">\n",
       "  <thead>\n",
       "    <tr style=\"text-align: right;\">\n",
       "      <th></th>\n",
       "      <th>Id</th>\n",
       "      <th>Expected</th>\n",
       "    </tr>\n",
       "  </thead>\n",
       "  <tbody>\n",
       "    <tr>\n",
       "      <th>2971-36-0</th>\n",
       "      <td>1644</td>\n",
       "      <td>2</td>\n",
       "    </tr>\n",
       "    <tr>\n",
       "      <th>693-54-9</th>\n",
       "      <td>2451</td>\n",
       "      <td>2</td>\n",
       "    </tr>\n",
       "    <tr>\n",
       "      <th>7173-51-5</th>\n",
       "      <td>1384</td>\n",
       "      <td>2</td>\n",
       "    </tr>\n",
       "    <tr>\n",
       "      <th>138261-41-3</th>\n",
       "      <td>16</td>\n",
       "      <td>2</td>\n",
       "    </tr>\n",
       "    <tr>\n",
       "      <th>7681-82-5</th>\n",
       "      <td>1856</td>\n",
       "      <td>2</td>\n",
       "    </tr>\n",
       "  </tbody>\n",
       "</table>\n",
       "</div>"
      ],
      "text/plain": [
       "               Id  Expected\n",
       "2971-36-0    1644         2\n",
       "693-54-9     2451         2\n",
       "7173-51-5    1384         2\n",
       "138261-41-3    16         2\n",
       "7681-82-5    1856         2"
      ]
     },
     "execution_count": 2,
     "metadata": {},
     "output_type": "execute_result"
    }
   ],
   "source": [
    "import pandas as pd\n",
    "train_df = pd.read_csv('/kaggle/input/the-toxicity-prediction-challenge/train.csv', sep=',|;')\n",
    "train_df.head()"
   ]
  },
  {
   "cell_type": "code",
   "execution_count": 3,
   "metadata": {
    "execution": {
     "iopub.execute_input": "2021-03-18T22:21:00.755811Z",
     "iopub.status.busy": "2021-03-18T22:21:00.754592Z",
     "iopub.status.idle": "2021-03-18T22:21:00.768071Z",
     "shell.execute_reply": "2021-03-18T22:21:00.768683Z"
    },
    "papermill": {
     "duration": 0.04993,
     "end_time": "2021-03-18T22:21:00.768912",
     "exception": false,
     "start_time": "2021-03-18T22:21:00.718982",
     "status": "completed"
    },
    "tags": []
   },
   "outputs": [
    {
     "data": {
      "text/html": [
       "<div>\n",
       "<style scoped>\n",
       "    .dataframe tbody tr th:only-of-type {\n",
       "        vertical-align: middle;\n",
       "    }\n",
       "\n",
       "    .dataframe tbody tr th {\n",
       "        vertical-align: top;\n",
       "    }\n",
       "\n",
       "    .dataframe thead th {\n",
       "        text-align: right;\n",
       "    }\n",
       "</style>\n",
       "<table border=\"1\" class=\"dataframe\">\n",
       "  <thead>\n",
       "    <tr style=\"text-align: right;\">\n",
       "      <th></th>\n",
       "      <th>V1</th>\n",
       "      <th>Id</th>\n",
       "      <th>Expected</th>\n",
       "    </tr>\n",
       "  </thead>\n",
       "  <tbody>\n",
       "    <tr>\n",
       "      <th>0</th>\n",
       "      <td>2971-36-0</td>\n",
       "      <td>1644</td>\n",
       "      <td>2</td>\n",
       "    </tr>\n",
       "    <tr>\n",
       "      <th>1</th>\n",
       "      <td>693-54-9</td>\n",
       "      <td>2451</td>\n",
       "      <td>2</td>\n",
       "    </tr>\n",
       "    <tr>\n",
       "      <th>2</th>\n",
       "      <td>7173-51-5</td>\n",
       "      <td>1384</td>\n",
       "      <td>2</td>\n",
       "    </tr>\n",
       "    <tr>\n",
       "      <th>3</th>\n",
       "      <td>138261-41-3</td>\n",
       "      <td>16</td>\n",
       "      <td>2</td>\n",
       "    </tr>\n",
       "    <tr>\n",
       "      <th>4</th>\n",
       "      <td>7681-82-5</td>\n",
       "      <td>1856</td>\n",
       "      <td>2</td>\n",
       "    </tr>\n",
       "  </tbody>\n",
       "</table>\n",
       "</div>"
      ],
      "text/plain": [
       "            V1    Id  Expected\n",
       "0    2971-36-0  1644         2\n",
       "1     693-54-9  2451         2\n",
       "2    7173-51-5  1384         2\n",
       "3  138261-41-3    16         2\n",
       "4    7681-82-5  1856         2"
      ]
     },
     "execution_count": 3,
     "metadata": {},
     "output_type": "execute_result"
    }
   ],
   "source": [
    "train_df.reset_index(inplace=True)\n",
    "train_df = train_df.rename(columns={\"index\": \"V1\"})\n",
    "train_df.head()"
   ]
  },
  {
   "cell_type": "code",
   "execution_count": 4,
   "metadata": {
    "execution": {
     "iopub.execute_input": "2021-03-18T22:21:00.833708Z",
     "iopub.status.busy": "2021-03-18T22:21:00.832743Z",
     "iopub.status.idle": "2021-03-18T22:21:00.838445Z",
     "shell.execute_reply": "2021-03-18T22:21:00.839027Z"
    },
    "papermill": {
     "duration": 0.039662,
     "end_time": "2021-03-18T22:21:00.839205",
     "exception": false,
     "start_time": "2021-03-18T22:21:00.799543",
     "status": "completed"
    },
    "tags": []
   },
   "outputs": [
    {
     "data": {
      "text/plain": [
       "(77413, 3)"
      ]
     },
     "execution_count": 4,
     "metadata": {},
     "output_type": "execute_result"
    }
   ],
   "source": [
    "#check its shape\n",
    "train_df.shape"
   ]
  },
  {
   "cell_type": "code",
   "execution_count": 5,
   "metadata": {
    "execution": {
     "iopub.execute_input": "2021-03-18T22:21:00.905588Z",
     "iopub.status.busy": "2021-03-18T22:21:00.904564Z",
     "iopub.status.idle": "2021-03-18T22:21:00.912226Z",
     "shell.execute_reply": "2021-03-18T22:21:00.912787Z"
    },
    "papermill": {
     "duration": 0.043313,
     "end_time": "2021-03-18T22:21:00.912994",
     "exception": false,
     "start_time": "2021-03-18T22:21:00.869681",
     "status": "completed"
    },
    "tags": []
   },
   "outputs": [
    {
     "data": {
      "text/plain": [
       "V1          object\n",
       "Id           int64\n",
       "Expected     int64\n",
       "dtype: object"
      ]
     },
     "execution_count": 5,
     "metadata": {},
     "output_type": "execute_result"
    }
   ],
   "source": [
    "#check its datatype\n",
    "train_df.dtypes"
   ]
  },
  {
   "cell_type": "markdown",
   "metadata": {
    "papermill": {
     "duration": 0.032227,
     "end_time": "2021-03-18T22:21:00.976226",
     "exception": false,
     "start_time": "2021-03-18T22:21:00.943999",
     "status": "completed"
    },
    "tags": []
   },
   "source": [
    "### Step 2 (a). Preparing the dataset for each assay\n",
    "> Parsing the train.csv file and extracting rows for each assay on a different file."
   ]
  },
  {
   "cell_type": "code",
   "execution_count": 6,
   "metadata": {
    "execution": {
     "iopub.execute_input": "2021-03-18T22:21:01.046923Z",
     "iopub.status.busy": "2021-03-18T22:21:01.045527Z",
     "iopub.status.idle": "2021-03-18T22:21:01.077424Z",
     "shell.execute_reply": "2021-03-18T22:21:01.076816Z"
    },
    "papermill": {
     "duration": 0.067304,
     "end_time": "2021-03-18T22:21:01.077574",
     "exception": false,
     "start_time": "2021-03-18T22:21:01.010270",
     "status": "completed"
    },
    "tags": []
   },
   "outputs": [
    {
     "name": "stdout",
     "output_type": "stream",
     "text": [
      "['2971-36-0' '693-54-9' '7173-51-5' ... '104-50-7' '2021-28-5' '6358-09-4']\n",
      "\n",
      " There are 3393 unique Assay Id's\n"
     ]
    }
   ],
   "source": [
    "#Finding out how many unique chemical ID's are there.\n",
    "print(train_df['V1'].unique())\n",
    "print(\"\\n There are {} unique Assay Id's\".format(len(train_df['V1'].unique())))"
   ]
  },
  {
   "cell_type": "markdown",
   "metadata": {
    "papermill": {
     "duration": 0.031363,
     "end_time": "2021-03-18T22:21:01.142024",
     "exception": false,
     "start_time": "2021-03-18T22:21:01.110661",
     "status": "completed"
    },
    "tags": []
   },
   "source": [
    "### Step 2(b) Reading feamat.csv"
   ]
  },
  {
   "cell_type": "code",
   "execution_count": 7,
   "metadata": {
    "execution": {
     "iopub.execute_input": "2021-03-18T22:21:01.211236Z",
     "iopub.status.busy": "2021-03-18T22:21:01.210386Z",
     "iopub.status.idle": "2021-03-18T22:21:14.672187Z",
     "shell.execute_reply": "2021-03-18T22:21:14.672849Z"
    },
    "papermill": {
     "duration": 13.499235,
     "end_time": "2021-03-18T22:21:14.673042",
     "exception": false,
     "start_time": "2021-03-18T22:21:01.173807",
     "status": "completed"
    },
    "tags": []
   },
   "outputs": [
    {
     "name": "stderr",
     "output_type": "stream",
     "text": [
      "/opt/conda/lib/python3.7/site-packages/ipykernel_launcher.py:1: ParserWarning: Falling back to the 'python' engine because the 'c' engine does not support regex separators (separators > 1 char and different from '\\s+' are interpreted as regex); you can avoid this warning by specifying engine='python'.\n",
      "  \"\"\"Entry point for launching an IPython kernel.\n"
     ]
    },
    {
     "data": {
      "text/html": [
       "<div>\n",
       "<style scoped>\n",
       "    .dataframe tbody tr th:only-of-type {\n",
       "        vertical-align: middle;\n",
       "    }\n",
       "\n",
       "    .dataframe tbody tr th {\n",
       "        vertical-align: top;\n",
       "    }\n",
       "\n",
       "    .dataframe thead th {\n",
       "        text-align: right;\n",
       "    }\n",
       "</style>\n",
       "<table border=\"1\" class=\"dataframe\">\n",
       "  <thead>\n",
       "    <tr style=\"text-align: right;\">\n",
       "      <th></th>\n",
       "      <th>V1</th>\n",
       "      <th>V2</th>\n",
       "      <th>V3</th>\n",
       "      <th>V4</th>\n",
       "      <th>V5</th>\n",
       "      <th>V6</th>\n",
       "      <th>V7</th>\n",
       "      <th>V8</th>\n",
       "      <th>V9</th>\n",
       "      <th>V10</th>\n",
       "      <th>...</th>\n",
       "      <th>V1066</th>\n",
       "      <th>V1067</th>\n",
       "      <th>V1068</th>\n",
       "      <th>V1069</th>\n",
       "      <th>V1070</th>\n",
       "      <th>V1071</th>\n",
       "      <th>V1072</th>\n",
       "      <th>V1073</th>\n",
       "      <th>V1074</th>\n",
       "      <th>V1075</th>\n",
       "    </tr>\n",
       "  </thead>\n",
       "  <tbody>\n",
       "    <tr>\n",
       "      <th>0</th>\n",
       "      <td>60-35-5</td>\n",
       "      <td>178</td>\n",
       "      <td>59.037114</td>\n",
       "      <td>-0.808</td>\n",
       "      <td>43.09</td>\n",
       "      <td>0.0</td>\n",
       "      <td>0.0</td>\n",
       "      <td>0.0</td>\n",
       "      <td>0.000000</td>\n",
       "      <td>0.000000</td>\n",
       "      <td>...</td>\n",
       "      <td>0</td>\n",
       "      <td>0</td>\n",
       "      <td>0</td>\n",
       "      <td>0</td>\n",
       "      <td>0</td>\n",
       "      <td>0</td>\n",
       "      <td>0</td>\n",
       "      <td>0</td>\n",
       "      <td>0</td>\n",
       "      <td>0</td>\n",
       "    </tr>\n",
       "    <tr>\n",
       "      <th>1</th>\n",
       "      <td>103-90-2</td>\n",
       "      <td>1983</td>\n",
       "      <td>151.063329</td>\n",
       "      <td>0.870</td>\n",
       "      <td>49.33</td>\n",
       "      <td>0.0</td>\n",
       "      <td>0.0</td>\n",
       "      <td>0.0</td>\n",
       "      <td>0.083333</td>\n",
       "      <td>0.142259</td>\n",
       "      <td>...</td>\n",
       "      <td>0</td>\n",
       "      <td>0</td>\n",
       "      <td>0</td>\n",
       "      <td>0</td>\n",
       "      <td>0</td>\n",
       "      <td>0</td>\n",
       "      <td>0</td>\n",
       "      <td>0</td>\n",
       "      <td>0</td>\n",
       "      <td>0</td>\n",
       "    </tr>\n",
       "    <tr>\n",
       "      <th>2</th>\n",
       "      <td>968-81-0</td>\n",
       "      <td>1989</td>\n",
       "      <td>324.114378</td>\n",
       "      <td>2.960</td>\n",
       "      <td>100.72</td>\n",
       "      <td>0.0</td>\n",
       "      <td>0.0</td>\n",
       "      <td>0.0</td>\n",
       "      <td>0.185395</td>\n",
       "      <td>0.161948</td>\n",
       "      <td>...</td>\n",
       "      <td>0</td>\n",
       "      <td>0</td>\n",
       "      <td>0</td>\n",
       "      <td>0</td>\n",
       "      <td>0</td>\n",
       "      <td>0</td>\n",
       "      <td>0</td>\n",
       "      <td>0</td>\n",
       "      <td>0</td>\n",
       "      <td>0</td>\n",
       "    </tr>\n",
       "    <tr>\n",
       "      <th>3</th>\n",
       "      <td>520-45-6</td>\n",
       "      <td>122903</td>\n",
       "      <td>168.042259</td>\n",
       "      <td>-0.551</td>\n",
       "      <td>60.44</td>\n",
       "      <td>0.0</td>\n",
       "      <td>0.0</td>\n",
       "      <td>0.0</td>\n",
       "      <td>0.055556</td>\n",
       "      <td>0.198742</td>\n",
       "      <td>...</td>\n",
       "      <td>0</td>\n",
       "      <td>0</td>\n",
       "      <td>0</td>\n",
       "      <td>0</td>\n",
       "      <td>0</td>\n",
       "      <td>0</td>\n",
       "      <td>0</td>\n",
       "      <td>0</td>\n",
       "      <td>0</td>\n",
       "      <td>0</td>\n",
       "    </tr>\n",
       "    <tr>\n",
       "      <th>4</th>\n",
       "      <td>50594-66-6</td>\n",
       "      <td>44073</td>\n",
       "      <td>360.996485</td>\n",
       "      <td>4.557</td>\n",
       "      <td>89.67</td>\n",
       "      <td>0.0</td>\n",
       "      <td>0.0</td>\n",
       "      <td>0.0</td>\n",
       "      <td>0.136083</td>\n",
       "      <td>0.276855</td>\n",
       "      <td>...</td>\n",
       "      <td>0</td>\n",
       "      <td>0</td>\n",
       "      <td>0</td>\n",
       "      <td>0</td>\n",
       "      <td>0</td>\n",
       "      <td>0</td>\n",
       "      <td>0</td>\n",
       "      <td>0</td>\n",
       "      <td>0</td>\n",
       "      <td>0</td>\n",
       "    </tr>\n",
       "  </tbody>\n",
       "</table>\n",
       "<p>5 rows × 1075 columns</p>\n",
       "</div>"
      ],
      "text/plain": [
       "           V1      V2          V3     V4      V5   V6   V7   V8        V9  \\\n",
       "0     60-35-5     178   59.037114 -0.808   43.09  0.0  0.0  0.0  0.000000   \n",
       "1    103-90-2    1983  151.063329  0.870   49.33  0.0  0.0  0.0  0.083333   \n",
       "2    968-81-0    1989  324.114378  2.960  100.72  0.0  0.0  0.0  0.185395   \n",
       "3    520-45-6  122903  168.042259 -0.551   60.44  0.0  0.0  0.0  0.055556   \n",
       "4  50594-66-6   44073  360.996485  4.557   89.67  0.0  0.0  0.0  0.136083   \n",
       "\n",
       "        V10  ...  V1066  V1067  V1068  V1069  V1070  V1071  V1072  V1073  \\\n",
       "0  0.000000  ...      0      0      0      0      0      0      0      0   \n",
       "1  0.142259  ...      0      0      0      0      0      0      0      0   \n",
       "2  0.161948  ...      0      0      0      0      0      0      0      0   \n",
       "3  0.198742  ...      0      0      0      0      0      0      0      0   \n",
       "4  0.276855  ...      0      0      0      0      0      0      0      0   \n",
       "\n",
       "   V1074  V1075  \n",
       "0      0      0  \n",
       "1      0      0  \n",
       "2      0      0  \n",
       "3      0      0  \n",
       "4      0      0  \n",
       "\n",
       "[5 rows x 1075 columns]"
      ]
     },
     "execution_count": 7,
     "metadata": {},
     "output_type": "execute_result"
    }
   ],
   "source": [
    "feamat_df = pd.read_csv('/kaggle/input/the-toxicity-prediction-challenge/feamat.csv', sep=';|,')\n",
    "feamat_df.head()"
   ]
  },
  {
   "cell_type": "code",
   "execution_count": 8,
   "metadata": {
    "execution": {
     "iopub.execute_input": "2021-03-18T22:21:14.746250Z",
     "iopub.status.busy": "2021-03-18T22:21:14.745131Z",
     "iopub.status.idle": "2021-03-18T22:21:14.749635Z",
     "shell.execute_reply": "2021-03-18T22:21:14.749044Z"
    },
    "papermill": {
     "duration": 0.043688,
     "end_time": "2021-03-18T22:21:14.749917",
     "exception": false,
     "start_time": "2021-03-18T22:21:14.706229",
     "status": "completed"
    },
    "tags": []
   },
   "outputs": [
    {
     "data": {
      "text/plain": [
       "(8831, 1075)"
      ]
     },
     "execution_count": 8,
     "metadata": {},
     "output_type": "execute_result"
    }
   ],
   "source": [
    "#check its shape\n",
    "feamat_df.shape"
   ]
  },
  {
   "cell_type": "code",
   "execution_count": 9,
   "metadata": {
    "execution": {
     "iopub.execute_input": "2021-03-18T22:21:14.820486Z",
     "iopub.status.busy": "2021-03-18T22:21:14.819693Z",
     "iopub.status.idle": "2021-03-18T22:21:14.827217Z",
     "shell.execute_reply": "2021-03-18T22:21:14.827713Z"
    },
    "papermill": {
     "duration": 0.045026,
     "end_time": "2021-03-18T22:21:14.827943",
     "exception": false,
     "start_time": "2021-03-18T22:21:14.782917",
     "status": "completed"
    },
    "tags": []
   },
   "outputs": [
    {
     "data": {
      "text/plain": [
       "V1        object\n",
       "V2         int64\n",
       "V3       float64\n",
       "V4       float64\n",
       "V5       float64\n",
       "          ...   \n",
       "V1071      int64\n",
       "V1072      int64\n",
       "V1073      int64\n",
       "V1074      int64\n",
       "V1075      int64\n",
       "Length: 1075, dtype: object"
      ]
     },
     "execution_count": 9,
     "metadata": {},
     "output_type": "execute_result"
    }
   ],
   "source": [
    "#check its data type\n",
    "feamat_df.dtypes"
   ]
  },
  {
   "cell_type": "markdown",
   "metadata": {
    "papermill": {
     "duration": 0.033583,
     "end_time": "2021-03-18T22:21:14.894950",
     "exception": false,
     "start_time": "2021-03-18T22:21:14.861367",
     "status": "completed"
    },
    "tags": []
   },
   "source": [
    "### Step 2 (c) Matching the first column of feamat.csv with train.csv"
   ]
  },
  {
   "cell_type": "code",
   "execution_count": 10,
   "metadata": {
    "execution": {
     "iopub.execute_input": "2021-03-18T22:21:14.967279Z",
     "iopub.status.busy": "2021-03-18T22:21:14.966501Z",
     "iopub.status.idle": "2021-03-18T22:21:16.343869Z",
     "shell.execute_reply": "2021-03-18T22:21:16.343215Z"
    },
    "papermill": {
     "duration": 1.414708,
     "end_time": "2021-03-18T22:21:16.344040",
     "exception": false,
     "start_time": "2021-03-18T22:21:14.929332",
     "status": "completed"
    },
    "tags": []
   },
   "outputs": [
    {
     "data": {
      "text/html": [
       "<div>\n",
       "<style scoped>\n",
       "    .dataframe tbody tr th:only-of-type {\n",
       "        vertical-align: middle;\n",
       "    }\n",
       "\n",
       "    .dataframe tbody tr th {\n",
       "        vertical-align: top;\n",
       "    }\n",
       "\n",
       "    .dataframe thead th {\n",
       "        text-align: right;\n",
       "    }\n",
       "</style>\n",
       "<table border=\"1\" class=\"dataframe\">\n",
       "  <thead>\n",
       "    <tr style=\"text-align: right;\">\n",
       "      <th></th>\n",
       "      <th>V1</th>\n",
       "      <th>Id</th>\n",
       "      <th>Expected</th>\n",
       "      <th>V2</th>\n",
       "      <th>V3</th>\n",
       "      <th>V4</th>\n",
       "      <th>V5</th>\n",
       "      <th>V6</th>\n",
       "      <th>V7</th>\n",
       "      <th>V8</th>\n",
       "      <th>...</th>\n",
       "      <th>V1066</th>\n",
       "      <th>V1067</th>\n",
       "      <th>V1068</th>\n",
       "      <th>V1069</th>\n",
       "      <th>V1070</th>\n",
       "      <th>V1071</th>\n",
       "      <th>V1072</th>\n",
       "      <th>V1073</th>\n",
       "      <th>V1074</th>\n",
       "      <th>V1075</th>\n",
       "    </tr>\n",
       "  </thead>\n",
       "  <tbody>\n",
       "    <tr>\n",
       "      <th>0</th>\n",
       "      <td>2971-36-0</td>\n",
       "      <td>1644</td>\n",
       "      <td>2</td>\n",
       "      <td>76302</td>\n",
       "      <td>315.982463</td>\n",
       "      <td>4.592</td>\n",
       "      <td>40.46</td>\n",
       "      <td>0.0</td>\n",
       "      <td>0.0</td>\n",
       "      <td>0.000000</td>\n",
       "      <td>...</td>\n",
       "      <td>0</td>\n",
       "      <td>0</td>\n",
       "      <td>0</td>\n",
       "      <td>0</td>\n",
       "      <td>0</td>\n",
       "      <td>0</td>\n",
       "      <td>0</td>\n",
       "      <td>0</td>\n",
       "      <td>0</td>\n",
       "      <td>0</td>\n",
       "    </tr>\n",
       "    <tr>\n",
       "      <th>1</th>\n",
       "      <td>693-54-9</td>\n",
       "      <td>2451</td>\n",
       "      <td>2</td>\n",
       "      <td>12741</td>\n",
       "      <td>156.151415</td>\n",
       "      <td>3.852</td>\n",
       "      <td>17.07</td>\n",
       "      <td>0.0</td>\n",
       "      <td>0.0</td>\n",
       "      <td>0.000000</td>\n",
       "      <td>...</td>\n",
       "      <td>0</td>\n",
       "      <td>0</td>\n",
       "      <td>0</td>\n",
       "      <td>0</td>\n",
       "      <td>0</td>\n",
       "      <td>0</td>\n",
       "      <td>0</td>\n",
       "      <td>0</td>\n",
       "      <td>0</td>\n",
       "      <td>0</td>\n",
       "    </tr>\n",
       "    <tr>\n",
       "      <th>2</th>\n",
       "      <td>7173-51-5</td>\n",
       "      <td>1384</td>\n",
       "      <td>2</td>\n",
       "      <td>23558</td>\n",
       "      <td>361.347528</td>\n",
       "      <td>9.912</td>\n",
       "      <td>0.00</td>\n",
       "      <td>0.0</td>\n",
       "      <td>0.0</td>\n",
       "      <td>0.000000</td>\n",
       "      <td>...</td>\n",
       "      <td>0</td>\n",
       "      <td>0</td>\n",
       "      <td>0</td>\n",
       "      <td>0</td>\n",
       "      <td>0</td>\n",
       "      <td>0</td>\n",
       "      <td>0</td>\n",
       "      <td>0</td>\n",
       "      <td>0</td>\n",
       "      <td>0</td>\n",
       "    </tr>\n",
       "    <tr>\n",
       "      <th>3</th>\n",
       "      <td>138261-41-3</td>\n",
       "      <td>16</td>\n",
       "      <td>2</td>\n",
       "      <td>86418</td>\n",
       "      <td>255.052302</td>\n",
       "      <td>2.294</td>\n",
       "      <td>83.66</td>\n",
       "      <td>0.0</td>\n",
       "      <td>0.0</td>\n",
       "      <td>0.117851</td>\n",
       "      <td>...</td>\n",
       "      <td>0</td>\n",
       "      <td>0</td>\n",
       "      <td>0</td>\n",
       "      <td>0</td>\n",
       "      <td>0</td>\n",
       "      <td>0</td>\n",
       "      <td>0</td>\n",
       "      <td>0</td>\n",
       "      <td>0</td>\n",
       "      <td>0</td>\n",
       "    </tr>\n",
       "    <tr>\n",
       "      <th>4</th>\n",
       "      <td>7681-82-5</td>\n",
       "      <td>1856</td>\n",
       "      <td>2</td>\n",
       "      <td>5238</td>\n",
       "      <td>149.894242</td>\n",
       "      <td>1.050</td>\n",
       "      <td>0.00</td>\n",
       "      <td>0.0</td>\n",
       "      <td>0.0</td>\n",
       "      <td>0.000000</td>\n",
       "      <td>...</td>\n",
       "      <td>0</td>\n",
       "      <td>0</td>\n",
       "      <td>0</td>\n",
       "      <td>0</td>\n",
       "      <td>0</td>\n",
       "      <td>0</td>\n",
       "      <td>0</td>\n",
       "      <td>0</td>\n",
       "      <td>0</td>\n",
       "      <td>0</td>\n",
       "    </tr>\n",
       "  </tbody>\n",
       "</table>\n",
       "<p>5 rows × 1077 columns</p>\n",
       "</div>"
      ],
      "text/plain": [
       "            V1    Id  Expected     V2          V3     V4     V5   V6   V7  \\\n",
       "0    2971-36-0  1644         2  76302  315.982463  4.592  40.46  0.0  0.0   \n",
       "1     693-54-9  2451         2  12741  156.151415  3.852  17.07  0.0  0.0   \n",
       "2    7173-51-5  1384         2  23558  361.347528  9.912   0.00  0.0  0.0   \n",
       "3  138261-41-3    16         2  86418  255.052302  2.294  83.66  0.0  0.0   \n",
       "4    7681-82-5  1856         2   5238  149.894242  1.050   0.00  0.0  0.0   \n",
       "\n",
       "         V8  ...  V1066  V1067  V1068  V1069  V1070  V1071  V1072  V1073  \\\n",
       "0  0.000000  ...      0      0      0      0      0      0      0      0   \n",
       "1  0.000000  ...      0      0      0      0      0      0      0      0   \n",
       "2  0.000000  ...      0      0      0      0      0      0      0      0   \n",
       "3  0.117851  ...      0      0      0      0      0      0      0      0   \n",
       "4  0.000000  ...      0      0      0      0      0      0      0      0   \n",
       "\n",
       "   V1074  V1075  \n",
       "0      0      0  \n",
       "1      0      0  \n",
       "2      0      0  \n",
       "3      0      0  \n",
       "4      0      0  \n",
       "\n",
       "[5 rows x 1077 columns]"
      ]
     },
     "execution_count": 10,
     "metadata": {},
     "output_type": "execute_result"
    }
   ],
   "source": [
    "combined_df = train_df.merge(feamat_df, on = ['V1'],how = 'left')\n",
    "combined_df.head()\n"
   ]
  },
  {
   "cell_type": "code",
   "execution_count": 11,
   "metadata": {
    "execution": {
     "iopub.execute_input": "2021-03-18T22:21:16.418914Z",
     "iopub.status.busy": "2021-03-18T22:21:16.418094Z",
     "iopub.status.idle": "2021-03-18T22:21:16.421999Z",
     "shell.execute_reply": "2021-03-18T22:21:16.421419Z"
    },
    "papermill": {
     "duration": 0.043752,
     "end_time": "2021-03-18T22:21:16.422165",
     "exception": false,
     "start_time": "2021-03-18T22:21:16.378413",
     "status": "completed"
    },
    "tags": []
   },
   "outputs": [
    {
     "data": {
      "text/plain": [
       "(77413, 1077)"
      ]
     },
     "execution_count": 11,
     "metadata": {},
     "output_type": "execute_result"
    }
   ],
   "source": [
    "#check its shape\n",
    "combined_df.shape"
   ]
  },
  {
   "cell_type": "markdown",
   "metadata": {
    "papermill": {
     "duration": 0.034539,
     "end_time": "2021-03-18T22:21:16.491463",
     "exception": false,
     "start_time": "2021-03-18T22:21:16.456924",
     "status": "completed"
    },
    "tags": []
   },
   "source": [
    "### DATA PREPROCESSING\n",
    "#### 1. INF VALUES\n",
    "> dataset contains inf values, so we need to remove those. Replacing inf with nan value and later imputing the nan values"
   ]
  },
  {
   "cell_type": "code",
   "execution_count": 12,
   "metadata": {
    "execution": {
     "iopub.execute_input": "2021-03-18T22:21:16.568154Z",
     "iopub.status.busy": "2021-03-18T22:21:16.567455Z",
     "iopub.status.idle": "2021-03-18T22:21:17.389275Z",
     "shell.execute_reply": "2021-03-18T22:21:17.388361Z"
    },
    "papermill": {
     "duration": 0.862051,
     "end_time": "2021-03-18T22:21:17.389444",
     "exception": false,
     "start_time": "2021-03-18T22:21:16.527393",
     "status": "completed"
    },
    "tags": []
   },
   "outputs": [],
   "source": [
    "#replacing inf with nan value\n",
    "import numpy as np\n",
    "combined_df = combined_df.replace([np.inf, -np.inf], np.nan)"
   ]
  },
  {
   "cell_type": "markdown",
   "metadata": {
    "papermill": {
     "duration": 0.034737,
     "end_time": "2021-03-18T22:21:17.459340",
     "exception": false,
     "start_time": "2021-03-18T22:21:17.424603",
     "status": "completed"
    },
    "tags": []
   },
   "source": [
    "#### 2. Checking null and nan values\n",
    "> contains 1 null value & nan value"
   ]
  },
  {
   "cell_type": "code",
   "execution_count": 13,
   "metadata": {
    "execution": {
     "iopub.execute_input": "2021-03-18T22:21:17.535950Z",
     "iopub.status.busy": "2021-03-18T22:21:17.535193Z",
     "iopub.status.idle": "2021-03-18T22:21:17.587531Z",
     "shell.execute_reply": "2021-03-18T22:21:17.586809Z"
    },
    "papermill": {
     "duration": 0.093438,
     "end_time": "2021-03-18T22:21:17.587682",
     "exception": false,
     "start_time": "2021-03-18T22:21:17.494244",
     "status": "completed"
    },
    "tags": []
   },
   "outputs": [
    {
     "data": {
      "text/plain": [
       "1"
      ]
     },
     "execution_count": 13,
     "metadata": {},
     "output_type": "execute_result"
    }
   ],
   "source": [
    "combined_df.isnull().any().sum()"
   ]
  },
  {
   "cell_type": "markdown",
   "metadata": {
    "papermill": {
     "duration": 0.034932,
     "end_time": "2021-03-18T22:21:17.658202",
     "exception": false,
     "start_time": "2021-03-18T22:21:17.623270",
     "status": "completed"
    },
    "tags": []
   },
   "source": [
    "#### 3. Fill nan value"
   ]
  },
  {
   "cell_type": "code",
   "execution_count": 14,
   "metadata": {
    "execution": {
     "iopub.execute_input": "2021-03-18T22:21:17.733710Z",
     "iopub.status.busy": "2021-03-18T22:21:17.733057Z",
     "iopub.status.idle": "2021-03-18T22:21:18.026015Z",
     "shell.execute_reply": "2021-03-18T22:21:18.025396Z"
    },
    "papermill": {
     "duration": 0.332702,
     "end_time": "2021-03-18T22:21:18.026166",
     "exception": false,
     "start_time": "2021-03-18T22:21:17.693464",
     "status": "completed"
    },
    "tags": []
   },
   "outputs": [],
   "source": [
    "combined_df = combined_df.fillna(0)"
   ]
  },
  {
   "cell_type": "markdown",
   "metadata": {
    "papermill": {
     "duration": 0.036658,
     "end_time": "2021-03-18T22:21:18.098388",
     "exception": false,
     "start_time": "2021-03-18T22:21:18.061730",
     "status": "completed"
    },
    "tags": []
   },
   "source": [
    "#### 4. Find number of classes for target variable¶\n",
    "> As can be seen there are only 2 labels, it is a binary classification problem."
   ]
  },
  {
   "cell_type": "code",
   "execution_count": 15,
   "metadata": {
    "execution": {
     "iopub.execute_input": "2021-03-18T22:21:18.181857Z",
     "iopub.status.busy": "2021-03-18T22:21:18.180367Z",
     "iopub.status.idle": "2021-03-18T22:21:18.185266Z",
     "shell.execute_reply": "2021-03-18T22:21:18.184552Z"
    },
    "papermill": {
     "duration": 0.051876,
     "end_time": "2021-03-18T22:21:18.185428",
     "exception": false,
     "start_time": "2021-03-18T22:21:18.133552",
     "status": "completed"
    },
    "tags": []
   },
   "outputs": [
    {
     "data": {
      "text/plain": [
       "2    66495\n",
       "1    10918\n",
       "Name: Expected, dtype: int64"
      ]
     },
     "execution_count": 15,
     "metadata": {},
     "output_type": "execute_result"
    }
   ],
   "source": [
    "combined_df['Expected'].value_counts()\n"
   ]
  },
  {
   "cell_type": "markdown",
   "metadata": {
    "papermill": {
     "duration": 0.03541,
     "end_time": "2021-03-18T22:21:18.257581",
     "exception": false,
     "start_time": "2021-03-18T22:21:18.222171",
     "status": "completed"
    },
    "tags": []
   },
   "source": [
    "#### 5. Plotting class distributions\n",
    "> It can be seen that class 2 has more number of samples than class 1, so it is clear case of unbalanced datase"
   ]
  },
  {
   "cell_type": "code",
   "execution_count": 16,
   "metadata": {
    "execution": {
     "iopub.execute_input": "2021-03-18T22:21:18.338274Z",
     "iopub.status.busy": "2021-03-18T22:21:18.337562Z",
     "iopub.status.idle": "2021-03-18T22:21:19.494762Z",
     "shell.execute_reply": "2021-03-18T22:21:19.494223Z"
    },
    "papermill": {
     "duration": 1.201527,
     "end_time": "2021-03-18T22:21:19.494926",
     "exception": false,
     "start_time": "2021-03-18T22:21:18.293399",
     "status": "completed"
    },
    "tags": []
   },
   "outputs": [
    {
     "name": "stderr",
     "output_type": "stream",
     "text": [
      "/opt/conda/lib/python3.7/site-packages/seaborn/_decorators.py:43: FutureWarning: Pass the following variables as keyword args: x, y. From version 0.12, the only valid positional argument will be `data`, and passing other arguments without an explicit keyword will result in an error or misinterpretation.\n",
      "  FutureWarning\n"
     ]
    },
    {
     "data": {
      "image/png": "[encoded data removed]",
      "text/plain": [
       "<Figure size 720x360 with 1 Axes>"
      ]
     },
     "metadata": {
      "needs_background": "light"
     },
     "output_type": "display_data"
    }
   ],
   "source": [
    "from matplotlib import pyplot as plt\n",
    "import seaborn as sns\n",
    "class_count  = combined_df['Expected'].value_counts()\n",
    "plt.figure(figsize=(10,5))\n",
    "sns.barplot(class_count.index, class_count.values, alpha=0.8)\n",
    "plt.title('Class Distribution')\n",
    "plt.ylabel('Frequency', fontsize=12)\n",
    "plt.xlabel('Class', fontsize=12)\n",
    "plt.show()"
   ]
  },
  {
   "cell_type": "markdown",
   "metadata": {
    "papermill": {
     "duration": 0.036972,
     "end_time": "2021-03-18T22:21:19.569275",
     "exception": false,
     "start_time": "2021-03-18T22:21:19.532303",
     "status": "completed"
    },
    "tags": []
   },
   "source": [
    "#### 6. Enconding Object Data type"
   ]
  },
  {
   "cell_type": "code",
   "execution_count": 17,
   "metadata": {
    "execution": {
     "iopub.execute_input": "2021-03-18T22:21:19.656432Z",
     "iopub.status.busy": "2021-03-18T22:21:19.655412Z",
     "iopub.status.idle": "2021-03-18T22:21:19.664962Z",
     "shell.execute_reply": "2021-03-18T22:21:19.664288Z"
    },
    "papermill": {
     "duration": 0.058605,
     "end_time": "2021-03-18T22:21:19.665112",
     "exception": false,
     "start_time": "2021-03-18T22:21:19.606507",
     "status": "completed"
    },
    "tags": []
   },
   "outputs": [
    {
     "data": {
      "text/plain": [
       "2295-58-1     1\n",
       "22936-75-0    1\n",
       "4994-16-5     1\n",
       "150-13-0      1\n",
       "92623-83-1    1\n",
       "             ..\n",
       "78-94-4       1\n",
       "3118-97-6     1\n",
       "485-72-3      1\n",
       "32986-56-4    1\n",
       "71-67-0       1\n",
       "Name: V1, Length: 8831, dtype: int64"
      ]
     },
     "execution_count": 17,
     "metadata": {},
     "output_type": "execute_result"
    }
   ],
   "source": [
    "#value counts\n",
    "feamat_df[\"V1\"].value_counts()"
   ]
  },
  {
   "cell_type": "markdown",
   "metadata": {
    "papermill": {
     "duration": 0.038299,
     "end_time": "2021-03-18T22:21:19.741490",
     "exception": false,
     "start_time": "2021-03-18T22:21:19.703191",
     "status": "completed"
    },
    "tags": []
   },
   "source": [
    "#### 7. Label Encoding"
   ]
  },
  {
   "cell_type": "code",
   "execution_count": 18,
   "metadata": {
    "execution": {
     "iopub.execute_input": "2021-03-18T22:21:19.823509Z",
     "iopub.status.busy": "2021-03-18T22:21:19.822809Z",
     "iopub.status.idle": "2021-03-18T22:21:20.080074Z",
     "shell.execute_reply": "2021-03-18T22:21:20.079383Z"
    },
    "papermill": {
     "duration": 0.299083,
     "end_time": "2021-03-18T22:21:20.080230",
     "exception": false,
     "start_time": "2021-03-18T22:21:19.781147",
     "status": "completed"
    },
    "tags": []
   },
   "outputs": [
    {
     "data": {
      "text/html": [
       "<div>\n",
       "<style scoped>\n",
       "    .dataframe tbody tr th:only-of-type {\n",
       "        vertical-align: middle;\n",
       "    }\n",
       "\n",
       "    .dataframe tbody tr th {\n",
       "        vertical-align: top;\n",
       "    }\n",
       "\n",
       "    .dataframe thead th {\n",
       "        text-align: right;\n",
       "    }\n",
       "</style>\n",
       "<table border=\"1\" class=\"dataframe\">\n",
       "  <thead>\n",
       "    <tr style=\"text-align: right;\">\n",
       "      <th></th>\n",
       "      <th>V1</th>\n",
       "      <th>V2</th>\n",
       "      <th>V3</th>\n",
       "      <th>V4</th>\n",
       "      <th>V5</th>\n",
       "      <th>V6</th>\n",
       "      <th>V7</th>\n",
       "      <th>V8</th>\n",
       "      <th>V9</th>\n",
       "      <th>V10</th>\n",
       "      <th>...</th>\n",
       "      <th>V1066</th>\n",
       "      <th>V1067</th>\n",
       "      <th>V1068</th>\n",
       "      <th>V1069</th>\n",
       "      <th>V1070</th>\n",
       "      <th>V1071</th>\n",
       "      <th>V1072</th>\n",
       "      <th>V1073</th>\n",
       "      <th>V1074</th>\n",
       "      <th>V1075</th>\n",
       "    </tr>\n",
       "  </thead>\n",
       "  <tbody>\n",
       "    <tr>\n",
       "      <th>0</th>\n",
       "      <td>6088</td>\n",
       "      <td>178</td>\n",
       "      <td>59.037114</td>\n",
       "      <td>-0.808</td>\n",
       "      <td>43.09</td>\n",
       "      <td>0.0</td>\n",
       "      <td>0.0</td>\n",
       "      <td>0.0</td>\n",
       "      <td>0.000000</td>\n",
       "      <td>0.000000</td>\n",
       "      <td>...</td>\n",
       "      <td>0</td>\n",
       "      <td>0</td>\n",
       "      <td>0</td>\n",
       "      <td>0</td>\n",
       "      <td>0</td>\n",
       "      <td>0</td>\n",
       "      <td>0</td>\n",
       "      <td>0</td>\n",
       "      <td>0</td>\n",
       "      <td>0</td>\n",
       "    </tr>\n",
       "    <tr>\n",
       "      <th>1</th>\n",
       "      <td>246</td>\n",
       "      <td>1983</td>\n",
       "      <td>151.063329</td>\n",
       "      <td>0.870</td>\n",
       "      <td>49.33</td>\n",
       "      <td>0.0</td>\n",
       "      <td>0.0</td>\n",
       "      <td>0.0</td>\n",
       "      <td>0.083333</td>\n",
       "      <td>0.142259</td>\n",
       "      <td>...</td>\n",
       "      <td>0</td>\n",
       "      <td>0</td>\n",
       "      <td>0</td>\n",
       "      <td>0</td>\n",
       "      <td>0</td>\n",
       "      <td>0</td>\n",
       "      <td>0</td>\n",
       "      <td>0</td>\n",
       "      <td>0</td>\n",
       "      <td>0</td>\n",
       "    </tr>\n",
       "    <tr>\n",
       "      <th>2</th>\n",
       "      <td>8586</td>\n",
       "      <td>1989</td>\n",
       "      <td>324.114378</td>\n",
       "      <td>2.960</td>\n",
       "      <td>100.72</td>\n",
       "      <td>0.0</td>\n",
       "      <td>0.0</td>\n",
       "      <td>0.0</td>\n",
       "      <td>0.185395</td>\n",
       "      <td>0.161948</td>\n",
       "      <td>...</td>\n",
       "      <td>0</td>\n",
       "      <td>0</td>\n",
       "      <td>0</td>\n",
       "      <td>0</td>\n",
       "      <td>0</td>\n",
       "      <td>0</td>\n",
       "      <td>0</td>\n",
       "      <td>0</td>\n",
       "      <td>0</td>\n",
       "      <td>0</td>\n",
       "    </tr>\n",
       "    <tr>\n",
       "      <th>3</th>\n",
       "      <td>5224</td>\n",
       "      <td>122903</td>\n",
       "      <td>168.042259</td>\n",
       "      <td>-0.551</td>\n",
       "      <td>60.44</td>\n",
       "      <td>0.0</td>\n",
       "      <td>0.0</td>\n",
       "      <td>0.0</td>\n",
       "      <td>0.055556</td>\n",
       "      <td>0.198742</td>\n",
       "      <td>...</td>\n",
       "      <td>0</td>\n",
       "      <td>0</td>\n",
       "      <td>0</td>\n",
       "      <td>0</td>\n",
       "      <td>0</td>\n",
       "      <td>0</td>\n",
       "      <td>0</td>\n",
       "      <td>0</td>\n",
       "      <td>0</td>\n",
       "      <td>0</td>\n",
       "    </tr>\n",
       "    <tr>\n",
       "      <th>4</th>\n",
       "      <td>5064</td>\n",
       "      <td>44073</td>\n",
       "      <td>360.996485</td>\n",
       "      <td>4.557</td>\n",
       "      <td>89.67</td>\n",
       "      <td>0.0</td>\n",
       "      <td>0.0</td>\n",
       "      <td>0.0</td>\n",
       "      <td>0.136083</td>\n",
       "      <td>0.276855</td>\n",
       "      <td>...</td>\n",
       "      <td>0</td>\n",
       "      <td>0</td>\n",
       "      <td>0</td>\n",
       "      <td>0</td>\n",
       "      <td>0</td>\n",
       "      <td>0</td>\n",
       "      <td>0</td>\n",
       "      <td>0</td>\n",
       "      <td>0</td>\n",
       "      <td>0</td>\n",
       "    </tr>\n",
       "  </tbody>\n",
       "</table>\n",
       "<p>5 rows × 1075 columns</p>\n",
       "</div>"
      ],
      "text/plain": [
       "     V1      V2          V3     V4      V5   V6   V7   V8        V9       V10  \\\n",
       "0  6088     178   59.037114 -0.808   43.09  0.0  0.0  0.0  0.000000  0.000000   \n",
       "1   246    1983  151.063329  0.870   49.33  0.0  0.0  0.0  0.083333  0.142259   \n",
       "2  8586    1989  324.114378  2.960  100.72  0.0  0.0  0.0  0.185395  0.161948   \n",
       "3  5224  122903  168.042259 -0.551   60.44  0.0  0.0  0.0  0.055556  0.198742   \n",
       "4  5064   44073  360.996485  4.557   89.67  0.0  0.0  0.0  0.136083  0.276855   \n",
       "\n",
       "   ...  V1066  V1067  V1068  V1069  V1070  V1071  V1072  V1073  V1074  V1075  \n",
       "0  ...      0      0      0      0      0      0      0      0      0      0  \n",
       "1  ...      0      0      0      0      0      0      0      0      0      0  \n",
       "2  ...      0      0      0      0      0      0      0      0      0      0  \n",
       "3  ...      0      0      0      0      0      0      0      0      0      0  \n",
       "4  ...      0      0      0      0      0      0      0      0      0      0  \n",
       "\n",
       "[5 rows x 1075 columns]"
      ]
     },
     "execution_count": 18,
     "metadata": {},
     "output_type": "execute_result"
    }
   ],
   "source": [
    "from sklearn.preprocessing import LabelEncoder\n",
    "\n",
    "encoder = LabelEncoder()\n",
    "feamat_df['V1'] = encoder.fit_transform(feamat_df['V1'])\n",
    "\n",
    "feamat_df.head() #Results in appending a new column to "
   ]
  },
  {
   "cell_type": "code",
   "execution_count": 19,
   "metadata": {
    "execution": {
     "iopub.execute_input": "2021-03-18T22:21:20.209170Z",
     "iopub.status.busy": "2021-03-18T22:21:20.188994Z",
     "iopub.status.idle": "2021-03-18T22:21:20.234104Z",
     "shell.execute_reply": "2021-03-18T22:21:20.233234Z"
    },
    "papermill": {
     "duration": 0.115331,
     "end_time": "2021-03-18T22:21:20.234286",
     "exception": false,
     "start_time": "2021-03-18T22:21:20.118955",
     "status": "completed"
    },
    "tags": []
   },
   "outputs": [
    {
     "data": {
      "text/html": [
       "<div>\n",
       "<style scoped>\n",
       "    .dataframe tbody tr th:only-of-type {\n",
       "        vertical-align: middle;\n",
       "    }\n",
       "\n",
       "    .dataframe tbody tr th {\n",
       "        vertical-align: top;\n",
       "    }\n",
       "\n",
       "    .dataframe thead th {\n",
       "        text-align: right;\n",
       "    }\n",
       "</style>\n",
       "<table border=\"1\" class=\"dataframe\">\n",
       "  <thead>\n",
       "    <tr style=\"text-align: right;\">\n",
       "      <th></th>\n",
       "      <th>V1</th>\n",
       "      <th>Id</th>\n",
       "      <th>Expected</th>\n",
       "      <th>V2</th>\n",
       "      <th>V3</th>\n",
       "      <th>V4</th>\n",
       "      <th>V5</th>\n",
       "      <th>V6</th>\n",
       "      <th>V7</th>\n",
       "      <th>V8</th>\n",
       "      <th>...</th>\n",
       "      <th>V1066</th>\n",
       "      <th>V1067</th>\n",
       "      <th>V1068</th>\n",
       "      <th>V1069</th>\n",
       "      <th>V1070</th>\n",
       "      <th>V1071</th>\n",
       "      <th>V1072</th>\n",
       "      <th>V1073</th>\n",
       "      <th>V1074</th>\n",
       "      <th>V1075</th>\n",
       "    </tr>\n",
       "  </thead>\n",
       "  <tbody>\n",
       "    <tr>\n",
       "      <th>0</th>\n",
       "      <td>3799</td>\n",
       "      <td>1644</td>\n",
       "      <td>2</td>\n",
       "      <td>76302</td>\n",
       "      <td>315.982463</td>\n",
       "      <td>4.592</td>\n",
       "      <td>40.46</td>\n",
       "      <td>0.0</td>\n",
       "      <td>0.0</td>\n",
       "      <td>0.000000</td>\n",
       "      <td>...</td>\n",
       "      <td>0</td>\n",
       "      <td>0</td>\n",
       "      <td>0</td>\n",
       "      <td>0</td>\n",
       "      <td>0</td>\n",
       "      <td>0</td>\n",
       "      <td>0</td>\n",
       "      <td>0</td>\n",
       "      <td>0</td>\n",
       "      <td>0</td>\n",
       "    </tr>\n",
       "    <tr>\n",
       "      <th>1</th>\n",
       "      <td>6930</td>\n",
       "      <td>2451</td>\n",
       "      <td>2</td>\n",
       "      <td>12741</td>\n",
       "      <td>156.151415</td>\n",
       "      <td>3.852</td>\n",
       "      <td>17.07</td>\n",
       "      <td>0.0</td>\n",
       "      <td>0.0</td>\n",
       "      <td>0.000000</td>\n",
       "      <td>...</td>\n",
       "      <td>0</td>\n",
       "      <td>0</td>\n",
       "      <td>0</td>\n",
       "      <td>0</td>\n",
       "      <td>0</td>\n",
       "      <td>0</td>\n",
       "      <td>0</td>\n",
       "      <td>0</td>\n",
       "      <td>0</td>\n",
       "      <td>0</td>\n",
       "    </tr>\n",
       "    <tr>\n",
       "      <th>2</th>\n",
       "      <td>7062</td>\n",
       "      <td>1384</td>\n",
       "      <td>2</td>\n",
       "      <td>23558</td>\n",
       "      <td>361.347528</td>\n",
       "      <td>9.912</td>\n",
       "      <td>0.00</td>\n",
       "      <td>0.0</td>\n",
       "      <td>0.0</td>\n",
       "      <td>0.000000</td>\n",
       "      <td>...</td>\n",
       "      <td>0</td>\n",
       "      <td>0</td>\n",
       "      <td>0</td>\n",
       "      <td>0</td>\n",
       "      <td>0</td>\n",
       "      <td>0</td>\n",
       "      <td>0</td>\n",
       "      <td>0</td>\n",
       "      <td>0</td>\n",
       "      <td>0</td>\n",
       "    </tr>\n",
       "    <tr>\n",
       "      <th>3</th>\n",
       "      <td>1852</td>\n",
       "      <td>16</td>\n",
       "      <td>2</td>\n",
       "      <td>86418</td>\n",
       "      <td>255.052302</td>\n",
       "      <td>2.294</td>\n",
       "      <td>83.66</td>\n",
       "      <td>0.0</td>\n",
       "      <td>0.0</td>\n",
       "      <td>0.117851</td>\n",
       "      <td>...</td>\n",
       "      <td>0</td>\n",
       "      <td>0</td>\n",
       "      <td>0</td>\n",
       "      <td>0</td>\n",
       "      <td>0</td>\n",
       "      <td>0</td>\n",
       "      <td>0</td>\n",
       "      <td>0</td>\n",
       "      <td>0</td>\n",
       "      <td>0</td>\n",
       "    </tr>\n",
       "    <tr>\n",
       "      <th>4</th>\n",
       "      <td>7375</td>\n",
       "      <td>1856</td>\n",
       "      <td>2</td>\n",
       "      <td>5238</td>\n",
       "      <td>149.894242</td>\n",
       "      <td>1.050</td>\n",
       "      <td>0.00</td>\n",
       "      <td>0.0</td>\n",
       "      <td>0.0</td>\n",
       "      <td>0.000000</td>\n",
       "      <td>...</td>\n",
       "      <td>0</td>\n",
       "      <td>0</td>\n",
       "      <td>0</td>\n",
       "      <td>0</td>\n",
       "      <td>0</td>\n",
       "      <td>0</td>\n",
       "      <td>0</td>\n",
       "      <td>0</td>\n",
       "      <td>0</td>\n",
       "      <td>0</td>\n",
       "    </tr>\n",
       "  </tbody>\n",
       "</table>\n",
       "<p>5 rows × 1077 columns</p>\n",
       "</div>"
      ],
      "text/plain": [
       "     V1    Id  Expected     V2          V3     V4     V5   V6   V7        V8  \\\n",
       "0  3799  1644         2  76302  315.982463  4.592  40.46  0.0  0.0  0.000000   \n",
       "1  6930  2451         2  12741  156.151415  3.852  17.07  0.0  0.0  0.000000   \n",
       "2  7062  1384         2  23558  361.347528  9.912   0.00  0.0  0.0  0.000000   \n",
       "3  1852    16         2  86418  255.052302  2.294  83.66  0.0  0.0  0.117851   \n",
       "4  7375  1856         2   5238  149.894242  1.050   0.00  0.0  0.0  0.000000   \n",
       "\n",
       "   ...  V1066  V1067  V1068  V1069  V1070  V1071  V1072  V1073  V1074  V1075  \n",
       "0  ...      0      0      0      0      0      0      0      0      0      0  \n",
       "1  ...      0      0      0      0      0      0      0      0      0      0  \n",
       "2  ...      0      0      0      0      0      0      0      0      0      0  \n",
       "3  ...      0      0      0      0      0      0      0      0      0      0  \n",
       "4  ...      0      0      0      0      0      0      0      0      0      0  \n",
       "\n",
       "[5 rows x 1077 columns]"
      ]
     },
     "execution_count": 19,
     "metadata": {},
     "output_type": "execute_result"
    }
   ],
   "source": [
    "combined_df['V1'] = encoder.transform(combined_df['V1'])\n",
    "combined_df.head()"
   ]
  },
  {
   "cell_type": "markdown",
   "metadata": {
    "papermill": {
     "duration": 0.038787,
     "end_time": "2021-03-18T22:21:20.312728",
     "exception": false,
     "start_time": "2021-03-18T22:21:20.273941",
     "status": "completed"
    },
    "tags": []
   },
   "source": [
    "#### 7. Preparing X and y data for training\n",
    "> X containing all the feature variables (removing V1 variable and target variable) and y containing target variable."
   ]
  },
  {
   "cell_type": "code",
   "execution_count": 20,
   "metadata": {
    "execution": {
     "iopub.execute_input": "2021-03-18T22:21:20.397573Z",
     "iopub.status.busy": "2021-03-18T22:21:20.396708Z",
     "iopub.status.idle": "2021-03-18T22:21:21.114065Z",
     "shell.execute_reply": "2021-03-18T22:21:21.114690Z"
    },
    "papermill": {
     "duration": 0.762894,
     "end_time": "2021-03-18T22:21:21.114924",
     "exception": false,
     "start_time": "2021-03-18T22:21:20.352030",
     "status": "completed"
    },
    "tags": []
   },
   "outputs": [],
   "source": [
    "X = combined_df.drop(['Expected'], axis=1)\n",
    "y = combined_df['Expected']"
   ]
  },
  {
   "cell_type": "markdown",
   "metadata": {
    "papermill": {
     "duration": 0.042777,
     "end_time": "2021-03-18T22:21:21.201488",
     "exception": false,
     "start_time": "2021-03-18T22:21:21.158711",
     "status": "completed"
    },
    "tags": []
   },
   "source": [
    "#### 8. train test split\n"
   ]
  },
  {
   "cell_type": "code",
   "execution_count": 21,
   "metadata": {
    "execution": {
     "iopub.execute_input": "2021-03-18T22:21:21.285994Z",
     "iopub.status.busy": "2021-03-18T22:21:21.285213Z",
     "iopub.status.idle": "2021-03-18T22:21:22.087104Z",
     "shell.execute_reply": "2021-03-18T22:21:22.087603Z"
    },
    "papermill": {
     "duration": 0.846702,
     "end_time": "2021-03-18T22:21:22.087798",
     "exception": false,
     "start_time": "2021-03-18T22:21:21.241096",
     "status": "completed"
    },
    "tags": []
   },
   "outputs": [],
   "source": [
    "from sklearn.model_selection import train_test_split\n",
    "X_train, X_test, y_train, y_test = train_test_split(X, y, test_size=0.2, random_state=42)"
   ]
  },
  {
   "cell_type": "markdown",
   "metadata": {
    "papermill": {
     "duration": 0.039139,
     "end_time": "2021-03-18T22:21:22.166378",
     "exception": false,
     "start_time": "2021-03-18T22:21:22.127239",
     "status": "completed"
    },
    "tags": []
   },
   "source": [
    "#### 9. Normalization"
   ]
  },
  {
   "cell_type": "code",
   "execution_count": 22,
   "metadata": {
    "execution": {
     "iopub.execute_input": "2021-03-18T22:21:22.261880Z",
     "iopub.status.busy": "2021-03-18T22:21:22.258801Z",
     "iopub.status.idle": "2021-03-18T22:21:23.454033Z",
     "shell.execute_reply": "2021-03-18T22:21:23.453314Z"
    },
    "papermill": {
     "duration": 1.248209,
     "end_time": "2021-03-18T22:21:23.454192",
     "exception": false,
     "start_time": "2021-03-18T22:21:22.205983",
     "status": "completed"
    },
    "tags": []
   },
   "outputs": [
    {
     "data": {
      "text/plain": [
       "array([[5.20512239e-01, 6.14851081e-01, 1.78514837e-04, ...,\n",
       "        0.00000000e+00, 0.00000000e+00, 0.00000000e+00],\n",
       "       [1.42565730e-01, 0.00000000e+00, 5.54531100e-04, ...,\n",
       "        0.00000000e+00, 0.00000000e+00, 0.00000000e+00],\n",
       "       [3.08703536e-01, 9.99592003e-01, 1.40292768e-04, ...,\n",
       "        0.00000000e+00, 0.00000000e+00, 0.00000000e+00],\n",
       "       ...,\n",
       "       [3.52447869e-01, 5.64259486e-01, 1.47990515e-04, ...,\n",
       "        0.00000000e+00, 0.00000000e+00, 0.00000000e+00],\n",
       "       [5.23572076e-01, 9.79192166e-03, 5.66716829e-03, ...,\n",
       "        0.00000000e+00, 0.00000000e+00, 0.00000000e+00],\n",
       "       [2.30394379e-01, 5.60995512e-01, 2.62221166e-06, ...,\n",
       "        1.00000000e+00, 0.00000000e+00, 0.00000000e+00]])"
      ]
     },
     "execution_count": 22,
     "metadata": {},
     "output_type": "execute_result"
    }
   ],
   "source": [
    "from sklearn.preprocessing import MinMaxScaler, StandardScaler\n",
    "scaler = MinMaxScaler()\n",
    "scaler.fit(X_train)\n",
    "scaler.transform(X_train)\n",
    "scaler.transform(X_test)"
   ]
  },
  {
   "cell_type": "code",
   "execution_count": 23,
   "metadata": {
    "execution": {
     "iopub.execute_input": "2021-03-18T22:21:23.540973Z",
     "iopub.status.busy": "2021-03-18T22:21:23.540296Z",
     "iopub.status.idle": "2021-03-18T22:21:35.570107Z",
     "shell.execute_reply": "2021-03-18T22:21:35.570621Z"
    },
    "papermill": {
     "duration": 12.076205,
     "end_time": "2021-03-18T22:21:35.570801",
     "exception": false,
     "start_time": "2021-03-18T22:21:23.494596",
     "status": "completed"
    },
    "tags": []
   },
   "outputs": [
    {
     "name": "stdout",
     "output_type": "stream",
     "text": [
      "Training Score 1.0\n",
      "Testing Score 0.8773493509009882\n"
     ]
    }
   ],
   "source": [
    "from sklearn.tree import DecisionTreeClassifier\n",
    "model = DecisionTreeClassifier()\n",
    "model.fit(X_train, y_train)\n",
    "\n",
    "print(\"Training Score {}\".format(model.score(X_train, y_train)))\n",
    "print(\"Testing Score {}\".format(model.score(X_test, y_test)))"
   ]
  },
  {
   "cell_type": "code",
   "execution_count": 24,
   "metadata": {
    "execution": {
     "iopub.execute_input": "2021-03-18T22:21:35.668677Z",
     "iopub.status.busy": "2021-03-18T22:21:35.667974Z",
     "iopub.status.idle": "2021-03-18T22:21:35.769724Z",
     "shell.execute_reply": "2021-03-18T22:21:35.769150Z"
    },
    "papermill": {
     "duration": 0.158678,
     "end_time": "2021-03-18T22:21:35.769910",
     "exception": false,
     "start_time": "2021-03-18T22:21:35.611232",
     "status": "completed"
    },
    "tags": []
   },
   "outputs": [
    {
     "name": "stdout",
     "output_type": "stream",
     "text": [
      "0.8773493509009882\n"
     ]
    }
   ],
   "source": [
    "#testing accuracy\n",
    "from sklearn.metrics import accuracy_score\n",
    "y_pred = model.predict(X_test)\n",
    "print(accuracy_score(y_test, y_pred))"
   ]
  },
  {
   "cell_type": "code",
   "execution_count": 25,
   "metadata": {
    "execution": {
     "iopub.execute_input": "2021-03-18T22:21:35.860416Z",
     "iopub.status.busy": "2021-03-18T22:21:35.859464Z",
     "iopub.status.idle": "2021-03-18T22:21:35.864450Z",
     "shell.execute_reply": "2021-03-18T22:21:35.863625Z"
    },
    "papermill": {
     "duration": 0.053306,
     "end_time": "2021-03-18T22:21:35.864643",
     "exception": false,
     "start_time": "2021-03-18T22:21:35.811337",
     "status": "completed"
    },
    "tags": []
   },
   "outputs": [
    {
     "name": "stdout",
     "output_type": "stream",
     "text": [
      "[0.0299181  0.44659921 0.02286946 ... 0.         0.         0.        ]\n"
     ]
    }
   ],
   "source": [
    "##print feature importances\n",
    "print(model.feature_importances_)"
   ]
  },
  {
   "cell_type": "code",
   "execution_count": 26,
   "metadata": {
    "execution": {
     "iopub.execute_input": "2021-03-18T22:21:35.978007Z",
     "iopub.status.busy": "2021-03-18T22:21:35.971754Z",
     "iopub.status.idle": "2021-03-18T22:21:38.021929Z",
     "shell.execute_reply": "2021-03-18T22:21:38.021190Z"
    },
    "papermill": {
     "duration": 2.1161,
     "end_time": "2021-03-18T22:21:38.022145",
     "exception": false,
     "start_time": "2021-03-18T22:21:35.906045",
     "status": "completed"
    },
    "tags": []
   },
   "outputs": [
    {
     "data": {
      "image/png": "[encoded data removed]",
      "text/plain": [
       "<Figure size 432x288 with 1 Axes>"
      ]
     },
     "metadata": {
      "needs_background": "light"
     },
     "output_type": "display_data"
    }
   ],
   "source": [
    "## plot feature importance\n",
    "importance = model.feature_importances_\n",
    "plt.bar([x for x in range(len(importance))], importance)\n",
    "plt.show()"
   ]
  },
  {
   "cell_type": "code",
   "execution_count": 27,
   "metadata": {
    "execution": {
     "iopub.execute_input": "2021-03-18T22:21:38.115909Z",
     "iopub.status.busy": "2021-03-18T22:21:38.115096Z",
     "iopub.status.idle": "2021-03-18T22:21:49.784993Z",
     "shell.execute_reply": "2021-03-18T22:21:49.784195Z"
    },
    "papermill": {
     "duration": 11.71865,
     "end_time": "2021-03-18T22:21:49.785174",
     "exception": false,
     "start_time": "2021-03-18T22:21:38.066524",
     "status": "completed"
    },
    "tags": []
   },
   "outputs": [],
   "source": [
    "from sklearn.feature_selection import SelectFromModel\n",
    "\n",
    "best_model = SelectFromModel(model, threshold=0.016)\n",
    "\n",
    "# Train the selector\n",
    "best_model.fit(X_train, y_train)\n",
    "\n",
    "# Transform the data to create a new dataset containing only the most important features\n",
    "X_important_train = best_model.transform(X_train)\n",
    "X_important_test = best_model.transform(X_test)"
   ]
  },
  {
   "cell_type": "code",
   "execution_count": 28,
   "metadata": {
    "execution": {
     "iopub.execute_input": "2021-03-18T22:21:49.876005Z",
     "iopub.status.busy": "2021-03-18T22:21:49.875261Z",
     "iopub.status.idle": "2021-03-18T22:21:49.880591Z",
     "shell.execute_reply": "2021-03-18T22:21:49.879893Z"
    },
    "papermill": {
     "duration": 0.053034,
     "end_time": "2021-03-18T22:21:49.880756",
     "exception": false,
     "start_time": "2021-03-18T22:21:49.827722",
     "status": "completed"
    },
    "tags": []
   },
   "outputs": [
    {
     "data": {
      "text/plain": [
       "(61930, 6)"
      ]
     },
     "execution_count": 28,
     "metadata": {},
     "output_type": "execute_result"
    }
   ],
   "source": [
    "#after feature selection shape is\n",
    "X_important_train.shape"
   ]
  },
  {
   "cell_type": "code",
   "execution_count": 29,
   "metadata": {
    "execution": {
     "iopub.execute_input": "2021-03-18T22:21:49.985742Z",
     "iopub.status.busy": "2021-03-18T22:21:49.980444Z",
     "iopub.status.idle": "2021-03-18T22:21:50.279404Z",
     "shell.execute_reply": "2021-03-18T22:21:50.278698Z"
    },
    "papermill": {
     "duration": 0.356234,
     "end_time": "2021-03-18T22:21:50.279565",
     "exception": false,
     "start_time": "2021-03-18T22:21:49.923331",
     "status": "completed"
    },
    "tags": []
   },
   "outputs": [],
   "source": [
    "X_important_all = best_model.transform(X)"
   ]
  },
  {
   "cell_type": "code",
   "execution_count": 30,
   "metadata": {
    "execution": {
     "iopub.execute_input": "2021-03-18T22:21:50.375844Z",
     "iopub.status.busy": "2021-03-18T22:21:50.374965Z",
     "iopub.status.idle": "2021-03-18T22:22:52.913954Z",
     "shell.execute_reply": "2021-03-18T22:22:52.912627Z"
    },
    "papermill": {
     "duration": 62.591841,
     "end_time": "2021-03-18T22:22:52.914223",
     "exception": false,
     "start_time": "2021-03-18T22:21:50.322382",
     "status": "completed"
    },
    "tags": []
   },
   "outputs": [
    {
     "name": "stdout",
     "output_type": "stream",
     "text": [
      "Training Score 0.9943323106733408\n",
      "Testing Score 0.8918814183297811\n"
     ]
    }
   ],
   "source": [
    "from sklearn.ensemble import StackingClassifier, RandomForestClassifier, BaggingClassifier, VotingClassifier\n",
    "from sklearn.linear_model import LogisticRegression\n",
    "from sklearn.neighbors import KNeighborsClassifier\n",
    "from sklearn.tree import DecisionTreeClassifier\n",
    "from sklearn.svm import SVC\n",
    "from sklearn.naive_bayes import GaussianNB\n",
    "\n",
    "\n",
    "# define the base models\n",
    "level0 = list()\n",
    "level0.append(('gnb', GaussianNB()))\n",
    "level0.append(('lr', LogisticRegression()))\n",
    "level0.append(('rf', RandomForestClassifier()))\n",
    "level0.append(('bc', BaggingClassifier()))\n",
    "level0.append(('dt', DecisionTreeClassifier()))\n",
    "# define meta learner model\n",
    "level1 = LogisticRegression()\n",
    "\n",
    "\n",
    "from sklearn.model_selection import cross_val_score, RepeatedStratifiedKFold\n",
    "\n",
    "#cv = KFold(n_splits=8, random_state=1, shuffle=True)\n",
    "cv = RepeatedStratifiedKFold(n_splits=5, n_repeats=3, random_state=1)\n",
    "\n",
    "# define the stacking ensemble\n",
    "#model = VotingClassifier(estimators = level0, voting='soft', weights=[1,1,2,2],flatten_transform=True)\n",
    "model = StackingClassifier(estimators=level0, final_estimator=level1, cv=5)\n",
    "# fit the model on all available data\n",
    "model.fit(X_important_train, y_train)\n",
    "\n",
    "\n",
    "print(\"Training Score {}\".format(model.score(X_important_train, y_train)))\n",
    "print(\"Testing Score {}\".format(model.score(X_important_test, y_test)))"
   ]
  },
  {
   "cell_type": "code",
   "execution_count": 31,
   "metadata": {
    "execution": {
     "iopub.execute_input": "2021-03-18T22:22:53.010379Z",
     "iopub.status.busy": "2021-03-18T22:22:53.009623Z",
     "iopub.status.idle": "2021-03-18T22:22:53.484353Z",
     "shell.execute_reply": "2021-03-18T22:22:53.484911Z"
    },
    "papermill": {
     "duration": 0.525836,
     "end_time": "2021-03-18T22:22:53.485129",
     "exception": false,
     "start_time": "2021-03-18T22:22:52.959293",
     "status": "completed"
    },
    "tags": []
   },
   "outputs": [
    {
     "data": {
      "text/plain": [
       "0.7353809992869588"
      ]
     },
     "execution_count": 31,
     "metadata": {},
     "output_type": "execute_result"
    }
   ],
   "source": [
    "from sklearn.metrics import f1_score\n",
    "y_pred = model.predict(X_important_test)\n",
    "f1_score(y_test, y_pred, average='macro')"
   ]
  },
  {
   "cell_type": "code",
   "execution_count": 32,
   "metadata": {
    "execution": {
     "iopub.execute_input": "2021-03-18T22:22:53.586588Z",
     "iopub.status.busy": "2021-03-18T22:22:53.585251Z",
     "iopub.status.idle": "2021-03-18T22:24:08.484404Z",
     "shell.execute_reply": "2021-03-18T22:24:08.484964Z"
    },
    "papermill": {
     "duration": 74.952996,
     "end_time": "2021-03-18T22:24:08.485164",
     "exception": false,
     "start_time": "2021-03-18T22:22:53.532168",
     "status": "completed"
    },
    "tags": []
   },
   "outputs": [
    {
     "data": {
      "text/plain": [
       "StackingClassifier(cv=5,\n",
       "                   estimators=[('gnb', GaussianNB()),\n",
       "                               ('lr', LogisticRegression()),\n",
       "                               ('rf', RandomForestClassifier()),\n",
       "                               ('bc', BaggingClassifier()),\n",
       "                               ('dt', DecisionTreeClassifier())],\n",
       "                   final_estimator=LogisticRegression())"
      ]
     },
     "execution_count": 32,
     "metadata": {},
     "output_type": "execute_result"
    }
   ],
   "source": [
    "model.fit(X_important_all, y)"
   ]
  },
  {
   "cell_type": "markdown",
   "metadata": {
    "papermill": {
     "duration": 0.044884,
     "end_time": "2021-03-18T22:24:08.575257",
     "exception": false,
     "start_time": "2021-03-18T22:24:08.530373",
     "status": "completed"
    },
    "tags": []
   },
   "source": [
    "#### Step 4: Parse test.csv and generate predictions"
   ]
  },
  {
   "cell_type": "code",
   "execution_count": 33,
   "metadata": {
    "execution": {
     "iopub.execute_input": "2021-03-18T22:24:08.675952Z",
     "iopub.status.busy": "2021-03-18T22:24:08.674478Z",
     "iopub.status.idle": "2021-03-18T22:24:11.263073Z",
     "shell.execute_reply": "2021-03-18T22:24:11.262372Z"
    },
    "papermill": {
     "duration": 2.640449,
     "end_time": "2021-03-18T22:24:11.263224",
     "exception": false,
     "start_time": "2021-03-18T22:24:08.622775",
     "status": "completed"
    },
    "tags": []
   },
   "outputs": [
    {
     "name": "stdout",
     "output_type": "stream",
     "text": [
      "Training Score 0.9942645292134396\n",
      "Testing Score 0.9944455208938836\n"
     ]
    }
   ],
   "source": [
    "from sklearn.model_selection import cross_val_score, RepeatedStratifiedKFold\n",
    "\n",
    "print(\"Training Score {}\".format(model.score(X_important_all, y)))\n",
    "print(\"Testing Score {}\".format(model.score(X_important_test, y_test)))"
   ]
  },
  {
   "cell_type": "code",
   "execution_count": 34,
   "metadata": {
    "execution": {
     "iopub.execute_input": "2021-03-18T22:24:11.359167Z",
     "iopub.status.busy": "2021-03-18T22:24:11.358401Z",
     "iopub.status.idle": "2021-03-18T22:24:11.633346Z",
     "shell.execute_reply": "2021-03-18T22:24:11.633956Z"
    },
    "papermill": {
     "duration": 0.325697,
     "end_time": "2021-03-18T22:24:11.634161",
     "exception": false,
     "start_time": "2021-03-18T22:24:11.308464",
     "status": "completed"
    },
    "tags": []
   },
   "outputs": [
    {
     "name": "stderr",
     "output_type": "stream",
     "text": [
      "/opt/conda/lib/python3.7/site-packages/ipykernel_launcher.py:4: ParserWarning: Falling back to the 'python' engine because the 'c' engine does not support regex separators (separators > 1 char and different from '\\s+' are interpreted as regex); you can avoid this warning by specifying engine='python'.\n",
      "  after removing the cwd from sys.path.\n"
     ]
    },
    {
     "data": {
      "text/html": [
       "<div>\n",
       "<style scoped>\n",
       "    .dataframe tbody tr th:only-of-type {\n",
       "        vertical-align: middle;\n",
       "    }\n",
       "\n",
       "    .dataframe tbody tr th {\n",
       "        vertical-align: top;\n",
       "    }\n",
       "\n",
       "    .dataframe thead th {\n",
       "        text-align: right;\n",
       "    }\n",
       "</style>\n",
       "<table border=\"1\" class=\"dataframe\">\n",
       "  <thead>\n",
       "    <tr style=\"text-align: right;\">\n",
       "      <th></th>\n",
       "      <th>x</th>\n",
       "    </tr>\n",
       "  </thead>\n",
       "  <tbody>\n",
       "    <tr>\n",
       "      <th>88-60-8</th>\n",
       "      <td>1682</td>\n",
       "    </tr>\n",
       "    <tr>\n",
       "      <th>122931-48-0</th>\n",
       "      <td>1656</td>\n",
       "    </tr>\n",
       "    <tr>\n",
       "      <th>NOCAS_47311</th>\n",
       "      <td>36</td>\n",
       "    </tr>\n",
       "    <tr>\n",
       "      <th>55589-62-3</th>\n",
       "      <td>1850</td>\n",
       "    </tr>\n",
       "    <tr>\n",
       "      <th>79902-63-9</th>\n",
       "      <td>30</td>\n",
       "    </tr>\n",
       "  </tbody>\n",
       "</table>\n",
       "</div>"
      ],
      "text/plain": [
       "                x\n",
       "88-60-8      1682\n",
       "122931-48-0  1656\n",
       "NOCAS_47311    36\n",
       "55589-62-3   1850\n",
       "79902-63-9     30"
      ]
     },
     "execution_count": 34,
     "metadata": {},
     "output_type": "execute_result"
    }
   ],
   "source": [
    "#Read test data\n",
    "\n",
    "import pandas as pd\n",
    "test_df = pd.read_csv('/kaggle/input/the-toxicity-prediction-challenge/test.csv', sep=',|;')\n",
    "test_df.head()"
   ]
  },
  {
   "cell_type": "code",
   "execution_count": 35,
   "metadata": {
    "execution": {
     "iopub.execute_input": "2021-03-18T22:24:11.757969Z",
     "iopub.status.busy": "2021-03-18T22:24:11.756968Z",
     "iopub.status.idle": "2021-03-18T22:24:11.760726Z",
     "shell.execute_reply": "2021-03-18T22:24:11.761480Z"
    },
    "papermill": {
     "duration": 0.079413,
     "end_time": "2021-03-18T22:24:11.761720",
     "exception": false,
     "start_time": "2021-03-18T22:24:11.682307",
     "status": "completed"
    },
    "tags": []
   },
   "outputs": [
    {
     "data": {
      "text/html": [
       "<div>\n",
       "<style scoped>\n",
       "    .dataframe tbody tr th:only-of-type {\n",
       "        vertical-align: middle;\n",
       "    }\n",
       "\n",
       "    .dataframe tbody tr th {\n",
       "        vertical-align: top;\n",
       "    }\n",
       "\n",
       "    .dataframe thead th {\n",
       "        text-align: right;\n",
       "    }\n",
       "</style>\n",
       "<table border=\"1\" class=\"dataframe\">\n",
       "  <thead>\n",
       "    <tr style=\"text-align: right;\">\n",
       "      <th></th>\n",
       "      <th>V1</th>\n",
       "      <th>x</th>\n",
       "    </tr>\n",
       "  </thead>\n",
       "  <tbody>\n",
       "    <tr>\n",
       "      <th>0</th>\n",
       "      <td>88-60-8</td>\n",
       "      <td>1682</td>\n",
       "    </tr>\n",
       "    <tr>\n",
       "      <th>1</th>\n",
       "      <td>122931-48-0</td>\n",
       "      <td>1656</td>\n",
       "    </tr>\n",
       "    <tr>\n",
       "      <th>2</th>\n",
       "      <td>NOCAS_47311</td>\n",
       "      <td>36</td>\n",
       "    </tr>\n",
       "    <tr>\n",
       "      <th>3</th>\n",
       "      <td>55589-62-3</td>\n",
       "      <td>1850</td>\n",
       "    </tr>\n",
       "    <tr>\n",
       "      <th>4</th>\n",
       "      <td>79902-63-9</td>\n",
       "      <td>30</td>\n",
       "    </tr>\n",
       "  </tbody>\n",
       "</table>\n",
       "</div>"
      ],
      "text/plain": [
       "            V1     x\n",
       "0      88-60-8  1682\n",
       "1  122931-48-0  1656\n",
       "2  NOCAS_47311    36\n",
       "3   55589-62-3  1850\n",
       "4   79902-63-9    30"
      ]
     },
     "execution_count": 35,
     "metadata": {},
     "output_type": "execute_result"
    }
   ],
   "source": [
    "test_df.reset_index(inplace=True)\n",
    "test_df = test_df.rename(columns={\"index\": \"V1\"})\n",
    "test_df.head()"
   ]
  },
  {
   "cell_type": "code",
   "execution_count": 36,
   "metadata": {
    "execution": {
     "iopub.execute_input": "2021-03-18T22:24:11.869499Z",
     "iopub.status.busy": "2021-03-18T22:24:11.868482Z",
     "iopub.status.idle": "2021-03-18T22:24:25.461127Z",
     "shell.execute_reply": "2021-03-18T22:24:25.461607Z"
    },
    "papermill": {
     "duration": 13.647376,
     "end_time": "2021-03-18T22:24:25.461796",
     "exception": false,
     "start_time": "2021-03-18T22:24:11.814420",
     "status": "completed"
    },
    "tags": []
   },
   "outputs": [
    {
     "name": "stderr",
     "output_type": "stream",
     "text": [
      "/opt/conda/lib/python3.7/site-packages/ipykernel_launcher.py:1: ParserWarning: Falling back to the 'python' engine because the 'c' engine does not support regex separators (separators > 1 char and different from '\\s+' are interpreted as regex); you can avoid this warning by specifying engine='python'.\n",
      "  \"\"\"Entry point for launching an IPython kernel.\n"
     ]
    },
    {
     "data": {
      "text/html": [
       "<div>\n",
       "<style scoped>\n",
       "    .dataframe tbody tr th:only-of-type {\n",
       "        vertical-align: middle;\n",
       "    }\n",
       "\n",
       "    .dataframe tbody tr th {\n",
       "        vertical-align: top;\n",
       "    }\n",
       "\n",
       "    .dataframe thead th {\n",
       "        text-align: right;\n",
       "    }\n",
       "</style>\n",
       "<table border=\"1\" class=\"dataframe\">\n",
       "  <thead>\n",
       "    <tr style=\"text-align: right;\">\n",
       "      <th></th>\n",
       "      <th>V1</th>\n",
       "      <th>x</th>\n",
       "      <th>V2</th>\n",
       "      <th>V3</th>\n",
       "      <th>V4</th>\n",
       "      <th>V5</th>\n",
       "      <th>V6</th>\n",
       "      <th>V7</th>\n",
       "      <th>V8</th>\n",
       "      <th>V9</th>\n",
       "      <th>...</th>\n",
       "      <th>V1066</th>\n",
       "      <th>V1067</th>\n",
       "      <th>V1068</th>\n",
       "      <th>V1069</th>\n",
       "      <th>V1070</th>\n",
       "      <th>V1071</th>\n",
       "      <th>V1072</th>\n",
       "      <th>V1073</th>\n",
       "      <th>V1074</th>\n",
       "      <th>V1075</th>\n",
       "    </tr>\n",
       "  </thead>\n",
       "  <tbody>\n",
       "    <tr>\n",
       "      <th>0</th>\n",
       "      <td>88-60-8</td>\n",
       "      <td>1682</td>\n",
       "      <td>6937</td>\n",
       "      <td>164.120115</td>\n",
       "      <td>3.659</td>\n",
       "      <td>20.23</td>\n",
       "      <td>0.0</td>\n",
       "      <td>0.0</td>\n",
       "      <td>0.000000</td>\n",
       "      <td>0.068041</td>\n",
       "      <td>...</td>\n",
       "      <td>0</td>\n",
       "      <td>0</td>\n",
       "      <td>0</td>\n",
       "      <td>0</td>\n",
       "      <td>0</td>\n",
       "      <td>0</td>\n",
       "      <td>0</td>\n",
       "      <td>0</td>\n",
       "      <td>0</td>\n",
       "      <td>0</td>\n",
       "    </tr>\n",
       "    <tr>\n",
       "      <th>1</th>\n",
       "      <td>122931-48-0</td>\n",
       "      <td>1656</td>\n",
       "      <td>91779</td>\n",
       "      <td>431.056940</td>\n",
       "      <td>1.258</td>\n",
       "      <td>183.30</td>\n",
       "      <td>0.0</td>\n",
       "      <td>0.0</td>\n",
       "      <td>0.000000</td>\n",
       "      <td>0.151375</td>\n",
       "      <td>...</td>\n",
       "      <td>0</td>\n",
       "      <td>0</td>\n",
       "      <td>0</td>\n",
       "      <td>0</td>\n",
       "      <td>0</td>\n",
       "      <td>0</td>\n",
       "      <td>0</td>\n",
       "      <td>0</td>\n",
       "      <td>0</td>\n",
       "      <td>0</td>\n",
       "    </tr>\n",
       "    <tr>\n",
       "      <th>2</th>\n",
       "      <td>NOCAS_47311</td>\n",
       "      <td>36</td>\n",
       "      <td>53257735</td>\n",
       "      <td>695.250845</td>\n",
       "      <td>6.365</td>\n",
       "      <td>95.92</td>\n",
       "      <td>0.0</td>\n",
       "      <td>0.0</td>\n",
       "      <td>0.174792</td>\n",
       "      <td>0.789110</td>\n",
       "      <td>...</td>\n",
       "      <td>0</td>\n",
       "      <td>0</td>\n",
       "      <td>0</td>\n",
       "      <td>0</td>\n",
       "      <td>0</td>\n",
       "      <td>0</td>\n",
       "      <td>0</td>\n",
       "      <td>0</td>\n",
       "      <td>0</td>\n",
       "      <td>0</td>\n",
       "    </tr>\n",
       "    <tr>\n",
       "      <th>3</th>\n",
       "      <td>55589-62-3</td>\n",
       "      <td>1850</td>\n",
       "      <td>11074431</td>\n",
       "      <td>200.949810</td>\n",
       "      <td>-1.340</td>\n",
       "      <td>68.82</td>\n",
       "      <td>0.0</td>\n",
       "      <td>0.0</td>\n",
       "      <td>0.000000</td>\n",
       "      <td>0.058926</td>\n",
       "      <td>...</td>\n",
       "      <td>0</td>\n",
       "      <td>0</td>\n",
       "      <td>0</td>\n",
       "      <td>0</td>\n",
       "      <td>0</td>\n",
       "      <td>0</td>\n",
       "      <td>0</td>\n",
       "      <td>0</td>\n",
       "      <td>0</td>\n",
       "      <td>0</td>\n",
       "    </tr>\n",
       "    <tr>\n",
       "      <th>4</th>\n",
       "      <td>79902-63-9</td>\n",
       "      <td>30</td>\n",
       "      <td>54454</td>\n",
       "      <td>418.271924</td>\n",
       "      <td>4.775</td>\n",
       "      <td>72.83</td>\n",
       "      <td>0.0</td>\n",
       "      <td>0.0</td>\n",
       "      <td>0.000000</td>\n",
       "      <td>0.179152</td>\n",
       "      <td>...</td>\n",
       "      <td>0</td>\n",
       "      <td>0</td>\n",
       "      <td>0</td>\n",
       "      <td>0</td>\n",
       "      <td>0</td>\n",
       "      <td>0</td>\n",
       "      <td>0</td>\n",
       "      <td>0</td>\n",
       "      <td>0</td>\n",
       "      <td>0</td>\n",
       "    </tr>\n",
       "  </tbody>\n",
       "</table>\n",
       "<p>5 rows × 1076 columns</p>\n",
       "</div>"
      ],
      "text/plain": [
       "            V1     x        V2          V3     V4      V5   V6   V7        V8  \\\n",
       "0      88-60-8  1682      6937  164.120115  3.659   20.23  0.0  0.0  0.000000   \n",
       "1  122931-48-0  1656     91779  431.056940  1.258  183.30  0.0  0.0  0.000000   \n",
       "2  NOCAS_47311    36  53257735  695.250845  6.365   95.92  0.0  0.0  0.174792   \n",
       "3   55589-62-3  1850  11074431  200.949810 -1.340   68.82  0.0  0.0  0.000000   \n",
       "4   79902-63-9    30     54454  418.271924  4.775   72.83  0.0  0.0  0.000000   \n",
       "\n",
       "         V9  ...  V1066  V1067  V1068  V1069  V1070  V1071  V1072  V1073  \\\n",
       "0  0.068041  ...      0      0      0      0      0      0      0      0   \n",
       "1  0.151375  ...      0      0      0      0      0      0      0      0   \n",
       "2  0.789110  ...      0      0      0      0      0      0      0      0   \n",
       "3  0.058926  ...      0      0      0      0      0      0      0      0   \n",
       "4  0.179152  ...      0      0      0      0      0      0      0      0   \n",
       "\n",
       "   V1074  V1075  \n",
       "0      0      0  \n",
       "1      0      0  \n",
       "2      0      0  \n",
       "3      0      0  \n",
       "4      0      0  \n",
       "\n",
       "[5 rows x 1076 columns]"
      ]
     },
     "execution_count": 36,
     "metadata": {},
     "output_type": "execute_result"
    }
   ],
   "source": [
    "feamat_df = pd.read_csv('/kaggle/input/the-toxicity-prediction-challenge/feamat.csv', sep=';|,')\n",
    "df =  test_df.merge(feamat_df, on = ['V1'],how = 'left')\n",
    "df.head()"
   ]
  },
  {
   "cell_type": "code",
   "execution_count": 37,
   "metadata": {
    "execution": {
     "iopub.execute_input": "2021-03-18T22:24:25.565160Z",
     "iopub.status.busy": "2021-03-18T22:24:25.563938Z",
     "iopub.status.idle": "2021-03-18T22:24:25.744365Z",
     "shell.execute_reply": "2021-03-18T22:24:25.743615Z"
    },
    "papermill": {
     "duration": 0.234672,
     "end_time": "2021-03-18T22:24:25.744531",
     "exception": false,
     "start_time": "2021-03-18T22:24:25.509859",
     "status": "completed"
    },
    "tags": []
   },
   "outputs": [
    {
     "name": "stdout",
     "output_type": "stream",
     "text": [
      "Before Imputing Null value count is:\n",
      "1\n",
      "After Imputing Null value count is:\n",
      "0\n"
     ]
    }
   ],
   "source": [
    "df = df.replace([np.inf, -np.inf], np.nan)\n",
    "print(\"Before Imputing Null value count is:\")\n",
    "print(df.isnull().any().sum())\n",
    "df = df.fillna(0)\n",
    "print(\"After Imputing Null value count is:\")\n",
    "print(df.isnull().any().sum())"
   ]
  },
  {
   "cell_type": "code",
   "execution_count": 38,
   "metadata": {
    "execution": {
     "iopub.execute_input": "2021-03-18T22:24:25.847860Z",
     "iopub.status.busy": "2021-03-18T22:24:25.847156Z",
     "iopub.status.idle": "2021-03-18T22:24:26.352428Z",
     "shell.execute_reply": "2021-03-18T22:24:26.353103Z"
    },
    "papermill": {
     "duration": 0.560048,
     "end_time": "2021-03-18T22:24:26.353321",
     "exception": false,
     "start_time": "2021-03-18T22:24:25.793273",
     "status": "completed"
    },
    "tags": []
   },
   "outputs": [],
   "source": [
    "df['V1'] = encoder.transform(df['V1'])\n",
    "X_important = best_model.transform(df)\n",
    "\n",
    "y_pred = model.predict(X_important)"
   ]
  },
  {
   "cell_type": "code",
   "execution_count": 39,
   "metadata": {
    "execution": {
     "iopub.execute_input": "2021-03-18T22:24:26.456461Z",
     "iopub.status.busy": "2021-03-18T22:24:26.455728Z",
     "iopub.status.idle": "2021-03-18T22:24:26.501786Z",
     "shell.execute_reply": "2021-03-18T22:24:26.502279Z"
    },
    "papermill": {
     "duration": 0.100221,
     "end_time": "2021-03-18T22:24:26.502467",
     "exception": false,
     "start_time": "2021-03-18T22:24:26.402246",
     "status": "completed"
    },
    "tags": []
   },
   "outputs": [
    {
     "name": "stdout",
     "output_type": "stream",
     "text": [
      "Your submission was successfully saved!\n"
     ]
    }
   ],
   "source": [
    "test_df = pd.read_csv('/kaggle/input/the-toxicity-prediction-challenge/test.csv', sep=',')\n",
    "output = pd.DataFrame({'Id': test_df[\"x\"], 'Predicted': y_pred})\n",
    "output.to_csv('submission.csv', index=False)\n",
    "print(\"Your submission was successfully saved!\")"
   ]
  }
 ],
 "metadata": {
  "kernelspec": {
   "display_name": "Python 3",
   "language": "python",
   "name": "python3"
  },
  "language_info": {
   "codemirror_mode": {
    "name": "ipython",
    "version": 3
   },
   "file_extension": ".py",
   "mimetype": "text/x-python",
   "name": "python",
   "nbconvert_exporter": "python",
   "pygments_lexer": "ipython3",
   "version": "3.7.9"
  },
  "papermill": {
   "default_parameters": {},
   "duration": 213.766606,
   "end_time": "2021-03-18T22:24:27.262965",
   "environment_variables": {},
   "exception": null,
   "input_path": "__notebook__.ipynb",
   "output_path": "__notebook__.ipynb",
   "parameters": {},
   "start_time": "2021-03-18T22:20:53.496359",
   "version": "2.2.2"
  }
 },
 "nbformat": 4,
 "nbformat_minor": 4
}

