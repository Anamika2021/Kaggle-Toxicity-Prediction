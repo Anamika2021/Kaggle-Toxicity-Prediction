{
 "cells": [
  {
   "cell_type": "code",
   "execution_count": 1,
   "metadata": {
    "_cell_guid": "b1076dfc-b9ad-4769-8c92-a6c4dae69d19",
    "_uuid": "8f2839f25d086af736a60e9eeb907d3b93b6e0e5",
    "execution": {
     "iopub.execute_input": "2021-04-01T16:25:15.712850Z",
     "iopub.status.busy": "2021-04-01T16:25:15.712189Z",
     "iopub.status.idle": "2021-04-01T16:25:15.721499Z",
     "shell.execute_reply": "2021-04-01T16:25:15.722009Z"
    },
    "papermill": {
     "duration": 0.03286,
     "end_time": "2021-04-01T16:25:15.722394",
     "exception": false,
     "start_time": "2021-04-01T16:25:15.689534",
     "status": "completed"
    },
    "tags": []
   },
   "outputs": [
    {
     "name": "stdout",
     "output_type": "stream",
     "text": [
      "/kaggle/input/the-toxicity-prediction-challenge/sample_submission.csv\n",
      "/kaggle/input/the-toxicity-prediction-challenge/feamat.csv\n",
      "/kaggle/input/the-toxicity-prediction-challenge/features_id_name_mappings.csv\n",
      "/kaggle/input/the-toxicity-prediction-challenge/train.csv\n",
      "/kaggle/input/the-toxicity-prediction-challenge/test.csv\n"
     ]
    }
   ],
   "source": [
    "# This Python 3 environment comes with many helpful analytics libraries installed\n",
    "# It is defined by the kaggle/python Docker image: https://github.com/kaggle/docker-python\n",
    "# For example, here's several helpful packages to load\n",
    "\n",
    "import numpy as np # linear algebra\n",
    "import pandas as pd # data processing, CSV file I/O (e.g. pd.read_csv)\n",
    "\n",
    "# Input data files are available in the read-only \"../input/\" directory\n",
    "# For example, running this (by clicking run or pressing Shift+Enter) will list all files under the input directory\n",
    "\n",
    "import os\n",
    "for dirname, _, filenames in os.walk('/kaggle/input'):\n",
    "    for filename in filenames:\n",
    "        print(os.path.join(dirname, filename))\n",
    "\n",
    "# You can write up to 20GB to the current directory (/kaggle/working/) that gets preserved as output when you create a version using \"Save & Run All\" \n",
    "# You can also write temporary files to /kaggle/temp/, but they won't be saved outside of the current session"
   ]
  },
  {
   "cell_type": "code",
   "execution_count": 2,
   "metadata": {
    "execution": {
     "iopub.execute_input": "2021-04-01T16:25:15.765749Z",
     "iopub.status.busy": "2021-04-01T16:25:15.764933Z",
     "iopub.status.idle": "2021-04-01T16:25:16.273725Z",
     "shell.execute_reply": "2021-04-01T16:25:16.274245Z"
    },
    "papermill": {
     "duration": 0.532838,
     "end_time": "2021-04-01T16:25:16.274445",
     "exception": false,
     "start_time": "2021-04-01T16:25:15.741607",
     "status": "completed"
    },
    "tags": []
   },
   "outputs": [
    {
     "name": "stderr",
     "output_type": "stream",
     "text": [
      "/opt/conda/lib/python3.7/site-packages/ipykernel_launcher.py:2: ParserWarning: Falling back to the 'python' engine because the 'c' engine does not support regex separators (separators > 1 char and different from '\\s+' are interpreted as regex); you can avoid this warning by specifying engine='python'.\n",
      "  \n"
     ]
    },
    {
     "data": {
      "text/html": [
       "<div>\n",
       "<style scoped>\n",
       "    .dataframe tbody tr th:only-of-type {\n",
       "        vertical-align: middle;\n",
       "    }\n",
       "\n",
       "    .dataframe tbody tr th {\n",
       "        vertical-align: top;\n",
       "    }\n",
       "\n",
       "    .dataframe thead th {\n",
       "        text-align: right;\n",
       "    }\n",
       "</style>\n",
       "<table border=\"1\" class=\"dataframe\">\n",
       "  <thead>\n",
       "    <tr style=\"text-align: right;\">\n",
       "      <th></th>\n",
       "      <th>Id</th>\n",
       "      <th>Expected</th>\n",
       "    </tr>\n",
       "  </thead>\n",
       "  <tbody>\n",
       "    <tr>\n",
       "      <th>2971-36-0</th>\n",
       "      <td>1644</td>\n",
       "      <td>2</td>\n",
       "    </tr>\n",
       "    <tr>\n",
       "      <th>693-54-9</th>\n",
       "      <td>2451</td>\n",
       "      <td>2</td>\n",
       "    </tr>\n",
       "    <tr>\n",
       "      <th>7173-51-5</th>\n",
       "      <td>1384</td>\n",
       "      <td>2</td>\n",
       "    </tr>\n",
       "    <tr>\n",
       "      <th>138261-41-3</th>\n",
       "      <td>16</td>\n",
       "      <td>2</td>\n",
       "    </tr>\n",
       "    <tr>\n",
       "      <th>7681-82-5</th>\n",
       "      <td>1856</td>\n",
       "      <td>2</td>\n",
       "    </tr>\n",
       "  </tbody>\n",
       "</table>\n",
       "</div>"
      ],
      "text/plain": [
       "               Id  Expected\n",
       "2971-36-0    1644         2\n",
       "693-54-9     2451         2\n",
       "7173-51-5    1384         2\n",
       "138261-41-3    16         2\n",
       "7681-82-5    1856         2"
      ]
     },
     "execution_count": 2,
     "metadata": {},
     "output_type": "execute_result"
    }
   ],
   "source": [
    "import pandas as pd\n",
    "train_df = pd.read_csv('/kaggle/input/the-toxicity-prediction-challenge/train.csv', sep=',|;')\n",
    "train_df.head()"
   ]
  },
  {
   "cell_type": "code",
   "execution_count": 3,
   "metadata": {
    "execution": {
     "iopub.execute_input": "2021-04-01T16:25:16.316646Z",
     "iopub.status.busy": "2021-04-01T16:25:16.315979Z",
     "iopub.status.idle": "2021-04-01T16:25:16.330435Z",
     "shell.execute_reply": "2021-04-01T16:25:16.330926Z"
    },
    "papermill": {
     "duration": 0.03731,
     "end_time": "2021-04-01T16:25:16.331102",
     "exception": false,
     "start_time": "2021-04-01T16:25:16.293792",
     "status": "completed"
    },
    "tags": []
   },
   "outputs": [
    {
     "data": {
      "text/html": [
       "<div>\n",
       "<style scoped>\n",
       "    .dataframe tbody tr th:only-of-type {\n",
       "        vertical-align: middle;\n",
       "    }\n",
       "\n",
       "    .dataframe tbody tr th {\n",
       "        vertical-align: top;\n",
       "    }\n",
       "\n",
       "    .dataframe thead th {\n",
       "        text-align: right;\n",
       "    }\n",
       "</style>\n",
       "<table border=\"1\" class=\"dataframe\">\n",
       "  <thead>\n",
       "    <tr style=\"text-align: right;\">\n",
       "      <th></th>\n",
       "      <th>V1</th>\n",
       "      <th>Id</th>\n",
       "      <th>Expected</th>\n",
       "    </tr>\n",
       "  </thead>\n",
       "  <tbody>\n",
       "    <tr>\n",
       "      <th>0</th>\n",
       "      <td>2971-36-0</td>\n",
       "      <td>1644</td>\n",
       "      <td>2</td>\n",
       "    </tr>\n",
       "    <tr>\n",
       "      <th>1</th>\n",
       "      <td>693-54-9</td>\n",
       "      <td>2451</td>\n",
       "      <td>2</td>\n",
       "    </tr>\n",
       "    <tr>\n",
       "      <th>2</th>\n",
       "      <td>7173-51-5</td>\n",
       "      <td>1384</td>\n",
       "      <td>2</td>\n",
       "    </tr>\n",
       "    <tr>\n",
       "      <th>3</th>\n",
       "      <td>138261-41-3</td>\n",
       "      <td>16</td>\n",
       "      <td>2</td>\n",
       "    </tr>\n",
       "    <tr>\n",
       "      <th>4</th>\n",
       "      <td>7681-82-5</td>\n",
       "      <td>1856</td>\n",
       "      <td>2</td>\n",
       "    </tr>\n",
       "  </tbody>\n",
       "</table>\n",
       "</div>"
      ],
      "text/plain": [
       "            V1    Id  Expected\n",
       "0    2971-36-0  1644         2\n",
       "1     693-54-9  2451         2\n",
       "2    7173-51-5  1384         2\n",
       "3  138261-41-3    16         2\n",
       "4    7681-82-5  1856         2"
      ]
     },
     "execution_count": 3,
     "metadata": {},
     "output_type": "execute_result"
    }
   ],
   "source": [
    "train_df.reset_index(inplace=True)\n",
    "train_df = train_df.rename(columns={\"index\": \"V1\"})\n",
    "train_df.head()"
   ]
  },
  {
   "cell_type": "code",
   "execution_count": 4,
   "metadata": {
    "execution": {
     "iopub.execute_input": "2021-04-01T16:25:16.376108Z",
     "iopub.status.busy": "2021-04-01T16:25:16.375421Z",
     "iopub.status.idle": "2021-04-01T16:25:29.712429Z",
     "shell.execute_reply": "2021-04-01T16:25:29.711829Z"
    },
    "papermill": {
     "duration": 13.361455,
     "end_time": "2021-04-01T16:25:29.712605",
     "exception": false,
     "start_time": "2021-04-01T16:25:16.351150",
     "status": "completed"
    },
    "tags": []
   },
   "outputs": [
    {
     "name": "stderr",
     "output_type": "stream",
     "text": [
      "/opt/conda/lib/python3.7/site-packages/ipykernel_launcher.py:1: ParserWarning: Falling back to the 'python' engine because the 'c' engine does not support regex separators (separators > 1 char and different from '\\s+' are interpreted as regex); you can avoid this warning by specifying engine='python'.\n",
      "  \"\"\"Entry point for launching an IPython kernel.\n"
     ]
    },
    {
     "data": {
      "text/html": [
       "<div>\n",
       "<style scoped>\n",
       "    .dataframe tbody tr th:only-of-type {\n",
       "        vertical-align: middle;\n",
       "    }\n",
       "\n",
       "    .dataframe tbody tr th {\n",
       "        vertical-align: top;\n",
       "    }\n",
       "\n",
       "    .dataframe thead th {\n",
       "        text-align: right;\n",
       "    }\n",
       "</style>\n",
       "<table border=\"1\" class=\"dataframe\">\n",
       "  <thead>\n",
       "    <tr style=\"text-align: right;\">\n",
       "      <th></th>\n",
       "      <th>V1</th>\n",
       "      <th>V2</th>\n",
       "      <th>V3</th>\n",
       "      <th>V4</th>\n",
       "      <th>V5</th>\n",
       "      <th>V6</th>\n",
       "      <th>V7</th>\n",
       "      <th>V8</th>\n",
       "      <th>V9</th>\n",
       "      <th>V10</th>\n",
       "      <th>...</th>\n",
       "      <th>V1066</th>\n",
       "      <th>V1067</th>\n",
       "      <th>V1068</th>\n",
       "      <th>V1069</th>\n",
       "      <th>V1070</th>\n",
       "      <th>V1071</th>\n",
       "      <th>V1072</th>\n",
       "      <th>V1073</th>\n",
       "      <th>V1074</th>\n",
       "      <th>V1075</th>\n",
       "    </tr>\n",
       "  </thead>\n",
       "  <tbody>\n",
       "    <tr>\n",
       "      <th>0</th>\n",
       "      <td>60-35-5</td>\n",
       "      <td>178</td>\n",
       "      <td>59.037114</td>\n",
       "      <td>-0.808</td>\n",
       "      <td>43.09</td>\n",
       "      <td>0.0</td>\n",
       "      <td>0.0</td>\n",
       "      <td>0.0</td>\n",
       "      <td>0.000000</td>\n",
       "      <td>0.000000</td>\n",
       "      <td>...</td>\n",
       "      <td>0</td>\n",
       "      <td>0</td>\n",
       "      <td>0</td>\n",
       "      <td>0</td>\n",
       "      <td>0</td>\n",
       "      <td>0</td>\n",
       "      <td>0</td>\n",
       "      <td>0</td>\n",
       "      <td>0</td>\n",
       "      <td>0</td>\n",
       "    </tr>\n",
       "    <tr>\n",
       "      <th>1</th>\n",
       "      <td>103-90-2</td>\n",
       "      <td>1983</td>\n",
       "      <td>151.063329</td>\n",
       "      <td>0.870</td>\n",
       "      <td>49.33</td>\n",
       "      <td>0.0</td>\n",
       "      <td>0.0</td>\n",
       "      <td>0.0</td>\n",
       "      <td>0.083333</td>\n",
       "      <td>0.142259</td>\n",
       "      <td>...</td>\n",
       "      <td>0</td>\n",
       "      <td>0</td>\n",
       "      <td>0</td>\n",
       "      <td>0</td>\n",
       "      <td>0</td>\n",
       "      <td>0</td>\n",
       "      <td>0</td>\n",
       "      <td>0</td>\n",
       "      <td>0</td>\n",
       "      <td>0</td>\n",
       "    </tr>\n",
       "    <tr>\n",
       "      <th>2</th>\n",
       "      <td>968-81-0</td>\n",
       "      <td>1989</td>\n",
       "      <td>324.114378</td>\n",
       "      <td>2.960</td>\n",
       "      <td>100.72</td>\n",
       "      <td>0.0</td>\n",
       "      <td>0.0</td>\n",
       "      <td>0.0</td>\n",
       "      <td>0.185395</td>\n",
       "      <td>0.161948</td>\n",
       "      <td>...</td>\n",
       "      <td>0</td>\n",
       "      <td>0</td>\n",
       "      <td>0</td>\n",
       "      <td>0</td>\n",
       "      <td>0</td>\n",
       "      <td>0</td>\n",
       "      <td>0</td>\n",
       "      <td>0</td>\n",
       "      <td>0</td>\n",
       "      <td>0</td>\n",
       "    </tr>\n",
       "    <tr>\n",
       "      <th>3</th>\n",
       "      <td>520-45-6</td>\n",
       "      <td>122903</td>\n",
       "      <td>168.042259</td>\n",
       "      <td>-0.551</td>\n",
       "      <td>60.44</td>\n",
       "      <td>0.0</td>\n",
       "      <td>0.0</td>\n",
       "      <td>0.0</td>\n",
       "      <td>0.055556</td>\n",
       "      <td>0.198742</td>\n",
       "      <td>...</td>\n",
       "      <td>0</td>\n",
       "      <td>0</td>\n",
       "      <td>0</td>\n",
       "      <td>0</td>\n",
       "      <td>0</td>\n",
       "      <td>0</td>\n",
       "      <td>0</td>\n",
       "      <td>0</td>\n",
       "      <td>0</td>\n",
       "      <td>0</td>\n",
       "    </tr>\n",
       "    <tr>\n",
       "      <th>4</th>\n",
       "      <td>50594-66-6</td>\n",
       "      <td>44073</td>\n",
       "      <td>360.996485</td>\n",
       "      <td>4.557</td>\n",
       "      <td>89.67</td>\n",
       "      <td>0.0</td>\n",
       "      <td>0.0</td>\n",
       "      <td>0.0</td>\n",
       "      <td>0.136083</td>\n",
       "      <td>0.276855</td>\n",
       "      <td>...</td>\n",
       "      <td>0</td>\n",
       "      <td>0</td>\n",
       "      <td>0</td>\n",
       "      <td>0</td>\n",
       "      <td>0</td>\n",
       "      <td>0</td>\n",
       "      <td>0</td>\n",
       "      <td>0</td>\n",
       "      <td>0</td>\n",
       "      <td>0</td>\n",
       "    </tr>\n",
       "  </tbody>\n",
       "</table>\n",
       "<p>5 rows × 1075 columns</p>\n",
       "</div>"
      ],
      "text/plain": [
       "           V1      V2          V3     V4      V5   V6   V7   V8        V9  \\\n",
       "0     60-35-5     178   59.037114 -0.808   43.09  0.0  0.0  0.0  0.000000   \n",
       "1    103-90-2    1983  151.063329  0.870   49.33  0.0  0.0  0.0  0.083333   \n",
       "2    968-81-0    1989  324.114378  2.960  100.72  0.0  0.0  0.0  0.185395   \n",
       "3    520-45-6  122903  168.042259 -0.551   60.44  0.0  0.0  0.0  0.055556   \n",
       "4  50594-66-6   44073  360.996485  4.557   89.67  0.0  0.0  0.0  0.136083   \n",
       "\n",
       "        V10  ...  V1066  V1067  V1068  V1069  V1070  V1071  V1072  V1073  \\\n",
       "0  0.000000  ...      0      0      0      0      0      0      0      0   \n",
       "1  0.142259  ...      0      0      0      0      0      0      0      0   \n",
       "2  0.161948  ...      0      0      0      0      0      0      0      0   \n",
       "3  0.198742  ...      0      0      0      0      0      0      0      0   \n",
       "4  0.276855  ...      0      0      0      0      0      0      0      0   \n",
       "\n",
       "   V1074  V1075  \n",
       "0      0      0  \n",
       "1      0      0  \n",
       "2      0      0  \n",
       "3      0      0  \n",
       "4      0      0  \n",
       "\n",
       "[5 rows x 1075 columns]"
      ]
     },
     "execution_count": 4,
     "metadata": {},
     "output_type": "execute_result"
    }
   ],
   "source": [
    "feamat_df = pd.read_csv('/kaggle/input/the-toxicity-prediction-challenge/feamat.csv', sep=';|,')\n",
    "feamat_df.head()"
   ]
  },
  {
   "cell_type": "code",
   "execution_count": 5,
   "metadata": {
    "execution": {
     "iopub.execute_input": "2021-04-01T16:25:29.760378Z",
     "iopub.status.busy": "2021-04-01T16:25:29.759646Z",
     "iopub.status.idle": "2021-04-01T16:25:31.145483Z",
     "shell.execute_reply": "2021-04-01T16:25:31.144781Z"
    },
    "papermill": {
     "duration": 1.411975,
     "end_time": "2021-04-01T16:25:31.145633",
     "exception": false,
     "start_time": "2021-04-01T16:25:29.733658",
     "status": "completed"
    },
    "tags": []
   },
   "outputs": [
    {
     "data": {
      "text/html": [
       "<div>\n",
       "<style scoped>\n",
       "    .dataframe tbody tr th:only-of-type {\n",
       "        vertical-align: middle;\n",
       "    }\n",
       "\n",
       "    .dataframe tbody tr th {\n",
       "        vertical-align: top;\n",
       "    }\n",
       "\n",
       "    .dataframe thead th {\n",
       "        text-align: right;\n",
       "    }\n",
       "</style>\n",
       "<table border=\"1\" class=\"dataframe\">\n",
       "  <thead>\n",
       "    <tr style=\"text-align: right;\">\n",
       "      <th></th>\n",
       "      <th>V1</th>\n",
       "      <th>Id</th>\n",
       "      <th>Expected</th>\n",
       "      <th>V2</th>\n",
       "      <th>V3</th>\n",
       "      <th>V4</th>\n",
       "      <th>V5</th>\n",
       "      <th>V6</th>\n",
       "      <th>V7</th>\n",
       "      <th>V8</th>\n",
       "      <th>...</th>\n",
       "      <th>V1066</th>\n",
       "      <th>V1067</th>\n",
       "      <th>V1068</th>\n",
       "      <th>V1069</th>\n",
       "      <th>V1070</th>\n",
       "      <th>V1071</th>\n",
       "      <th>V1072</th>\n",
       "      <th>V1073</th>\n",
       "      <th>V1074</th>\n",
       "      <th>V1075</th>\n",
       "    </tr>\n",
       "  </thead>\n",
       "  <tbody>\n",
       "    <tr>\n",
       "      <th>0</th>\n",
       "      <td>2971-36-0</td>\n",
       "      <td>1644</td>\n",
       "      <td>2</td>\n",
       "      <td>76302</td>\n",
       "      <td>315.982463</td>\n",
       "      <td>4.592</td>\n",
       "      <td>40.46</td>\n",
       "      <td>0.0</td>\n",
       "      <td>0.0</td>\n",
       "      <td>0.000000</td>\n",
       "      <td>...</td>\n",
       "      <td>0</td>\n",
       "      <td>0</td>\n",
       "      <td>0</td>\n",
       "      <td>0</td>\n",
       "      <td>0</td>\n",
       "      <td>0</td>\n",
       "      <td>0</td>\n",
       "      <td>0</td>\n",
       "      <td>0</td>\n",
       "      <td>0</td>\n",
       "    </tr>\n",
       "    <tr>\n",
       "      <th>1</th>\n",
       "      <td>693-54-9</td>\n",
       "      <td>2451</td>\n",
       "      <td>2</td>\n",
       "      <td>12741</td>\n",
       "      <td>156.151415</td>\n",
       "      <td>3.852</td>\n",
       "      <td>17.07</td>\n",
       "      <td>0.0</td>\n",
       "      <td>0.0</td>\n",
       "      <td>0.000000</td>\n",
       "      <td>...</td>\n",
       "      <td>0</td>\n",
       "      <td>0</td>\n",
       "      <td>0</td>\n",
       "      <td>0</td>\n",
       "      <td>0</td>\n",
       "      <td>0</td>\n",
       "      <td>0</td>\n",
       "      <td>0</td>\n",
       "      <td>0</td>\n",
       "      <td>0</td>\n",
       "    </tr>\n",
       "    <tr>\n",
       "      <th>2</th>\n",
       "      <td>7173-51-5</td>\n",
       "      <td>1384</td>\n",
       "      <td>2</td>\n",
       "      <td>23558</td>\n",
       "      <td>361.347528</td>\n",
       "      <td>9.912</td>\n",
       "      <td>0.00</td>\n",
       "      <td>0.0</td>\n",
       "      <td>0.0</td>\n",
       "      <td>0.000000</td>\n",
       "      <td>...</td>\n",
       "      <td>0</td>\n",
       "      <td>0</td>\n",
       "      <td>0</td>\n",
       "      <td>0</td>\n",
       "      <td>0</td>\n",
       "      <td>0</td>\n",
       "      <td>0</td>\n",
       "      <td>0</td>\n",
       "      <td>0</td>\n",
       "      <td>0</td>\n",
       "    </tr>\n",
       "    <tr>\n",
       "      <th>3</th>\n",
       "      <td>138261-41-3</td>\n",
       "      <td>16</td>\n",
       "      <td>2</td>\n",
       "      <td>86418</td>\n",
       "      <td>255.052302</td>\n",
       "      <td>2.294</td>\n",
       "      <td>83.66</td>\n",
       "      <td>0.0</td>\n",
       "      <td>0.0</td>\n",
       "      <td>0.117851</td>\n",
       "      <td>...</td>\n",
       "      <td>0</td>\n",
       "      <td>0</td>\n",
       "      <td>0</td>\n",
       "      <td>0</td>\n",
       "      <td>0</td>\n",
       "      <td>0</td>\n",
       "      <td>0</td>\n",
       "      <td>0</td>\n",
       "      <td>0</td>\n",
       "      <td>0</td>\n",
       "    </tr>\n",
       "    <tr>\n",
       "      <th>4</th>\n",
       "      <td>7681-82-5</td>\n",
       "      <td>1856</td>\n",
       "      <td>2</td>\n",
       "      <td>5238</td>\n",
       "      <td>149.894242</td>\n",
       "      <td>1.050</td>\n",
       "      <td>0.00</td>\n",
       "      <td>0.0</td>\n",
       "      <td>0.0</td>\n",
       "      <td>0.000000</td>\n",
       "      <td>...</td>\n",
       "      <td>0</td>\n",
       "      <td>0</td>\n",
       "      <td>0</td>\n",
       "      <td>0</td>\n",
       "      <td>0</td>\n",
       "      <td>0</td>\n",
       "      <td>0</td>\n",
       "      <td>0</td>\n",
       "      <td>0</td>\n",
       "      <td>0</td>\n",
       "    </tr>\n",
       "  </tbody>\n",
       "</table>\n",
       "<p>5 rows × 1077 columns</p>\n",
       "</div>"
      ],
      "text/plain": [
       "            V1    Id  Expected     V2          V3     V4     V5   V6   V7  \\\n",
       "0    2971-36-0  1644         2  76302  315.982463  4.592  40.46  0.0  0.0   \n",
       "1     693-54-9  2451         2  12741  156.151415  3.852  17.07  0.0  0.0   \n",
       "2    7173-51-5  1384         2  23558  361.347528  9.912   0.00  0.0  0.0   \n",
       "3  138261-41-3    16         2  86418  255.052302  2.294  83.66  0.0  0.0   \n",
       "4    7681-82-5  1856         2   5238  149.894242  1.050   0.00  0.0  0.0   \n",
       "\n",
       "         V8  ...  V1066  V1067  V1068  V1069  V1070  V1071  V1072  V1073  \\\n",
       "0  0.000000  ...      0      0      0      0      0      0      0      0   \n",
       "1  0.000000  ...      0      0      0      0      0      0      0      0   \n",
       "2  0.000000  ...      0      0      0      0      0      0      0      0   \n",
       "3  0.117851  ...      0      0      0      0      0      0      0      0   \n",
       "4  0.000000  ...      0      0      0      0      0      0      0      0   \n",
       "\n",
       "   V1074  V1075  \n",
       "0      0      0  \n",
       "1      0      0  \n",
       "2      0      0  \n",
       "3      0      0  \n",
       "4      0      0  \n",
       "\n",
       "[5 rows x 1077 columns]"
      ]
     },
     "execution_count": 5,
     "metadata": {},
     "output_type": "execute_result"
    }
   ],
   "source": [
    "combined_df = train_df.merge(feamat_df, on = ['V1'],how = 'left')\n",
    "combined_df.head()"
   ]
  },
  {
   "cell_type": "code",
   "execution_count": 6,
   "metadata": {
    "execution": {
     "iopub.execute_input": "2021-04-01T16:25:31.195332Z",
     "iopub.status.busy": "2021-04-01T16:25:31.194648Z",
     "iopub.status.idle": "2021-04-01T16:25:31.993964Z",
     "shell.execute_reply": "2021-04-01T16:25:31.993327Z"
    },
    "papermill": {
     "duration": 0.826425,
     "end_time": "2021-04-01T16:25:31.994108",
     "exception": false,
     "start_time": "2021-04-01T16:25:31.167683",
     "status": "completed"
    },
    "tags": []
   },
   "outputs": [],
   "source": [
    "combined_df = combined_df.replace([np.inf, -np.inf], np.nan)"
   ]
  },
  {
   "cell_type": "code",
   "execution_count": 7,
   "metadata": {
    "execution": {
     "iopub.execute_input": "2021-04-01T16:25:32.046837Z",
     "iopub.status.busy": "2021-04-01T16:25:32.045640Z",
     "iopub.status.idle": "2021-04-01T16:25:32.097624Z",
     "shell.execute_reply": "2021-04-01T16:25:32.097065Z"
    },
    "papermill": {
     "duration": 0.079441,
     "end_time": "2021-04-01T16:25:32.097802",
     "exception": false,
     "start_time": "2021-04-01T16:25:32.018361",
     "status": "completed"
    },
    "tags": []
   },
   "outputs": [
    {
     "data": {
      "text/plain": [
       "1"
      ]
     },
     "execution_count": 7,
     "metadata": {},
     "output_type": "execute_result"
    }
   ],
   "source": [
    "combined_df.isnull().any().sum()"
   ]
  },
  {
   "cell_type": "code",
   "execution_count": 8,
   "metadata": {
    "execution": {
     "iopub.execute_input": "2021-04-01T16:25:32.146924Z",
     "iopub.status.busy": "2021-04-01T16:25:32.146139Z",
     "iopub.status.idle": "2021-04-01T16:25:32.434965Z",
     "shell.execute_reply": "2021-04-01T16:25:32.434368Z"
    },
    "papermill": {
     "duration": 0.315256,
     "end_time": "2021-04-01T16:25:32.435127",
     "exception": false,
     "start_time": "2021-04-01T16:25:32.119871",
     "status": "completed"
    },
    "tags": []
   },
   "outputs": [],
   "source": [
    "combined_df = combined_df.fillna(0)"
   ]
  },
  {
   "cell_type": "code",
   "execution_count": 9,
   "metadata": {
    "execution": {
     "iopub.execute_input": "2021-04-01T16:25:32.486055Z",
     "iopub.status.busy": "2021-04-01T16:25:32.485385Z",
     "iopub.status.idle": "2021-04-01T16:25:33.590344Z",
     "shell.execute_reply": "2021-04-01T16:25:33.589689Z"
    },
    "papermill": {
     "duration": 1.13251,
     "end_time": "2021-04-01T16:25:33.590489",
     "exception": false,
     "start_time": "2021-04-01T16:25:32.457979",
     "status": "completed"
    },
    "tags": []
   },
   "outputs": [
    {
     "data": {
      "text/html": [
       "<div>\n",
       "<style scoped>\n",
       "    .dataframe tbody tr th:only-of-type {\n",
       "        vertical-align: middle;\n",
       "    }\n",
       "\n",
       "    .dataframe tbody tr th {\n",
       "        vertical-align: top;\n",
       "    }\n",
       "\n",
       "    .dataframe thead th {\n",
       "        text-align: right;\n",
       "    }\n",
       "</style>\n",
       "<table border=\"1\" class=\"dataframe\">\n",
       "  <thead>\n",
       "    <tr style=\"text-align: right;\">\n",
       "      <th></th>\n",
       "      <th>V1</th>\n",
       "      <th>V2</th>\n",
       "      <th>V3</th>\n",
       "      <th>V4</th>\n",
       "      <th>V5</th>\n",
       "      <th>V6</th>\n",
       "      <th>V7</th>\n",
       "      <th>V8</th>\n",
       "      <th>V9</th>\n",
       "      <th>V10</th>\n",
       "      <th>...</th>\n",
       "      <th>V1066</th>\n",
       "      <th>V1067</th>\n",
       "      <th>V1068</th>\n",
       "      <th>V1069</th>\n",
       "      <th>V1070</th>\n",
       "      <th>V1071</th>\n",
       "      <th>V1072</th>\n",
       "      <th>V1073</th>\n",
       "      <th>V1074</th>\n",
       "      <th>V1075</th>\n",
       "    </tr>\n",
       "  </thead>\n",
       "  <tbody>\n",
       "    <tr>\n",
       "      <th>0</th>\n",
       "      <td>6088</td>\n",
       "      <td>178</td>\n",
       "      <td>59.037114</td>\n",
       "      <td>-0.808</td>\n",
       "      <td>43.09</td>\n",
       "      <td>0.0</td>\n",
       "      <td>0.0</td>\n",
       "      <td>0.0</td>\n",
       "      <td>0.000000</td>\n",
       "      <td>0.000000</td>\n",
       "      <td>...</td>\n",
       "      <td>0</td>\n",
       "      <td>0</td>\n",
       "      <td>0</td>\n",
       "      <td>0</td>\n",
       "      <td>0</td>\n",
       "      <td>0</td>\n",
       "      <td>0</td>\n",
       "      <td>0</td>\n",
       "      <td>0</td>\n",
       "      <td>0</td>\n",
       "    </tr>\n",
       "    <tr>\n",
       "      <th>1</th>\n",
       "      <td>246</td>\n",
       "      <td>1983</td>\n",
       "      <td>151.063329</td>\n",
       "      <td>0.870</td>\n",
       "      <td>49.33</td>\n",
       "      <td>0.0</td>\n",
       "      <td>0.0</td>\n",
       "      <td>0.0</td>\n",
       "      <td>0.083333</td>\n",
       "      <td>0.142259</td>\n",
       "      <td>...</td>\n",
       "      <td>0</td>\n",
       "      <td>0</td>\n",
       "      <td>0</td>\n",
       "      <td>0</td>\n",
       "      <td>0</td>\n",
       "      <td>0</td>\n",
       "      <td>0</td>\n",
       "      <td>0</td>\n",
       "      <td>0</td>\n",
       "      <td>0</td>\n",
       "    </tr>\n",
       "    <tr>\n",
       "      <th>2</th>\n",
       "      <td>8586</td>\n",
       "      <td>1989</td>\n",
       "      <td>324.114378</td>\n",
       "      <td>2.960</td>\n",
       "      <td>100.72</td>\n",
       "      <td>0.0</td>\n",
       "      <td>0.0</td>\n",
       "      <td>0.0</td>\n",
       "      <td>0.185395</td>\n",
       "      <td>0.161948</td>\n",
       "      <td>...</td>\n",
       "      <td>0</td>\n",
       "      <td>0</td>\n",
       "      <td>0</td>\n",
       "      <td>0</td>\n",
       "      <td>0</td>\n",
       "      <td>0</td>\n",
       "      <td>0</td>\n",
       "      <td>0</td>\n",
       "      <td>0</td>\n",
       "      <td>0</td>\n",
       "    </tr>\n",
       "    <tr>\n",
       "      <th>3</th>\n",
       "      <td>5224</td>\n",
       "      <td>122903</td>\n",
       "      <td>168.042259</td>\n",
       "      <td>-0.551</td>\n",
       "      <td>60.44</td>\n",
       "      <td>0.0</td>\n",
       "      <td>0.0</td>\n",
       "      <td>0.0</td>\n",
       "      <td>0.055556</td>\n",
       "      <td>0.198742</td>\n",
       "      <td>...</td>\n",
       "      <td>0</td>\n",
       "      <td>0</td>\n",
       "      <td>0</td>\n",
       "      <td>0</td>\n",
       "      <td>0</td>\n",
       "      <td>0</td>\n",
       "      <td>0</td>\n",
       "      <td>0</td>\n",
       "      <td>0</td>\n",
       "      <td>0</td>\n",
       "    </tr>\n",
       "    <tr>\n",
       "      <th>4</th>\n",
       "      <td>5064</td>\n",
       "      <td>44073</td>\n",
       "      <td>360.996485</td>\n",
       "      <td>4.557</td>\n",
       "      <td>89.67</td>\n",
       "      <td>0.0</td>\n",
       "      <td>0.0</td>\n",
       "      <td>0.0</td>\n",
       "      <td>0.136083</td>\n",
       "      <td>0.276855</td>\n",
       "      <td>...</td>\n",
       "      <td>0</td>\n",
       "      <td>0</td>\n",
       "      <td>0</td>\n",
       "      <td>0</td>\n",
       "      <td>0</td>\n",
       "      <td>0</td>\n",
       "      <td>0</td>\n",
       "      <td>0</td>\n",
       "      <td>0</td>\n",
       "      <td>0</td>\n",
       "    </tr>\n",
       "  </tbody>\n",
       "</table>\n",
       "<p>5 rows × 1075 columns</p>\n",
       "</div>"
      ],
      "text/plain": [
       "     V1      V2          V3     V4      V5   V6   V7   V8        V9       V10  \\\n",
       "0  6088     178   59.037114 -0.808   43.09  0.0  0.0  0.0  0.000000  0.000000   \n",
       "1   246    1983  151.063329  0.870   49.33  0.0  0.0  0.0  0.083333  0.142259   \n",
       "2  8586    1989  324.114378  2.960  100.72  0.0  0.0  0.0  0.185395  0.161948   \n",
       "3  5224  122903  168.042259 -0.551   60.44  0.0  0.0  0.0  0.055556  0.198742   \n",
       "4  5064   44073  360.996485  4.557   89.67  0.0  0.0  0.0  0.136083  0.276855   \n",
       "\n",
       "   ...  V1066  V1067  V1068  V1069  V1070  V1071  V1072  V1073  V1074  V1075  \n",
       "0  ...      0      0      0      0      0      0      0      0      0      0  \n",
       "1  ...      0      0      0      0      0      0      0      0      0      0  \n",
       "2  ...      0      0      0      0      0      0      0      0      0      0  \n",
       "3  ...      0      0      0      0      0      0      0      0      0      0  \n",
       "4  ...      0      0      0      0      0      0      0      0      0      0  \n",
       "\n",
       "[5 rows x 1075 columns]"
      ]
     },
     "execution_count": 9,
     "metadata": {},
     "output_type": "execute_result"
    }
   ],
   "source": [
    "from sklearn.preprocessing import LabelEncoder\n",
    "\n",
    "encoder = LabelEncoder()\n",
    "feamat_df['V1'] = encoder.fit_transform(feamat_df['V1'])\n",
    "\n",
    "feamat_df.head() #Results in appending a new column to"
   ]
  },
  {
   "cell_type": "code",
   "execution_count": 10,
   "metadata": {
    "execution": {
     "iopub.execute_input": "2021-04-01T16:25:33.685365Z",
     "iopub.status.busy": "2021-04-01T16:25:33.662241Z",
     "iopub.status.idle": "2021-04-01T16:25:33.710384Z",
     "shell.execute_reply": "2021-04-01T16:25:33.710883Z"
    },
    "papermill": {
     "duration": 0.097283,
     "end_time": "2021-04-01T16:25:33.711056",
     "exception": false,
     "start_time": "2021-04-01T16:25:33.613773",
     "status": "completed"
    },
    "tags": []
   },
   "outputs": [
    {
     "data": {
      "text/html": [
       "<div>\n",
       "<style scoped>\n",
       "    .dataframe tbody tr th:only-of-type {\n",
       "        vertical-align: middle;\n",
       "    }\n",
       "\n",
       "    .dataframe tbody tr th {\n",
       "        vertical-align: top;\n",
       "    }\n",
       "\n",
       "    .dataframe thead th {\n",
       "        text-align: right;\n",
       "    }\n",
       "</style>\n",
       "<table border=\"1\" class=\"dataframe\">\n",
       "  <thead>\n",
       "    <tr style=\"text-align: right;\">\n",
       "      <th></th>\n",
       "      <th>V1</th>\n",
       "      <th>Id</th>\n",
       "      <th>Expected</th>\n",
       "      <th>V2</th>\n",
       "      <th>V3</th>\n",
       "      <th>V4</th>\n",
       "      <th>V5</th>\n",
       "      <th>V6</th>\n",
       "      <th>V7</th>\n",
       "      <th>V8</th>\n",
       "      <th>...</th>\n",
       "      <th>V1066</th>\n",
       "      <th>V1067</th>\n",
       "      <th>V1068</th>\n",
       "      <th>V1069</th>\n",
       "      <th>V1070</th>\n",
       "      <th>V1071</th>\n",
       "      <th>V1072</th>\n",
       "      <th>V1073</th>\n",
       "      <th>V1074</th>\n",
       "      <th>V1075</th>\n",
       "    </tr>\n",
       "  </thead>\n",
       "  <tbody>\n",
       "    <tr>\n",
       "      <th>0</th>\n",
       "      <td>3799</td>\n",
       "      <td>1644</td>\n",
       "      <td>2</td>\n",
       "      <td>76302</td>\n",
       "      <td>315.982463</td>\n",
       "      <td>4.592</td>\n",
       "      <td>40.46</td>\n",
       "      <td>0.0</td>\n",
       "      <td>0.0</td>\n",
       "      <td>0.000000</td>\n",
       "      <td>...</td>\n",
       "      <td>0</td>\n",
       "      <td>0</td>\n",
       "      <td>0</td>\n",
       "      <td>0</td>\n",
       "      <td>0</td>\n",
       "      <td>0</td>\n",
       "      <td>0</td>\n",
       "      <td>0</td>\n",
       "      <td>0</td>\n",
       "      <td>0</td>\n",
       "    </tr>\n",
       "    <tr>\n",
       "      <th>1</th>\n",
       "      <td>6930</td>\n",
       "      <td>2451</td>\n",
       "      <td>2</td>\n",
       "      <td>12741</td>\n",
       "      <td>156.151415</td>\n",
       "      <td>3.852</td>\n",
       "      <td>17.07</td>\n",
       "      <td>0.0</td>\n",
       "      <td>0.0</td>\n",
       "      <td>0.000000</td>\n",
       "      <td>...</td>\n",
       "      <td>0</td>\n",
       "      <td>0</td>\n",
       "      <td>0</td>\n",
       "      <td>0</td>\n",
       "      <td>0</td>\n",
       "      <td>0</td>\n",
       "      <td>0</td>\n",
       "      <td>0</td>\n",
       "      <td>0</td>\n",
       "      <td>0</td>\n",
       "    </tr>\n",
       "    <tr>\n",
       "      <th>2</th>\n",
       "      <td>7062</td>\n",
       "      <td>1384</td>\n",
       "      <td>2</td>\n",
       "      <td>23558</td>\n",
       "      <td>361.347528</td>\n",
       "      <td>9.912</td>\n",
       "      <td>0.00</td>\n",
       "      <td>0.0</td>\n",
       "      <td>0.0</td>\n",
       "      <td>0.000000</td>\n",
       "      <td>...</td>\n",
       "      <td>0</td>\n",
       "      <td>0</td>\n",
       "      <td>0</td>\n",
       "      <td>0</td>\n",
       "      <td>0</td>\n",
       "      <td>0</td>\n",
       "      <td>0</td>\n",
       "      <td>0</td>\n",
       "      <td>0</td>\n",
       "      <td>0</td>\n",
       "    </tr>\n",
       "    <tr>\n",
       "      <th>3</th>\n",
       "      <td>1852</td>\n",
       "      <td>16</td>\n",
       "      <td>2</td>\n",
       "      <td>86418</td>\n",
       "      <td>255.052302</td>\n",
       "      <td>2.294</td>\n",
       "      <td>83.66</td>\n",
       "      <td>0.0</td>\n",
       "      <td>0.0</td>\n",
       "      <td>0.117851</td>\n",
       "      <td>...</td>\n",
       "      <td>0</td>\n",
       "      <td>0</td>\n",
       "      <td>0</td>\n",
       "      <td>0</td>\n",
       "      <td>0</td>\n",
       "      <td>0</td>\n",
       "      <td>0</td>\n",
       "      <td>0</td>\n",
       "      <td>0</td>\n",
       "      <td>0</td>\n",
       "    </tr>\n",
       "    <tr>\n",
       "      <th>4</th>\n",
       "      <td>7375</td>\n",
       "      <td>1856</td>\n",
       "      <td>2</td>\n",
       "      <td>5238</td>\n",
       "      <td>149.894242</td>\n",
       "      <td>1.050</td>\n",
       "      <td>0.00</td>\n",
       "      <td>0.0</td>\n",
       "      <td>0.0</td>\n",
       "      <td>0.000000</td>\n",
       "      <td>...</td>\n",
       "      <td>0</td>\n",
       "      <td>0</td>\n",
       "      <td>0</td>\n",
       "      <td>0</td>\n",
       "      <td>0</td>\n",
       "      <td>0</td>\n",
       "      <td>0</td>\n",
       "      <td>0</td>\n",
       "      <td>0</td>\n",
       "      <td>0</td>\n",
       "    </tr>\n",
       "  </tbody>\n",
       "</table>\n",
       "<p>5 rows × 1077 columns</p>\n",
       "</div>"
      ],
      "text/plain": [
       "     V1    Id  Expected     V2          V3     V4     V5   V6   V7        V8  \\\n",
       "0  3799  1644         2  76302  315.982463  4.592  40.46  0.0  0.0  0.000000   \n",
       "1  6930  2451         2  12741  156.151415  3.852  17.07  0.0  0.0  0.000000   \n",
       "2  7062  1384         2  23558  361.347528  9.912   0.00  0.0  0.0  0.000000   \n",
       "3  1852    16         2  86418  255.052302  2.294  83.66  0.0  0.0  0.117851   \n",
       "4  7375  1856         2   5238  149.894242  1.050   0.00  0.0  0.0  0.000000   \n",
       "\n",
       "   ...  V1066  V1067  V1068  V1069  V1070  V1071  V1072  V1073  V1074  V1075  \n",
       "0  ...      0      0      0      0      0      0      0      0      0      0  \n",
       "1  ...      0      0      0      0      0      0      0      0      0      0  \n",
       "2  ...      0      0      0      0      0      0      0      0      0      0  \n",
       "3  ...      0      0      0      0      0      0      0      0      0      0  \n",
       "4  ...      0      0      0      0      0      0      0      0      0      0  \n",
       "\n",
       "[5 rows x 1077 columns]"
      ]
     },
     "execution_count": 10,
     "metadata": {},
     "output_type": "execute_result"
    }
   ],
   "source": [
    "combined_df['V1'] = encoder.transform(combined_df['V1'])\n",
    "combined_df.head()"
   ]
  },
  {
   "cell_type": "code",
   "execution_count": 11,
   "metadata": {
    "execution": {
     "iopub.execute_input": "2021-04-01T16:25:33.764528Z",
     "iopub.status.busy": "2021-04-01T16:25:33.763609Z",
     "iopub.status.idle": "2021-04-01T16:25:34.473190Z",
     "shell.execute_reply": "2021-04-01T16:25:34.472500Z"
    },
    "papermill": {
     "duration": 0.738611,
     "end_time": "2021-04-01T16:25:34.473356",
     "exception": false,
     "start_time": "2021-04-01T16:25:33.734745",
     "status": "completed"
    },
    "tags": []
   },
   "outputs": [],
   "source": [
    "X = combined_df.drop(['Expected'], axis=1)\n",
    "y = combined_df['Expected']"
   ]
  },
  {
   "cell_type": "code",
   "execution_count": 12,
   "metadata": {
    "execution": {
     "iopub.execute_input": "2021-04-01T16:25:34.526910Z",
     "iopub.status.busy": "2021-04-01T16:25:34.526104Z",
     "iopub.status.idle": "2021-04-01T16:25:36.771832Z",
     "shell.execute_reply": "2021-04-01T16:25:36.771121Z"
    },
    "papermill": {
     "duration": 2.274472,
     "end_time": "2021-04-01T16:25:36.771984",
     "exception": false,
     "start_time": "2021-04-01T16:25:34.497512",
     "status": "completed"
    },
    "tags": []
   },
   "outputs": [
    {
     "name": "stderr",
     "output_type": "stream",
     "text": [
      "/opt/conda/lib/python3.7/site-packages/sklearn/feature_selection/_univariate_selection.py:115: UserWarning: Features [  29   30   32  199  200  202  203  227  237  244  250  258  259  261\n",
      "  262  263  264  265  266  267  268  269  270  272  277  278  279  281\n",
      "  282  283  284  285  286  287  288  289  291  292  293  294  295  296\n",
      "  298  299  301  302  304  305  306  308  309  314  315  316  318  321\n",
      "  322  323  328  329  330  333  334  335  336  337  356  360  361  362\n",
      "  363  364  365  367  368  369  370  371  372  392  393  398  399  400\n",
      "  403  405  406  407  416  417  418  423  426  427  428  429  430  431\n",
      "  432  433  434  435  438  439  441  442  444  445  447  448  449  457\n",
      "  458  459  460  461  462  463  464  465  466  467  468  470  473  474\n",
      "  475  476  477  483  484  485  491  497  505  506  510  511  512  513\n",
      "  514  515  516  517  518  519  520  521  597  619  621  658  919  922\n",
      "  925  927  943  961  964  982  985  988  990 1006 1024 1027 1039 1040\n",
      " 1041 1042 1044 1045 1046 1047 1048 1049 1050 1051 1053 1054 1057 1060\n",
      " 1065 1066 1068 1069 1070 1071 1072 1074 1075] are constant.\n",
      "  UserWarning)\n",
      "/opt/conda/lib/python3.7/site-packages/sklearn/feature_selection/_univariate_selection.py:116: RuntimeWarning: invalid value encountered in true_divide\n",
      "  f = msb / msw\n"
     ]
    },
    {
     "data": {
      "text/plain": [
       "array([[1.64400000e+03, 3.15982463e+02, 4.59200000e+00, ...,\n",
       "        1.00000000e+00, 1.00000000e+00, 1.00000000e+00],\n",
       "       [2.45100000e+03, 1.56151415e+02, 3.85200000e+00, ...,\n",
       "        1.00000000e+00, 0.00000000e+00, 0.00000000e+00],\n",
       "       [1.38400000e+03, 3.61347528e+02, 9.91200000e+00, ...,\n",
       "        1.00000000e+00, 0.00000000e+00, 0.00000000e+00],\n",
       "       ...,\n",
       "       [1.37300000e+03, 1.66986341e+02, 2.11500000e+00, ...,\n",
       "        0.00000000e+00, 0.00000000e+00, 0.00000000e+00],\n",
       "       [2.00000000e+00, 1.28120115e+02, 3.15600000e+00, ...,\n",
       "        0.00000000e+00, 0.00000000e+00, 0.00000000e+00],\n",
       "       [2.00000000e+00, 6.36486609e+02, 9.65000000e+00, ...,\n",
       "        1.00000000e+00, 1.00000000e+00, 1.00000000e+00]])"
      ]
     },
     "execution_count": 12,
     "metadata": {},
     "output_type": "execute_result"
    }
   ],
   "source": [
    "from sklearn.feature_selection import SelectKBest\n",
    "from sklearn.feature_selection import f_classif\n",
    "\n",
    "fvalue_Best = SelectKBest(f_classif, k=17)\n",
    "X_kbest = fvalue_Best.fit_transform(X, y)\n",
    "X_kbest"
   ]
  },
  {
   "cell_type": "code",
   "execution_count": 13,
   "metadata": {
    "execution": {
     "iopub.execute_input": "2021-04-01T16:25:36.828826Z",
     "iopub.status.busy": "2021-04-01T16:25:36.827965Z",
     "iopub.status.idle": "2021-04-01T16:25:40.827143Z",
     "shell.execute_reply": "2021-04-01T16:25:40.825973Z"
    },
    "papermill": {
     "duration": 4.030199,
     "end_time": "2021-04-01T16:25:40.827324",
     "exception": false,
     "start_time": "2021-04-01T16:25:36.797125",
     "status": "completed"
    },
    "tags": []
   },
   "outputs": [],
   "source": [
    "from imblearn.over_sampling import SMOTE\n",
    "from imblearn.under_sampling import RandomUnderSampler\n",
    "from imblearn.pipeline import Pipeline\n",
    "\n",
    "# define pipeline\n",
    "over = SMOTE(random_state=2)\n",
    "under = RandomUnderSampler()\n",
    "steps = [('o', over), ('u', under)]\n",
    "pipeline = Pipeline(steps=steps)\n",
    "\n",
    "\n",
    "X_kbest, y = pipeline.fit_resample(X_kbest, y)"
   ]
  },
  {
   "cell_type": "code",
   "execution_count": 14,
   "metadata": {
    "execution": {
     "iopub.execute_input": "2021-04-01T16:25:40.885626Z",
     "iopub.status.busy": "2021-04-01T16:25:40.884892Z",
     "iopub.status.idle": "2021-04-01T16:25:40.909115Z",
     "shell.execute_reply": "2021-04-01T16:25:40.909800Z"
    },
    "papermill": {
     "duration": 0.056043,
     "end_time": "2021-04-01T16:25:40.909997",
     "exception": false,
     "start_time": "2021-04-01T16:25:40.853954",
     "status": "completed"
    },
    "tags": []
   },
   "outputs": [],
   "source": [
    "from sklearn.model_selection import train_test_split\n",
    "X_train, X_test, y_train, y_test = train_test_split(X_kbest, y, test_size=0.05, random_state=42)"
   ]
  },
  {
   "cell_type": "code",
   "execution_count": 15,
   "metadata": {
    "execution": {
     "iopub.execute_input": "2021-04-01T16:25:40.964902Z",
     "iopub.status.busy": "2021-04-01T16:25:40.964194Z",
     "iopub.status.idle": "2021-04-01T16:25:41.037661Z",
     "shell.execute_reply": "2021-04-01T16:25:41.038248Z"
    },
    "papermill": {
     "duration": 0.1028,
     "end_time": "2021-04-01T16:25:41.038445",
     "exception": false,
     "start_time": "2021-04-01T16:25:40.935645",
     "status": "completed"
    },
    "tags": []
   },
   "outputs": [
    {
     "data": {
      "text/plain": [
       "array([[-1.59621698, -0.91427887, -0.12548172, ..., -0.95326261,\n",
       "        -0.72224117, -0.43591062],\n",
       "       [ 0.73771357,  0.48530131,  0.12491594, ...,  1.09956115,\n",
       "         1.46310469, -0.43591062],\n",
       "       [ 0.29485432,  0.50954479,  0.48415987, ...,  1.09956115,\n",
       "        -0.50657981, -0.1493908 ],\n",
       "       ...,\n",
       "       [ 1.49779994, -1.03335711, -0.30625009, ..., -0.95326261,\n",
       "        -0.72224117, -0.43591062],\n",
       "       [ 0.29740293, -0.67503951,  0.97461613, ...,  0.48293773,\n",
       "         0.80667453,  1.595351  ],\n",
       "       [ 0.44394821, -0.18889952,  0.40030873, ..., -0.95326261,\n",
       "        -0.72224117, -0.43591062]])"
      ]
     },
     "execution_count": 15,
     "metadata": {},
     "output_type": "execute_result"
    }
   ],
   "source": [
    "from sklearn.preprocessing import MinMaxScaler, StandardScaler\n",
    "scaler = StandardScaler()\n",
    "scaler.fit(X_train)\n",
    "scaler.transform(X_train)\n",
    "scaler.transform(X_test)"
   ]
  },
  {
   "cell_type": "code",
   "execution_count": 16,
   "metadata": {
    "execution": {
     "iopub.execute_input": "2021-04-01T16:25:41.096770Z",
     "iopub.status.busy": "2021-04-01T16:25:41.095871Z",
     "iopub.status.idle": "2021-04-01T16:25:41.098053Z",
     "shell.execute_reply": "2021-04-01T16:25:41.098748Z"
    },
    "papermill": {
     "duration": 0.034547,
     "end_time": "2021-04-01T16:25:41.099053",
     "exception": false,
     "start_time": "2021-04-01T16:25:41.064506",
     "status": "completed"
    },
    "tags": []
   },
   "outputs": [],
   "source": [
    "from sklearn.model_selection import GridSearchCV\n",
    "from sklearn.tree import DecisionTreeClassifier\n",
    "\n",
    "# parameters = {'criterion':['gini','entropy'],\n",
    "#               'splitter': ['best', 'random'],\n",
    "#               'max_depth':[80,84]}\n",
    "\n",
    "# model = DecisionTreeClassifier()\n",
    "\n",
    "# clf = GridSearchCV(model, parameters, scoring='f1_macro', n_jobs=-1, cv=5)\n",
    "# clf.fit(X_train, y_train)"
   ]
  },
  {
   "cell_type": "code",
   "execution_count": 17,
   "metadata": {
    "execution": {
     "iopub.execute_input": "2021-04-01T16:25:41.165742Z",
     "iopub.status.busy": "2021-04-01T16:25:41.164903Z",
     "iopub.status.idle": "2021-04-01T16:25:41.168014Z",
     "shell.execute_reply": "2021-04-01T16:25:41.168708Z"
    },
    "papermill": {
     "duration": 0.037688,
     "end_time": "2021-04-01T16:25:41.168999",
     "exception": false,
     "start_time": "2021-04-01T16:25:41.131311",
     "status": "completed"
    },
    "tags": []
   },
   "outputs": [],
   "source": [
    "# print(\"Training Score {}\".format(clf.score(X_train, y_train)))\n",
    "# print(\"Testing Score {}\".format(clf.score(X_test, y_test)))\n",
    "# from sklearn.metrics import f1_score\n",
    "# y_pred = clf.predict(X_test)\n",
    "# f1_score(y_test, y_pred, average='macro')\n",
    "\n",
    "# print( clf.best_params_)"
   ]
  },
  {
   "cell_type": "code",
   "execution_count": 18,
   "metadata": {
    "execution": {
     "iopub.execute_input": "2021-04-01T16:25:41.231328Z",
     "iopub.status.busy": "2021-04-01T16:25:41.230562Z",
     "iopub.status.idle": "2021-04-01T16:25:41.235994Z",
     "shell.execute_reply": "2021-04-01T16:25:41.235449Z"
    },
    "papermill": {
     "duration": 0.038346,
     "end_time": "2021-04-01T16:25:41.236218",
     "exception": false,
     "start_time": "2021-04-01T16:25:41.197872",
     "status": "completed"
    },
    "tags": []
   },
   "outputs": [],
   "source": [
    "from sklearn.model_selection import GridSearchCV\n",
    "from sklearn.ensemble import BaggingClassifier\n",
    "\n",
    "# parameters = {'n_estimators':[250,270]}\n",
    "\n",
    "# model = BaggingClassifier()\n",
    "\n",
    "# clf = GridSearchCV(model, parameters, scoring='f1_macro', n_jobs=-1, cv=5)\n",
    "# clf.fit(X_train, y_train)"
   ]
  },
  {
   "cell_type": "code",
   "execution_count": 19,
   "metadata": {
    "execution": {
     "iopub.execute_input": "2021-04-01T16:25:41.300511Z",
     "iopub.status.busy": "2021-04-01T16:25:41.299629Z",
     "iopub.status.idle": "2021-04-01T16:25:41.303012Z",
     "shell.execute_reply": "2021-04-01T16:25:41.302377Z"
    },
    "papermill": {
     "duration": 0.036697,
     "end_time": "2021-04-01T16:25:41.303157",
     "exception": false,
     "start_time": "2021-04-01T16:25:41.266460",
     "status": "completed"
    },
    "tags": []
   },
   "outputs": [],
   "source": [
    "# print(\"Training Score {}\".format(clf.score(X_train, y_train)))\n",
    "# print(\"Testing Score {}\".format(clf.score(X_test, y_test)))\n",
    "# from sklearn.metrics import f1_score\n",
    "# y_pred = clf.predict(X_test)\n",
    "# f1_score(y_test, y_pred, average='macro')\n",
    "# print( clf.best_params_)"
   ]
  },
  {
   "cell_type": "code",
   "execution_count": 20,
   "metadata": {
    "execution": {
     "iopub.execute_input": "2021-04-01T16:25:41.365115Z",
     "iopub.status.busy": "2021-04-01T16:25:41.364319Z",
     "iopub.status.idle": "2021-04-01T16:25:41.367016Z",
     "shell.execute_reply": "2021-04-01T16:25:41.367511Z"
    },
    "papermill": {
     "duration": 0.037422,
     "end_time": "2021-04-01T16:25:41.367700",
     "exception": false,
     "start_time": "2021-04-01T16:25:41.330278",
     "status": "completed"
    },
    "tags": []
   },
   "outputs": [],
   "source": [
    "from sklearn.model_selection import GridSearchCV\n",
    "from sklearn.ensemble import GradientBoostingClassifier\n",
    "\n",
    "# parameters = {'n_estimators':[850,950],\n",
    "#              'learning_rate': [1.1, 1.0]}\n",
    "\n",
    "# model = GradientBoostingClassifier()\n",
    "\n",
    "# clf = GridSearchCV(model, parameters, scoring='f1_macro', n_jobs=-1, cv=5)\n",
    "# clf.fit(X_train, y_train)"
   ]
  },
  {
   "cell_type": "code",
   "execution_count": 21,
   "metadata": {
    "execution": {
     "iopub.execute_input": "2021-04-01T16:25:41.427465Z",
     "iopub.status.busy": "2021-04-01T16:25:41.426377Z",
     "iopub.status.idle": "2021-04-01T16:25:41.429927Z",
     "shell.execute_reply": "2021-04-01T16:25:41.429311Z"
    },
    "papermill": {
     "duration": 0.035694,
     "end_time": "2021-04-01T16:25:41.430097",
     "exception": false,
     "start_time": "2021-04-01T16:25:41.394403",
     "status": "completed"
    },
    "tags": []
   },
   "outputs": [],
   "source": [
    "# print(\"Training Score {}\".format(clf.score(X_train, y_train)))\n",
    "# print(\"Testing Score {}\".format(clf.score(X_test, y_test)))\n",
    "# from sklearn.metrics import f1_score\n",
    "# y_pred = clf.predict(X_test)\n",
    "# f1_score(y_test, y_pred, average='macro')\n",
    "# print( clf.best_params_)"
   ]
  },
  {
   "cell_type": "code",
   "execution_count": 22,
   "metadata": {
    "execution": {
     "iopub.execute_input": "2021-04-01T16:25:41.487771Z",
     "iopub.status.busy": "2021-04-01T16:25:41.487036Z",
     "iopub.status.idle": "2021-04-01T16:36:48.761763Z",
     "shell.execute_reply": "2021-04-01T16:36:48.762362Z"
    },
    "papermill": {
     "duration": 667.305572,
     "end_time": "2021-04-01T16:36:48.762714",
     "exception": false,
     "start_time": "2021-04-01T16:25:41.457142",
     "status": "completed"
    },
    "tags": []
   },
   "outputs": [
    {
     "data": {
      "text/html": [
       "<style type='text/css'>\n",
       ".datatable table.frame { margin-bottom: 0; }\n",
       ".datatable table.frame thead { border-bottom: none; }\n",
       ".datatable table.frame tr.coltypes td {  color: #FFFFFF;  line-height: 6px;  padding: 0 0.5em;}\n",
       ".datatable .bool    { background: #DDDD99; }\n",
       ".datatable .object  { background: #565656; }\n",
       ".datatable .int     { background: #5D9E5D; }\n",
       ".datatable .float   { background: #4040CC; }\n",
       ".datatable .str     { background: #CC4040; }\n",
       ".datatable .row_index {  background: var(--jp-border-color3);  border-right: 1px solid var(--jp-border-color0);  color: var(--jp-ui-font-color3);  font-size: 9px;}\n",
       ".datatable .frame tr.coltypes .row_index {  background: var(--jp-border-color0);}\n",
       ".datatable th:nth-child(2) { padding-left: 12px; }\n",
       ".datatable .hellipsis {  color: var(--jp-cell-editor-border-color);}\n",
       ".datatable .vellipsis {  background: var(--jp-layout-color0);  color: var(--jp-cell-editor-border-color);}\n",
       ".datatable .na {  color: var(--jp-cell-editor-border-color);  font-size: 80%;}\n",
       ".datatable .footer { font-size: 9px; }\n",
       ".datatable .frame_dimensions {  background: var(--jp-border-color3);  border-top: 1px solid var(--jp-border-color0);  color: var(--jp-ui-font-color3);  display: inline-block;  opacity: 0.6;  padding: 1px 10px 1px 5px;}\n",
       "</style>\n"
      ],
      "text/plain": [
       "<IPython.core.display.HTML object>"
      ]
     },
     "metadata": {},
     "output_type": "display_data"
    },
    {
     "name": "stderr",
     "output_type": "stream",
     "text": [
      "/opt/conda/lib/python3.7/site-packages/xgboost/sklearn.py:888: UserWarning: The use of label encoder in XGBClassifier is deprecated and will be removed in a future release. To remove this warning, do the following: 1) Pass option use_label_encoder=False when constructing XGBClassifier object; and 2) Encode your labels (y) as integers starting with 0, i.e. 0, 1, 2, ..., [num_class - 1].\n",
      "  warnings.warn(label_encoder_deprecation_msg, UserWarning)\n"
     ]
    },
    {
     "name": "stdout",
     "output_type": "stream",
     "text": [
      "[16:35:53] WARNING: ../src/learner.cc:1061: Starting in XGBoost 1.3.0, the default evaluation metric used with the objective 'binary:logistic' was changed from 'error' to 'logloss'. Explicitly set eval_metric if you'd like to restore the old behavior.\n"
     ]
    },
    {
     "data": {
      "text/plain": [
       "VotingClassifier(estimators=[('DT',\n",
       "                              DecisionTreeClassifier(criterion='entropy',\n",
       "                                                     max_depth=84)),\n",
       "                             ('BC', BaggingClassifier(n_estimators=250)),\n",
       "                             ('GB',\n",
       "                              GradientBoostingClassifier(learning_rate=1.0,\n",
       "                                                         n_estimators=850)),\n",
       "                             ('XG',\n",
       "                              XGBClassifier(base_score=None, booster=None,\n",
       "                                            colsample_bylevel=None,\n",
       "                                            colsample_bynode=None,\n",
       "                                            colsample_bytree=None, gamma=None,\n",
       "                                            gpu_id=None, impor...\n",
       "                                            max_delta_step=None, max_depth=None,\n",
       "                                            min_child_weight=None, missing=nan,\n",
       "                                            monotone_constraints=None,\n",
       "                                            n_estimators=500, n_jobs=None,\n",
       "                                            num_parallel_tree=None,\n",
       "                                            random_state=None, reg_alpha=None,\n",
       "                                            reg_lambda=None,\n",
       "                                            scale_pos_weight=None,\n",
       "                                            subsample=None, tree_method=None,\n",
       "                                            validate_parameters=None,\n",
       "                                            verbosity=None)),\n",
       "                             ('LGM',\n",
       "                              LGBMClassifier(learning_rate=0.4, max_depth=25,\n",
       "                                             n_estimators=70,\n",
       "                                             num_leaves=106))])"
      ]
     },
     "execution_count": 22,
     "metadata": {},
     "output_type": "execute_result"
    }
   ],
   "source": [
    "from sklearn.ensemble import VotingClassifier, StackingClassifier\n",
    "from xgboost import XGBClassifier\n",
    "import lightgbm as lgb\n",
    "# group / ensemble of models\n",
    "estimator = []\n",
    "estimator.append(('DT',DecisionTreeClassifier(criterion = 'entropy', max_depth = 84, splitter ='best')))\n",
    "estimator.append(('BC', BaggingClassifier(n_estimators=250)))\n",
    "estimator.append(('GB', GradientBoostingClassifier(learning_rate = 1.0, n_estimators=850)))\n",
    "estimator.append(('XG', XGBClassifier(learning_rate=0.5, n_estimators=500)))\n",
    "estimator.append(('LGM', lgb.LGBMClassifier(learning_rate=0.4, max_depth = 25, n_estimators= 70, num_leaves= 106)))\n",
    "\n",
    "# Voting Classifier with hard voting\n",
    "\n",
    "\n",
    "# clf = StackingClassifier(\n",
    "# ...     estimators=estimators, final_estimator=LogisticRegression()\n",
    "# ... )\n",
    "\n",
    "vot_soft = VotingClassifier(estimators = estimator,  voting='hard')\n",
    "vot_soft.fit(X_train, y_train)"
   ]
  },
  {
   "cell_type": "code",
   "execution_count": 23,
   "metadata": {
    "execution": {
     "iopub.execute_input": "2021-04-01T16:36:48.829923Z",
     "iopub.status.busy": "2021-04-01T16:36:48.829218Z",
     "iopub.status.idle": "2021-04-01T16:37:09.172395Z",
     "shell.execute_reply": "2021-04-01T16:37:09.171689Z"
    },
    "papermill": {
     "duration": 20.376716,
     "end_time": "2021-04-01T16:37:09.172723",
     "exception": false,
     "start_time": "2021-04-01T16:36:48.796007",
     "status": "completed"
    },
    "tags": []
   },
   "outputs": [
    {
     "name": "stdout",
     "output_type": "stream",
     "text": [
      "Training Score 0.9863938578439132\n",
      "Testing Score 0.9517293233082706\n"
     ]
    },
    {
     "data": {
      "text/plain": [
       "0.9517274883579157"
      ]
     },
     "execution_count": 23,
     "metadata": {},
     "output_type": "execute_result"
    }
   ],
   "source": [
    "print(\"Training Score {}\".format(vot_soft.score(X_train, y_train)))\n",
    "print(\"Testing Score {}\".format(vot_soft.score(X_test, y_test)))\n",
    "from sklearn.metrics import f1_score\n",
    "y_pred = vot_soft.predict(X_test)\n",
    "f1_score(y_test, y_pred, average='macro')"
   ]
  },
  {
   "cell_type": "code",
   "execution_count": 24,
   "metadata": {
    "execution": {
     "iopub.execute_input": "2021-04-01T16:37:09.236286Z",
     "iopub.status.busy": "2021-04-01T16:37:09.235257Z",
     "iopub.status.idle": "2021-04-01T16:37:09.424786Z",
     "shell.execute_reply": "2021-04-01T16:37:09.425570Z"
    },
    "papermill": {
     "duration": 0.222856,
     "end_time": "2021-04-01T16:37:09.425816",
     "exception": false,
     "start_time": "2021-04-01T16:37:09.202960",
     "status": "completed"
    },
    "tags": []
   },
   "outputs": [
    {
     "name": "stderr",
     "output_type": "stream",
     "text": [
      "/opt/conda/lib/python3.7/site-packages/ipykernel_launcher.py:4: ParserWarning: Falling back to the 'python' engine because the 'c' engine does not support regex separators (separators > 1 char and different from '\\s+' are interpreted as regex); you can avoid this warning by specifying engine='python'.\n",
      "  after removing the cwd from sys.path.\n"
     ]
    },
    {
     "data": {
      "text/html": [
       "<div>\n",
       "<style scoped>\n",
       "    .dataframe tbody tr th:only-of-type {\n",
       "        vertical-align: middle;\n",
       "    }\n",
       "\n",
       "    .dataframe tbody tr th {\n",
       "        vertical-align: top;\n",
       "    }\n",
       "\n",
       "    .dataframe thead th {\n",
       "        text-align: right;\n",
       "    }\n",
       "</style>\n",
       "<table border=\"1\" class=\"dataframe\">\n",
       "  <thead>\n",
       "    <tr style=\"text-align: right;\">\n",
       "      <th></th>\n",
       "      <th>x</th>\n",
       "    </tr>\n",
       "  </thead>\n",
       "  <tbody>\n",
       "    <tr>\n",
       "      <th>88-60-8</th>\n",
       "      <td>1682</td>\n",
       "    </tr>\n",
       "    <tr>\n",
       "      <th>122931-48-0</th>\n",
       "      <td>1656</td>\n",
       "    </tr>\n",
       "    <tr>\n",
       "      <th>NOCAS_47311</th>\n",
       "      <td>36</td>\n",
       "    </tr>\n",
       "    <tr>\n",
       "      <th>55589-62-3</th>\n",
       "      <td>1850</td>\n",
       "    </tr>\n",
       "    <tr>\n",
       "      <th>79902-63-9</th>\n",
       "      <td>30</td>\n",
       "    </tr>\n",
       "  </tbody>\n",
       "</table>\n",
       "</div>"
      ],
      "text/plain": [
       "                x\n",
       "88-60-8      1682\n",
       "122931-48-0  1656\n",
       "NOCAS_47311    36\n",
       "55589-62-3   1850\n",
       "79902-63-9     30"
      ]
     },
     "execution_count": 24,
     "metadata": {},
     "output_type": "execute_result"
    }
   ],
   "source": [
    "#Read test data\n",
    "\n",
    "import pandas as pd\n",
    "test_df = pd.read_csv('/kaggle/input/the-toxicity-prediction-challenge/test.csv', sep=',|;')\n",
    "test_df.head()"
   ]
  },
  {
   "cell_type": "code",
   "execution_count": 25,
   "metadata": {
    "execution": {
     "iopub.execute_input": "2021-04-01T16:37:09.512566Z",
     "iopub.status.busy": "2021-04-01T16:37:09.511204Z",
     "iopub.status.idle": "2021-04-01T16:37:09.516663Z",
     "shell.execute_reply": "2021-04-01T16:37:09.517167Z"
    },
    "papermill": {
     "duration": 0.056872,
     "end_time": "2021-04-01T16:37:09.517392",
     "exception": false,
     "start_time": "2021-04-01T16:37:09.460520",
     "status": "completed"
    },
    "tags": []
   },
   "outputs": [
    {
     "data": {
      "text/html": [
       "<div>\n",
       "<style scoped>\n",
       "    .dataframe tbody tr th:only-of-type {\n",
       "        vertical-align: middle;\n",
       "    }\n",
       "\n",
       "    .dataframe tbody tr th {\n",
       "        vertical-align: top;\n",
       "    }\n",
       "\n",
       "    .dataframe thead th {\n",
       "        text-align: right;\n",
       "    }\n",
       "</style>\n",
       "<table border=\"1\" class=\"dataframe\">\n",
       "  <thead>\n",
       "    <tr style=\"text-align: right;\">\n",
       "      <th></th>\n",
       "      <th>V1</th>\n",
       "      <th>x</th>\n",
       "    </tr>\n",
       "  </thead>\n",
       "  <tbody>\n",
       "    <tr>\n",
       "      <th>0</th>\n",
       "      <td>88-60-8</td>\n",
       "      <td>1682</td>\n",
       "    </tr>\n",
       "    <tr>\n",
       "      <th>1</th>\n",
       "      <td>122931-48-0</td>\n",
       "      <td>1656</td>\n",
       "    </tr>\n",
       "    <tr>\n",
       "      <th>2</th>\n",
       "      <td>NOCAS_47311</td>\n",
       "      <td>36</td>\n",
       "    </tr>\n",
       "    <tr>\n",
       "      <th>3</th>\n",
       "      <td>55589-62-3</td>\n",
       "      <td>1850</td>\n",
       "    </tr>\n",
       "    <tr>\n",
       "      <th>4</th>\n",
       "      <td>79902-63-9</td>\n",
       "      <td>30</td>\n",
       "    </tr>\n",
       "  </tbody>\n",
       "</table>\n",
       "</div>"
      ],
      "text/plain": [
       "            V1     x\n",
       "0      88-60-8  1682\n",
       "1  122931-48-0  1656\n",
       "2  NOCAS_47311    36\n",
       "3   55589-62-3  1850\n",
       "4   79902-63-9    30"
      ]
     },
     "execution_count": 25,
     "metadata": {},
     "output_type": "execute_result"
    }
   ],
   "source": [
    "test_df.reset_index(inplace=True)\n",
    "test_df = test_df.rename(columns={\"index\": \"V1\"})\n",
    "test_df.head()"
   ]
  },
  {
   "cell_type": "code",
   "execution_count": 26,
   "metadata": {
    "execution": {
     "iopub.execute_input": "2021-04-01T16:37:09.588536Z",
     "iopub.status.busy": "2021-04-01T16:37:09.587469Z",
     "iopub.status.idle": "2021-04-01T16:37:24.403070Z",
     "shell.execute_reply": "2021-04-01T16:37:24.403619Z"
    },
    "papermill": {
     "duration": 14.854033,
     "end_time": "2021-04-01T16:37:24.403869",
     "exception": false,
     "start_time": "2021-04-01T16:37:09.549836",
     "status": "completed"
    },
    "tags": []
   },
   "outputs": [
    {
     "name": "stderr",
     "output_type": "stream",
     "text": [
      "/opt/conda/lib/python3.7/site-packages/ipykernel_launcher.py:1: ParserWarning: Falling back to the 'python' engine because the 'c' engine does not support regex separators (separators > 1 char and different from '\\s+' are interpreted as regex); you can avoid this warning by specifying engine='python'.\n",
      "  \"\"\"Entry point for launching an IPython kernel.\n"
     ]
    },
    {
     "data": {
      "text/html": [
       "<div>\n",
       "<style scoped>\n",
       "    .dataframe tbody tr th:only-of-type {\n",
       "        vertical-align: middle;\n",
       "    }\n",
       "\n",
       "    .dataframe tbody tr th {\n",
       "        vertical-align: top;\n",
       "    }\n",
       "\n",
       "    .dataframe thead th {\n",
       "        text-align: right;\n",
       "    }\n",
       "</style>\n",
       "<table border=\"1\" class=\"dataframe\">\n",
       "  <thead>\n",
       "    <tr style=\"text-align: right;\">\n",
       "      <th></th>\n",
       "      <th>V1</th>\n",
       "      <th>x</th>\n",
       "      <th>V2</th>\n",
       "      <th>V3</th>\n",
       "      <th>V4</th>\n",
       "      <th>V5</th>\n",
       "      <th>V6</th>\n",
       "      <th>V7</th>\n",
       "      <th>V8</th>\n",
       "      <th>V9</th>\n",
       "      <th>...</th>\n",
       "      <th>V1066</th>\n",
       "      <th>V1067</th>\n",
       "      <th>V1068</th>\n",
       "      <th>V1069</th>\n",
       "      <th>V1070</th>\n",
       "      <th>V1071</th>\n",
       "      <th>V1072</th>\n",
       "      <th>V1073</th>\n",
       "      <th>V1074</th>\n",
       "      <th>V1075</th>\n",
       "    </tr>\n",
       "  </thead>\n",
       "  <tbody>\n",
       "    <tr>\n",
       "      <th>0</th>\n",
       "      <td>88-60-8</td>\n",
       "      <td>1682</td>\n",
       "      <td>6937</td>\n",
       "      <td>164.120115</td>\n",
       "      <td>3.659</td>\n",
       "      <td>20.23</td>\n",
       "      <td>0.0</td>\n",
       "      <td>0.0</td>\n",
       "      <td>0.000000</td>\n",
       "      <td>0.068041</td>\n",
       "      <td>...</td>\n",
       "      <td>0</td>\n",
       "      <td>0</td>\n",
       "      <td>0</td>\n",
       "      <td>0</td>\n",
       "      <td>0</td>\n",
       "      <td>0</td>\n",
       "      <td>0</td>\n",
       "      <td>0</td>\n",
       "      <td>0</td>\n",
       "      <td>0</td>\n",
       "    </tr>\n",
       "    <tr>\n",
       "      <th>1</th>\n",
       "      <td>122931-48-0</td>\n",
       "      <td>1656</td>\n",
       "      <td>91779</td>\n",
       "      <td>431.056940</td>\n",
       "      <td>1.258</td>\n",
       "      <td>183.30</td>\n",
       "      <td>0.0</td>\n",
       "      <td>0.0</td>\n",
       "      <td>0.000000</td>\n",
       "      <td>0.151375</td>\n",
       "      <td>...</td>\n",
       "      <td>0</td>\n",
       "      <td>0</td>\n",
       "      <td>0</td>\n",
       "      <td>0</td>\n",
       "      <td>0</td>\n",
       "      <td>0</td>\n",
       "      <td>0</td>\n",
       "      <td>0</td>\n",
       "      <td>0</td>\n",
       "      <td>0</td>\n",
       "    </tr>\n",
       "    <tr>\n",
       "      <th>2</th>\n",
       "      <td>NOCAS_47311</td>\n",
       "      <td>36</td>\n",
       "      <td>53257735</td>\n",
       "      <td>695.250845</td>\n",
       "      <td>6.365</td>\n",
       "      <td>95.92</td>\n",
       "      <td>0.0</td>\n",
       "      <td>0.0</td>\n",
       "      <td>0.174792</td>\n",
       "      <td>0.789110</td>\n",
       "      <td>...</td>\n",
       "      <td>0</td>\n",
       "      <td>0</td>\n",
       "      <td>0</td>\n",
       "      <td>0</td>\n",
       "      <td>0</td>\n",
       "      <td>0</td>\n",
       "      <td>0</td>\n",
       "      <td>0</td>\n",
       "      <td>0</td>\n",
       "      <td>0</td>\n",
       "    </tr>\n",
       "    <tr>\n",
       "      <th>3</th>\n",
       "      <td>55589-62-3</td>\n",
       "      <td>1850</td>\n",
       "      <td>11074431</td>\n",
       "      <td>200.949810</td>\n",
       "      <td>-1.340</td>\n",
       "      <td>68.82</td>\n",
       "      <td>0.0</td>\n",
       "      <td>0.0</td>\n",
       "      <td>0.000000</td>\n",
       "      <td>0.058926</td>\n",
       "      <td>...</td>\n",
       "      <td>0</td>\n",
       "      <td>0</td>\n",
       "      <td>0</td>\n",
       "      <td>0</td>\n",
       "      <td>0</td>\n",
       "      <td>0</td>\n",
       "      <td>0</td>\n",
       "      <td>0</td>\n",
       "      <td>0</td>\n",
       "      <td>0</td>\n",
       "    </tr>\n",
       "    <tr>\n",
       "      <th>4</th>\n",
       "      <td>79902-63-9</td>\n",
       "      <td>30</td>\n",
       "      <td>54454</td>\n",
       "      <td>418.271924</td>\n",
       "      <td>4.775</td>\n",
       "      <td>72.83</td>\n",
       "      <td>0.0</td>\n",
       "      <td>0.0</td>\n",
       "      <td>0.000000</td>\n",
       "      <td>0.179152</td>\n",
       "      <td>...</td>\n",
       "      <td>0</td>\n",
       "      <td>0</td>\n",
       "      <td>0</td>\n",
       "      <td>0</td>\n",
       "      <td>0</td>\n",
       "      <td>0</td>\n",
       "      <td>0</td>\n",
       "      <td>0</td>\n",
       "      <td>0</td>\n",
       "      <td>0</td>\n",
       "    </tr>\n",
       "  </tbody>\n",
       "</table>\n",
       "<p>5 rows × 1076 columns</p>\n",
       "</div>"
      ],
      "text/plain": [
       "            V1     x        V2          V3     V4      V5   V6   V7        V8  \\\n",
       "0      88-60-8  1682      6937  164.120115  3.659   20.23  0.0  0.0  0.000000   \n",
       "1  122931-48-0  1656     91779  431.056940  1.258  183.30  0.0  0.0  0.000000   \n",
       "2  NOCAS_47311    36  53257735  695.250845  6.365   95.92  0.0  0.0  0.174792   \n",
       "3   55589-62-3  1850  11074431  200.949810 -1.340   68.82  0.0  0.0  0.000000   \n",
       "4   79902-63-9    30     54454  418.271924  4.775   72.83  0.0  0.0  0.000000   \n",
       "\n",
       "         V9  ...  V1066  V1067  V1068  V1069  V1070  V1071  V1072  V1073  \\\n",
       "0  0.068041  ...      0      0      0      0      0      0      0      0   \n",
       "1  0.151375  ...      0      0      0      0      0      0      0      0   \n",
       "2  0.789110  ...      0      0      0      0      0      0      0      0   \n",
       "3  0.058926  ...      0      0      0      0      0      0      0      0   \n",
       "4  0.179152  ...      0      0      0      0      0      0      0      0   \n",
       "\n",
       "   V1074  V1075  \n",
       "0      0      0  \n",
       "1      0      0  \n",
       "2      0      0  \n",
       "3      0      0  \n",
       "4      0      0  \n",
       "\n",
       "[5 rows x 1076 columns]"
      ]
     },
     "execution_count": 26,
     "metadata": {},
     "output_type": "execute_result"
    }
   ],
   "source": [
    "feamat_df = pd.read_csv('/kaggle/input/the-toxicity-prediction-challenge/feamat.csv', sep=';|,')\n",
    "df =  test_df.merge(feamat_df, on = ['V1'],how = 'left')\n",
    "df.head()"
   ]
  },
  {
   "cell_type": "code",
   "execution_count": 27,
   "metadata": {
    "execution": {
     "iopub.execute_input": "2021-04-01T16:37:24.475748Z",
     "iopub.status.busy": "2021-04-01T16:37:24.474429Z",
     "iopub.status.idle": "2021-04-01T16:37:24.662654Z",
     "shell.execute_reply": "2021-04-01T16:37:24.661982Z"
    },
    "papermill": {
     "duration": 0.226871,
     "end_time": "2021-04-01T16:37:24.662799",
     "exception": false,
     "start_time": "2021-04-01T16:37:24.435928",
     "status": "completed"
    },
    "tags": []
   },
   "outputs": [
    {
     "name": "stdout",
     "output_type": "stream",
     "text": [
      "Before Imputing Null value count is:\n",
      "1\n",
      "After Imputing Null value count is:\n",
      "0\n"
     ]
    }
   ],
   "source": [
    "df = df.replace([np.inf, -np.inf], np.nan)\n",
    "print(\"Before Imputing Null value count is:\")\n",
    "print(df.isnull().any().sum())\n",
    "df = df.fillna(0)\n",
    "print(\"After Imputing Null value count is:\")\n",
    "print(df.isnull().any().sum())"
   ]
  },
  {
   "cell_type": "code",
   "execution_count": 28,
   "metadata": {
    "execution": {
     "iopub.execute_input": "2021-04-01T16:37:24.749461Z",
     "iopub.status.busy": "2021-04-01T16:37:24.743913Z",
     "iopub.status.idle": "2021-04-01T16:37:24.758246Z",
     "shell.execute_reply": "2021-04-01T16:37:24.757522Z"
    },
    "papermill": {
     "duration": 0.062324,
     "end_time": "2021-04-01T16:37:24.758398",
     "exception": false,
     "start_time": "2021-04-01T16:37:24.696074",
     "status": "completed"
    },
    "tags": []
   },
   "outputs": [],
   "source": [
    "df['V1'] = encoder.transform(df['V1'])"
   ]
  },
  {
   "cell_type": "code",
   "execution_count": 29,
   "metadata": {
    "execution": {
     "iopub.execute_input": "2021-04-01T16:37:24.840539Z",
     "iopub.status.busy": "2021-04-01T16:37:24.839839Z",
     "iopub.status.idle": "2021-04-01T16:37:26.371370Z",
     "shell.execute_reply": "2021-04-01T16:37:26.370748Z"
    },
    "papermill": {
     "duration": 1.580652,
     "end_time": "2021-04-01T16:37:26.371532",
     "exception": false,
     "start_time": "2021-04-01T16:37:24.790880",
     "status": "completed"
    },
    "tags": []
   },
   "outputs": [],
   "source": [
    "X_important = fvalue_Best.transform(df)\n",
    "#X_important = best_model.transform(df)\n",
    "\n",
    "y_pred = vot_soft.predict(X_important)"
   ]
  },
  {
   "cell_type": "code",
   "execution_count": 30,
   "metadata": {
    "execution": {
     "iopub.execute_input": "2021-04-01T16:37:26.447045Z",
     "iopub.status.busy": "2021-04-01T16:37:26.446345Z",
     "iopub.status.idle": "2021-04-01T16:37:26.490262Z",
     "shell.execute_reply": "2021-04-01T16:37:26.490800Z"
    },
    "papermill": {
     "duration": 0.085681,
     "end_time": "2021-04-01T16:37:26.491007",
     "exception": false,
     "start_time": "2021-04-01T16:37:26.405326",
     "status": "completed"
    },
    "tags": []
   },
   "outputs": [
    {
     "name": "stdout",
     "output_type": "stream",
     "text": [
      "Your submission was successfully saved!\n"
     ]
    }
   ],
   "source": [
    "test_df = pd.read_csv('/kaggle/input/the-toxicity-prediction-challenge/test.csv', sep=',')\n",
    "output = pd.DataFrame({'Id': test_df[\"x\"], 'Predicted': y_pred})\n",
    "output.to_csv('submission.csv', index=False)\n",
    "print(\"Your submission was successfully saved!\")"
   ]
  }
 ],
 "metadata": {
  "kernelspec": {
   "display_name": "Python 3",
   "language": "python",
   "name": "python3"
  },
  "language_info": {
   "codemirror_mode": {
    "name": "ipython",
    "version": 3
   },
   "file_extension": ".py",
   "mimetype": "text/x-python",
   "name": "python",
   "nbconvert_exporter": "python",
   "pygments_lexer": "ipython3",
   "version": "3.7.9"
  },
  "papermill": {
   "default_parameters": {},
   "duration": 738.067203,
   "end_time": "2021-04-01T16:37:27.339812",
   "environment_variables": {},
   "exception": null,
   "input_path": "__notebook__.ipynb",
   "output_path": "__notebook__.ipynb",
   "parameters": {},
   "start_time": "2021-04-01T16:25:09.272609",
   "version": "2.2.2"
  }
 },
 "nbformat": 4,
 "nbformat_minor": 4
}
