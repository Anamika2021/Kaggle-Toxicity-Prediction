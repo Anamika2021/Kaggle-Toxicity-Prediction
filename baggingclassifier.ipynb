{
 "cells": [
  {
   "cell_type": "code",
   "execution_count": 1,
   "metadata": {
    "_cell_guid": "b1076dfc-b9ad-4769-8c92-a6c4dae69d19",
    "_uuid": "8f2839f25d086af736a60e9eeb907d3b93b6e0e5",
    "execution": {
     "iopub.execute_input": "2021-03-03T11:40:55.235149Z",
     "iopub.status.busy": "2021-03-03T11:40:55.234389Z",
     "iopub.status.idle": "2021-03-03T11:40:55.242935Z",
     "shell.execute_reply": "2021-03-03T11:40:55.242217Z"
    },
    "papermill": {
     "duration": 0.034973,
     "end_time": "2021-03-03T11:40:55.243178",
     "exception": false,
     "start_time": "2021-03-03T11:40:55.208205",
     "status": "completed"
    },
    "tags": []
   },
   "outputs": [
    {
     "name": "stdout",
     "output_type": "stream",
     "text": [
      "/kaggle/input/the-toxicity-prediction-challenge/sample_submission.csv\n",
      "/kaggle/input/the-toxicity-prediction-challenge/feamat.csv\n",
      "/kaggle/input/the-toxicity-prediction-challenge/features_id_name_mappings.csv\n",
      "/kaggle/input/the-toxicity-prediction-challenge/train.csv\n",
      "/kaggle/input/the-toxicity-prediction-challenge/test.csv\n"
     ]
    }
   ],
   "source": [
    "# This Python 3 environment comes with many helpful analytics libraries installed\n",
    "# It is defined by the kaggle/python Docker image: https://github.com/kaggle/docker-python\n",
    "# For example, here's several helpful packages to load\n",
    "\n",
    "import numpy as np # linear algebra\n",
    "import pandas as pd # data processing, CSV file I/O (e.g. pd.read_csv)\n",
    "\n",
    "# Input data files are available in the read-only \"../input/\" directory\n",
    "# For example, running this (by clicking run or pressing Shift+Enter) will list all files under the input directory\n",
    "\n",
    "import os\n",
    "for dirname, _, filenames in os.walk('/kaggle/input'):\n",
    "    for filename in filenames:\n",
    "        print(os.path.join(dirname, filename))\n",
    "\n",
    "# You can write up to 20GB to the current directory (/kaggle/working/) that gets preserved as output when you create a version using \"Save & Run All\" \n",
    "# You can also write temporary files to /kaggle/temp/, but they won't be saved outside of the current session"
   ]
  },
  {
   "cell_type": "markdown",
   "metadata": {
    "papermill": {
     "duration": 0.022805,
     "end_time": "2021-03-03T11:40:55.290397",
     "exception": false,
     "start_time": "2021-03-03T11:40:55.267592",
     "status": "completed"
    },
    "tags": []
   },
   "source": [
    "### Step 1. Reading train.csv file\n",
    "> Parsing the training file by paying attention to the delimiters. We split by a comma and a semi colon. Eventually, we get three columns from train.csv including chemical id, assay id and label."
   ]
  },
  {
   "cell_type": "code",
   "execution_count": 2,
   "metadata": {
    "execution": {
     "iopub.execute_input": "2021-03-03T11:40:55.342540Z",
     "iopub.status.busy": "2021-03-03T11:40:55.341765Z",
     "iopub.status.idle": "2021-03-03T11:40:55.700118Z",
     "shell.execute_reply": "2021-03-03T11:40:55.699508Z"
    },
    "papermill": {
     "duration": 0.385807,
     "end_time": "2021-03-03T11:40:55.700269",
     "exception": false,
     "start_time": "2021-03-03T11:40:55.314462",
     "status": "completed"
    },
    "tags": []
   },
   "outputs": [
    {
     "name": "stderr",
     "output_type": "stream",
     "text": [
      "/opt/conda/lib/python3.7/site-packages/ipykernel_launcher.py:2: ParserWarning: Falling back to the 'python' engine because the 'c' engine does not support regex separators (separators > 1 char and different from '\\s+' are interpreted as regex); you can avoid this warning by specifying engine='python'.\n",
      "  \n"
     ]
    },
    {
     "data": {
      "text/html": [
       "<div>\n",
       "<style scoped>\n",
       "    .dataframe tbody tr th:only-of-type {\n",
       "        vertical-align: middle;\n",
       "    }\n",
       "\n",
       "    .dataframe tbody tr th {\n",
       "        vertical-align: top;\n",
       "    }\n",
       "\n",
       "    .dataframe thead th {\n",
       "        text-align: right;\n",
       "    }\n",
       "</style>\n",
       "<table border=\"1\" class=\"dataframe\">\n",
       "  <thead>\n",
       "    <tr style=\"text-align: right;\">\n",
       "      <th></th>\n",
       "      <th>Id</th>\n",
       "      <th>Expected</th>\n",
       "    </tr>\n",
       "  </thead>\n",
       "  <tbody>\n",
       "    <tr>\n",
       "      <th>2971-36-0</th>\n",
       "      <td>1644</td>\n",
       "      <td>2</td>\n",
       "    </tr>\n",
       "    <tr>\n",
       "      <th>693-54-9</th>\n",
       "      <td>2451</td>\n",
       "      <td>2</td>\n",
       "    </tr>\n",
       "    <tr>\n",
       "      <th>7173-51-5</th>\n",
       "      <td>1384</td>\n",
       "      <td>2</td>\n",
       "    </tr>\n",
       "    <tr>\n",
       "      <th>138261-41-3</th>\n",
       "      <td>16</td>\n",
       "      <td>2</td>\n",
       "    </tr>\n",
       "    <tr>\n",
       "      <th>7681-82-5</th>\n",
       "      <td>1856</td>\n",
       "      <td>2</td>\n",
       "    </tr>\n",
       "  </tbody>\n",
       "</table>\n",
       "</div>"
      ],
      "text/plain": [
       "               Id  Expected\n",
       "2971-36-0    1644         2\n",
       "693-54-9     2451         2\n",
       "7173-51-5    1384         2\n",
       "138261-41-3    16         2\n",
       "7681-82-5    1856         2"
      ]
     },
     "execution_count": 2,
     "metadata": {},
     "output_type": "execute_result"
    }
   ],
   "source": [
    "import pandas as pd\n",
    "train_df = pd.read_csv('/kaggle/input/the-toxicity-prediction-challenge/train.csv', sep=',|;')\n",
    "train_df.head()"
   ]
  },
  {
   "cell_type": "code",
   "execution_count": 3,
   "metadata": {
    "execution": {
     "iopub.execute_input": "2021-03-03T11:40:55.751241Z",
     "iopub.status.busy": "2021-03-03T11:40:55.750652Z",
     "iopub.status.idle": "2021-03-03T11:40:55.763387Z",
     "shell.execute_reply": "2021-03-03T11:40:55.762792Z"
    },
    "papermill": {
     "duration": 0.039902,
     "end_time": "2021-03-03T11:40:55.763536",
     "exception": false,
     "start_time": "2021-03-03T11:40:55.723634",
     "status": "completed"
    },
    "tags": []
   },
   "outputs": [
    {
     "data": {
      "text/html": [
       "<div>\n",
       "<style scoped>\n",
       "    .dataframe tbody tr th:only-of-type {\n",
       "        vertical-align: middle;\n",
       "    }\n",
       "\n",
       "    .dataframe tbody tr th {\n",
       "        vertical-align: top;\n",
       "    }\n",
       "\n",
       "    .dataframe thead th {\n",
       "        text-align: right;\n",
       "    }\n",
       "</style>\n",
       "<table border=\"1\" class=\"dataframe\">\n",
       "  <thead>\n",
       "    <tr style=\"text-align: right;\">\n",
       "      <th></th>\n",
       "      <th>V1</th>\n",
       "      <th>Id</th>\n",
       "      <th>Expected</th>\n",
       "    </tr>\n",
       "  </thead>\n",
       "  <tbody>\n",
       "    <tr>\n",
       "      <th>0</th>\n",
       "      <td>2971-36-0</td>\n",
       "      <td>1644</td>\n",
       "      <td>2</td>\n",
       "    </tr>\n",
       "    <tr>\n",
       "      <th>1</th>\n",
       "      <td>693-54-9</td>\n",
       "      <td>2451</td>\n",
       "      <td>2</td>\n",
       "    </tr>\n",
       "    <tr>\n",
       "      <th>2</th>\n",
       "      <td>7173-51-5</td>\n",
       "      <td>1384</td>\n",
       "      <td>2</td>\n",
       "    </tr>\n",
       "    <tr>\n",
       "      <th>3</th>\n",
       "      <td>138261-41-3</td>\n",
       "      <td>16</td>\n",
       "      <td>2</td>\n",
       "    </tr>\n",
       "    <tr>\n",
       "      <th>4</th>\n",
       "      <td>7681-82-5</td>\n",
       "      <td>1856</td>\n",
       "      <td>2</td>\n",
       "    </tr>\n",
       "  </tbody>\n",
       "</table>\n",
       "</div>"
      ],
      "text/plain": [
       "            V1    Id  Expected\n",
       "0    2971-36-0  1644         2\n",
       "1     693-54-9  2451         2\n",
       "2    7173-51-5  1384         2\n",
       "3  138261-41-3    16         2\n",
       "4    7681-82-5  1856         2"
      ]
     },
     "execution_count": 3,
     "metadata": {},
     "output_type": "execute_result"
    }
   ],
   "source": [
    "train_df.reset_index(inplace=True)\n",
    "train_df = train_df.rename(columns={\"index\": \"V1\"})\n",
    "train_df.head()"
   ]
  },
  {
   "cell_type": "code",
   "execution_count": 4,
   "metadata": {
    "execution": {
     "iopub.execute_input": "2021-03-03T11:40:55.816251Z",
     "iopub.status.busy": "2021-03-03T11:40:55.815668Z",
     "iopub.status.idle": "2021-03-03T11:40:55.820079Z",
     "shell.execute_reply": "2021-03-03T11:40:55.819596Z"
    },
    "papermill": {
     "duration": 0.032749,
     "end_time": "2021-03-03T11:40:55.820229",
     "exception": false,
     "start_time": "2021-03-03T11:40:55.787480",
     "status": "completed"
    },
    "tags": []
   },
   "outputs": [
    {
     "data": {
      "text/plain": [
       "(77413, 3)"
      ]
     },
     "execution_count": 4,
     "metadata": {},
     "output_type": "execute_result"
    }
   ],
   "source": [
    "#check its shape\n",
    "train_df.shape"
   ]
  },
  {
   "cell_type": "code",
   "execution_count": 5,
   "metadata": {
    "execution": {
     "iopub.execute_input": "2021-03-03T11:40:55.873894Z",
     "iopub.status.busy": "2021-03-03T11:40:55.872948Z",
     "iopub.status.idle": "2021-03-03T11:40:55.877214Z",
     "shell.execute_reply": "2021-03-03T11:40:55.876742Z"
    },
    "papermill": {
     "duration": 0.033583,
     "end_time": "2021-03-03T11:40:55.877350",
     "exception": false,
     "start_time": "2021-03-03T11:40:55.843767",
     "status": "completed"
    },
    "tags": []
   },
   "outputs": [
    {
     "data": {
      "text/plain": [
       "V1          object\n",
       "Id           int64\n",
       "Expected     int64\n",
       "dtype: object"
      ]
     },
     "execution_count": 5,
     "metadata": {},
     "output_type": "execute_result"
    }
   ],
   "source": [
    "#check its datatype\n",
    "train_df.dtypes"
   ]
  },
  {
   "cell_type": "markdown",
   "metadata": {
    "papermill": {
     "duration": 0.024272,
     "end_time": "2021-03-03T11:40:55.925857",
     "exception": false,
     "start_time": "2021-03-03T11:40:55.901585",
     "status": "completed"
    },
    "tags": []
   },
   "source": [
    "### Step 2 (a). Preparing the dataset for each assay\n",
    "> Parsing the train.csv file and extracting rows for each assay on a different file."
   ]
  },
  {
   "cell_type": "code",
   "execution_count": 6,
   "metadata": {
    "execution": {
     "iopub.execute_input": "2021-03-03T11:40:55.986468Z",
     "iopub.status.busy": "2021-03-03T11:40:55.985489Z",
     "iopub.status.idle": "2021-03-03T11:40:56.002591Z",
     "shell.execute_reply": "2021-03-03T11:40:56.001842Z"
    },
    "papermill": {
     "duration": 0.051627,
     "end_time": "2021-03-03T11:40:56.002786",
     "exception": false,
     "start_time": "2021-03-03T11:40:55.951159",
     "status": "completed"
    },
    "tags": []
   },
   "outputs": [
    {
     "name": "stdout",
     "output_type": "stream",
     "text": [
      "['2971-36-0' '693-54-9' '7173-51-5' ... '104-50-7' '2021-28-5' '6358-09-4']\n",
      "\n",
      " There are 3393 unique Assay Id's\n"
     ]
    }
   ],
   "source": [
    "#Finding out how many unique chemical ID's are there.\n",
    "print(train_df['V1'].unique())\n",
    "print(\"\\n There are {} unique Assay Id's\".format(len(train_df['V1'].unique())))"
   ]
  },
  {
   "cell_type": "markdown",
   "metadata": {
    "papermill": {
     "duration": 0.024376,
     "end_time": "2021-03-03T11:40:56.052486",
     "exception": false,
     "start_time": "2021-03-03T11:40:56.028110",
     "status": "completed"
    },
    "tags": []
   },
   "source": [
    "### Step 2(b) Reading feamat.csv\n"
   ]
  },
  {
   "cell_type": "code",
   "execution_count": 7,
   "metadata": {
    "execution": {
     "iopub.execute_input": "2021-03-03T11:40:56.107001Z",
     "iopub.status.busy": "2021-03-03T11:40:56.106400Z",
     "iopub.status.idle": "2021-03-03T11:41:03.652030Z",
     "shell.execute_reply": "2021-03-03T11:41:03.652503Z"
    },
    "papermill": {
     "duration": 7.57547,
     "end_time": "2021-03-03T11:41:03.652688",
     "exception": false,
     "start_time": "2021-03-03T11:40:56.077218",
     "status": "completed"
    },
    "tags": []
   },
   "outputs": [
    {
     "name": "stderr",
     "output_type": "stream",
     "text": [
      "/opt/conda/lib/python3.7/site-packages/ipykernel_launcher.py:1: ParserWarning: Falling back to the 'python' engine because the 'c' engine does not support regex separators (separators > 1 char and different from '\\s+' are interpreted as regex); you can avoid this warning by specifying engine='python'.\n",
      "  \"\"\"Entry point for launching an IPython kernel.\n"
     ]
    },
    {
     "data": {
      "text/html": [
       "<div>\n",
       "<style scoped>\n",
       "    .dataframe tbody tr th:only-of-type {\n",
       "        vertical-align: middle;\n",
       "    }\n",
       "\n",
       "    .dataframe tbody tr th {\n",
       "        vertical-align: top;\n",
       "    }\n",
       "\n",
       "    .dataframe thead th {\n",
       "        text-align: right;\n",
       "    }\n",
       "</style>\n",
       "<table border=\"1\" class=\"dataframe\">\n",
       "  <thead>\n",
       "    <tr style=\"text-align: right;\">\n",
       "      <th></th>\n",
       "      <th>V1</th>\n",
       "      <th>V2</th>\n",
       "      <th>V3</th>\n",
       "      <th>V4</th>\n",
       "      <th>V5</th>\n",
       "      <th>V6</th>\n",
       "      <th>V7</th>\n",
       "      <th>V8</th>\n",
       "      <th>V9</th>\n",
       "      <th>V10</th>\n",
       "      <th>...</th>\n",
       "      <th>V1066</th>\n",
       "      <th>V1067</th>\n",
       "      <th>V1068</th>\n",
       "      <th>V1069</th>\n",
       "      <th>V1070</th>\n",
       "      <th>V1071</th>\n",
       "      <th>V1072</th>\n",
       "      <th>V1073</th>\n",
       "      <th>V1074</th>\n",
       "      <th>V1075</th>\n",
       "    </tr>\n",
       "  </thead>\n",
       "  <tbody>\n",
       "    <tr>\n",
       "      <th>0</th>\n",
       "      <td>60-35-5</td>\n",
       "      <td>178</td>\n",
       "      <td>59.037114</td>\n",
       "      <td>-0.808</td>\n",
       "      <td>43.09</td>\n",
       "      <td>0.0</td>\n",
       "      <td>0.0</td>\n",
       "      <td>0.0</td>\n",
       "      <td>0.000000</td>\n",
       "      <td>0.000000</td>\n",
       "      <td>...</td>\n",
       "      <td>0</td>\n",
       "      <td>0</td>\n",
       "      <td>0</td>\n",
       "      <td>0</td>\n",
       "      <td>0</td>\n",
       "      <td>0</td>\n",
       "      <td>0</td>\n",
       "      <td>0</td>\n",
       "      <td>0</td>\n",
       "      <td>0</td>\n",
       "    </tr>\n",
       "    <tr>\n",
       "      <th>1</th>\n",
       "      <td>103-90-2</td>\n",
       "      <td>1983</td>\n",
       "      <td>151.063329</td>\n",
       "      <td>0.870</td>\n",
       "      <td>49.33</td>\n",
       "      <td>0.0</td>\n",
       "      <td>0.0</td>\n",
       "      <td>0.0</td>\n",
       "      <td>0.083333</td>\n",
       "      <td>0.142259</td>\n",
       "      <td>...</td>\n",
       "      <td>0</td>\n",
       "      <td>0</td>\n",
       "      <td>0</td>\n",
       "      <td>0</td>\n",
       "      <td>0</td>\n",
       "      <td>0</td>\n",
       "      <td>0</td>\n",
       "      <td>0</td>\n",
       "      <td>0</td>\n",
       "      <td>0</td>\n",
       "    </tr>\n",
       "    <tr>\n",
       "      <th>2</th>\n",
       "      <td>968-81-0</td>\n",
       "      <td>1989</td>\n",
       "      <td>324.114378</td>\n",
       "      <td>2.960</td>\n",
       "      <td>100.72</td>\n",
       "      <td>0.0</td>\n",
       "      <td>0.0</td>\n",
       "      <td>0.0</td>\n",
       "      <td>0.185395</td>\n",
       "      <td>0.161948</td>\n",
       "      <td>...</td>\n",
       "      <td>0</td>\n",
       "      <td>0</td>\n",
       "      <td>0</td>\n",
       "      <td>0</td>\n",
       "      <td>0</td>\n",
       "      <td>0</td>\n",
       "      <td>0</td>\n",
       "      <td>0</td>\n",
       "      <td>0</td>\n",
       "      <td>0</td>\n",
       "    </tr>\n",
       "    <tr>\n",
       "      <th>3</th>\n",
       "      <td>520-45-6</td>\n",
       "      <td>122903</td>\n",
       "      <td>168.042259</td>\n",
       "      <td>-0.551</td>\n",
       "      <td>60.44</td>\n",
       "      <td>0.0</td>\n",
       "      <td>0.0</td>\n",
       "      <td>0.0</td>\n",
       "      <td>0.055556</td>\n",
       "      <td>0.198742</td>\n",
       "      <td>...</td>\n",
       "      <td>0</td>\n",
       "      <td>0</td>\n",
       "      <td>0</td>\n",
       "      <td>0</td>\n",
       "      <td>0</td>\n",
       "      <td>0</td>\n",
       "      <td>0</td>\n",
       "      <td>0</td>\n",
       "      <td>0</td>\n",
       "      <td>0</td>\n",
       "    </tr>\n",
       "    <tr>\n",
       "      <th>4</th>\n",
       "      <td>50594-66-6</td>\n",
       "      <td>44073</td>\n",
       "      <td>360.996485</td>\n",
       "      <td>4.557</td>\n",
       "      <td>89.67</td>\n",
       "      <td>0.0</td>\n",
       "      <td>0.0</td>\n",
       "      <td>0.0</td>\n",
       "      <td>0.136083</td>\n",
       "      <td>0.276855</td>\n",
       "      <td>...</td>\n",
       "      <td>0</td>\n",
       "      <td>0</td>\n",
       "      <td>0</td>\n",
       "      <td>0</td>\n",
       "      <td>0</td>\n",
       "      <td>0</td>\n",
       "      <td>0</td>\n",
       "      <td>0</td>\n",
       "      <td>0</td>\n",
       "      <td>0</td>\n",
       "    </tr>\n",
       "  </tbody>\n",
       "</table>\n",
       "<p>5 rows × 1075 columns</p>\n",
       "</div>"
      ],
      "text/plain": [
       "           V1      V2          V3     V4      V5   V6   V7   V8        V9  \\\n",
       "0     60-35-5     178   59.037114 -0.808   43.09  0.0  0.0  0.0  0.000000   \n",
       "1    103-90-2    1983  151.063329  0.870   49.33  0.0  0.0  0.0  0.083333   \n",
       "2    968-81-0    1989  324.114378  2.960  100.72  0.0  0.0  0.0  0.185395   \n",
       "3    520-45-6  122903  168.042259 -0.551   60.44  0.0  0.0  0.0  0.055556   \n",
       "4  50594-66-6   44073  360.996485  4.557   89.67  0.0  0.0  0.0  0.136083   \n",
       "\n",
       "        V10  ...  V1066  V1067  V1068  V1069  V1070  V1071  V1072  V1073  \\\n",
       "0  0.000000  ...      0      0      0      0      0      0      0      0   \n",
       "1  0.142259  ...      0      0      0      0      0      0      0      0   \n",
       "2  0.161948  ...      0      0      0      0      0      0      0      0   \n",
       "3  0.198742  ...      0      0      0      0      0      0      0      0   \n",
       "4  0.276855  ...      0      0      0      0      0      0      0      0   \n",
       "\n",
       "   V1074  V1075  \n",
       "0      0      0  \n",
       "1      0      0  \n",
       "2      0      0  \n",
       "3      0      0  \n",
       "4      0      0  \n",
       "\n",
       "[5 rows x 1075 columns]"
      ]
     },
     "execution_count": 7,
     "metadata": {},
     "output_type": "execute_result"
    }
   ],
   "source": [
    "feamat_df = pd.read_csv('/kaggle/input/the-toxicity-prediction-challenge/feamat.csv', sep=';|,')\n",
    "feamat_df.head()"
   ]
  },
  {
   "cell_type": "code",
   "execution_count": 8,
   "metadata": {
    "execution": {
     "iopub.execute_input": "2021-03-03T11:41:03.707874Z",
     "iopub.status.busy": "2021-03-03T11:41:03.707283Z",
     "iopub.status.idle": "2021-03-03T11:41:03.712931Z",
     "shell.execute_reply": "2021-03-03T11:41:03.712462Z"
    },
    "papermill": {
     "duration": 0.034888,
     "end_time": "2021-03-03T11:41:03.713073",
     "exception": false,
     "start_time": "2021-03-03T11:41:03.678185",
     "status": "completed"
    },
    "tags": []
   },
   "outputs": [
    {
     "data": {
      "text/plain": [
       "(8831, 1075)"
      ]
     },
     "execution_count": 8,
     "metadata": {},
     "output_type": "execute_result"
    }
   ],
   "source": [
    "#check its shape\n",
    "feamat_df.shape"
   ]
  },
  {
   "cell_type": "code",
   "execution_count": 9,
   "metadata": {
    "execution": {
     "iopub.execute_input": "2021-03-03T11:41:03.772165Z",
     "iopub.status.busy": "2021-03-03T11:41:03.771283Z",
     "iopub.status.idle": "2021-03-03T11:41:03.774657Z",
     "shell.execute_reply": "2021-03-03T11:41:03.775118Z"
    },
    "papermill": {
     "duration": 0.036528,
     "end_time": "2021-03-03T11:41:03.775290",
     "exception": false,
     "start_time": "2021-03-03T11:41:03.738762",
     "status": "completed"
    },
    "tags": []
   },
   "outputs": [
    {
     "data": {
      "text/plain": [
       "V1        object\n",
       "V2         int64\n",
       "V3       float64\n",
       "V4       float64\n",
       "V5       float64\n",
       "          ...   \n",
       "V1071      int64\n",
       "V1072      int64\n",
       "V1073      int64\n",
       "V1074      int64\n",
       "V1075      int64\n",
       "Length: 1075, dtype: object"
      ]
     },
     "execution_count": 9,
     "metadata": {},
     "output_type": "execute_result"
    }
   ],
   "source": [
    "#check its data type\n",
    "feamat_df.dtypes"
   ]
  },
  {
   "cell_type": "markdown",
   "metadata": {
    "papermill": {
     "duration": 0.026541,
     "end_time": "2021-03-03T11:41:03.828474",
     "exception": false,
     "start_time": "2021-03-03T11:41:03.801933",
     "status": "completed"
    },
    "tags": []
   },
   "source": [
    "### Step 2 (c) Matching the first column of feamat.csv with train.csv"
   ]
  },
  {
   "cell_type": "code",
   "execution_count": 10,
   "metadata": {
    "execution": {
     "iopub.execute_input": "2021-03-03T11:41:03.884925Z",
     "iopub.status.busy": "2021-03-03T11:41:03.884315Z",
     "iopub.status.idle": "2021-03-03T11:41:05.239843Z",
     "shell.execute_reply": "2021-03-03T11:41:05.239037Z"
    },
    "papermill": {
     "duration": 1.384685,
     "end_time": "2021-03-03T11:41:05.239997",
     "exception": false,
     "start_time": "2021-03-03T11:41:03.855312",
     "status": "completed"
    },
    "tags": []
   },
   "outputs": [
    {
     "data": {
      "text/html": [
       "<div>\n",
       "<style scoped>\n",
       "    .dataframe tbody tr th:only-of-type {\n",
       "        vertical-align: middle;\n",
       "    }\n",
       "\n",
       "    .dataframe tbody tr th {\n",
       "        vertical-align: top;\n",
       "    }\n",
       "\n",
       "    .dataframe thead th {\n",
       "        text-align: right;\n",
       "    }\n",
       "</style>\n",
       "<table border=\"1\" class=\"dataframe\">\n",
       "  <thead>\n",
       "    <tr style=\"text-align: right;\">\n",
       "      <th></th>\n",
       "      <th>V1</th>\n",
       "      <th>Id</th>\n",
       "      <th>Expected</th>\n",
       "      <th>V2</th>\n",
       "      <th>V3</th>\n",
       "      <th>V4</th>\n",
       "      <th>V5</th>\n",
       "      <th>V6</th>\n",
       "      <th>V7</th>\n",
       "      <th>V8</th>\n",
       "      <th>...</th>\n",
       "      <th>V1066</th>\n",
       "      <th>V1067</th>\n",
       "      <th>V1068</th>\n",
       "      <th>V1069</th>\n",
       "      <th>V1070</th>\n",
       "      <th>V1071</th>\n",
       "      <th>V1072</th>\n",
       "      <th>V1073</th>\n",
       "      <th>V1074</th>\n",
       "      <th>V1075</th>\n",
       "    </tr>\n",
       "  </thead>\n",
       "  <tbody>\n",
       "    <tr>\n",
       "      <th>0</th>\n",
       "      <td>2971-36-0</td>\n",
       "      <td>1644</td>\n",
       "      <td>2</td>\n",
       "      <td>76302</td>\n",
       "      <td>315.982463</td>\n",
       "      <td>4.592</td>\n",
       "      <td>40.46</td>\n",
       "      <td>0.0</td>\n",
       "      <td>0.0</td>\n",
       "      <td>0.000000</td>\n",
       "      <td>...</td>\n",
       "      <td>0</td>\n",
       "      <td>0</td>\n",
       "      <td>0</td>\n",
       "      <td>0</td>\n",
       "      <td>0</td>\n",
       "      <td>0</td>\n",
       "      <td>0</td>\n",
       "      <td>0</td>\n",
       "      <td>0</td>\n",
       "      <td>0</td>\n",
       "    </tr>\n",
       "    <tr>\n",
       "      <th>1</th>\n",
       "      <td>693-54-9</td>\n",
       "      <td>2451</td>\n",
       "      <td>2</td>\n",
       "      <td>12741</td>\n",
       "      <td>156.151415</td>\n",
       "      <td>3.852</td>\n",
       "      <td>17.07</td>\n",
       "      <td>0.0</td>\n",
       "      <td>0.0</td>\n",
       "      <td>0.000000</td>\n",
       "      <td>...</td>\n",
       "      <td>0</td>\n",
       "      <td>0</td>\n",
       "      <td>0</td>\n",
       "      <td>0</td>\n",
       "      <td>0</td>\n",
       "      <td>0</td>\n",
       "      <td>0</td>\n",
       "      <td>0</td>\n",
       "      <td>0</td>\n",
       "      <td>0</td>\n",
       "    </tr>\n",
       "    <tr>\n",
       "      <th>2</th>\n",
       "      <td>7173-51-5</td>\n",
       "      <td>1384</td>\n",
       "      <td>2</td>\n",
       "      <td>23558</td>\n",
       "      <td>361.347528</td>\n",
       "      <td>9.912</td>\n",
       "      <td>0.00</td>\n",
       "      <td>0.0</td>\n",
       "      <td>0.0</td>\n",
       "      <td>0.000000</td>\n",
       "      <td>...</td>\n",
       "      <td>0</td>\n",
       "      <td>0</td>\n",
       "      <td>0</td>\n",
       "      <td>0</td>\n",
       "      <td>0</td>\n",
       "      <td>0</td>\n",
       "      <td>0</td>\n",
       "      <td>0</td>\n",
       "      <td>0</td>\n",
       "      <td>0</td>\n",
       "    </tr>\n",
       "    <tr>\n",
       "      <th>3</th>\n",
       "      <td>138261-41-3</td>\n",
       "      <td>16</td>\n",
       "      <td>2</td>\n",
       "      <td>86418</td>\n",
       "      <td>255.052302</td>\n",
       "      <td>2.294</td>\n",
       "      <td>83.66</td>\n",
       "      <td>0.0</td>\n",
       "      <td>0.0</td>\n",
       "      <td>0.117851</td>\n",
       "      <td>...</td>\n",
       "      <td>0</td>\n",
       "      <td>0</td>\n",
       "      <td>0</td>\n",
       "      <td>0</td>\n",
       "      <td>0</td>\n",
       "      <td>0</td>\n",
       "      <td>0</td>\n",
       "      <td>0</td>\n",
       "      <td>0</td>\n",
       "      <td>0</td>\n",
       "    </tr>\n",
       "    <tr>\n",
       "      <th>4</th>\n",
       "      <td>7681-82-5</td>\n",
       "      <td>1856</td>\n",
       "      <td>2</td>\n",
       "      <td>5238</td>\n",
       "      <td>149.894242</td>\n",
       "      <td>1.050</td>\n",
       "      <td>0.00</td>\n",
       "      <td>0.0</td>\n",
       "      <td>0.0</td>\n",
       "      <td>0.000000</td>\n",
       "      <td>...</td>\n",
       "      <td>0</td>\n",
       "      <td>0</td>\n",
       "      <td>0</td>\n",
       "      <td>0</td>\n",
       "      <td>0</td>\n",
       "      <td>0</td>\n",
       "      <td>0</td>\n",
       "      <td>0</td>\n",
       "      <td>0</td>\n",
       "      <td>0</td>\n",
       "    </tr>\n",
       "  </tbody>\n",
       "</table>\n",
       "<p>5 rows × 1077 columns</p>\n",
       "</div>"
      ],
      "text/plain": [
       "            V1    Id  Expected     V2          V3     V4     V5   V6   V7  \\\n",
       "0    2971-36-0  1644         2  76302  315.982463  4.592  40.46  0.0  0.0   \n",
       "1     693-54-9  2451         2  12741  156.151415  3.852  17.07  0.0  0.0   \n",
       "2    7173-51-5  1384         2  23558  361.347528  9.912   0.00  0.0  0.0   \n",
       "3  138261-41-3    16         2  86418  255.052302  2.294  83.66  0.0  0.0   \n",
       "4    7681-82-5  1856         2   5238  149.894242  1.050   0.00  0.0  0.0   \n",
       "\n",
       "         V8  ...  V1066  V1067  V1068  V1069  V1070  V1071  V1072  V1073  \\\n",
       "0  0.000000  ...      0      0      0      0      0      0      0      0   \n",
       "1  0.000000  ...      0      0      0      0      0      0      0      0   \n",
       "2  0.000000  ...      0      0      0      0      0      0      0      0   \n",
       "3  0.117851  ...      0      0      0      0      0      0      0      0   \n",
       "4  0.000000  ...      0      0      0      0      0      0      0      0   \n",
       "\n",
       "   V1074  V1075  \n",
       "0      0      0  \n",
       "1      0      0  \n",
       "2      0      0  \n",
       "3      0      0  \n",
       "4      0      0  \n",
       "\n",
       "[5 rows x 1077 columns]"
      ]
     },
     "execution_count": 10,
     "metadata": {},
     "output_type": "execute_result"
    }
   ],
   "source": [
    "combined_df = train_df.merge(feamat_df, on = ['V1'],how = 'left')\n",
    "combined_df.head()"
   ]
  },
  {
   "cell_type": "code",
   "execution_count": 11,
   "metadata": {
    "execution": {
     "iopub.execute_input": "2021-03-03T11:41:05.308659Z",
     "iopub.status.busy": "2021-03-03T11:41:05.307753Z",
     "iopub.status.idle": "2021-03-03T11:41:05.311336Z",
     "shell.execute_reply": "2021-03-03T11:41:05.312077Z"
    },
    "papermill": {
     "duration": 0.03628,
     "end_time": "2021-03-03T11:41:05.312301",
     "exception": false,
     "start_time": "2021-03-03T11:41:05.276021",
     "status": "completed"
    },
    "tags": []
   },
   "outputs": [
    {
     "data": {
      "text/plain": [
       "(77413, 1077)"
      ]
     },
     "execution_count": 11,
     "metadata": {},
     "output_type": "execute_result"
    }
   ],
   "source": [
    "#check its shape\n",
    "combined_df.shape"
   ]
  },
  {
   "cell_type": "markdown",
   "metadata": {
    "papermill": {
     "duration": 0.027951,
     "end_time": "2021-03-03T11:41:05.372925",
     "exception": false,
     "start_time": "2021-03-03T11:41:05.344974",
     "status": "completed"
    },
    "tags": []
   },
   "source": [
    "### DATA PREPROCESSING\n",
    "#### 1. INF VALUES\n",
    "> dataset contains inf values, so we need to remove those. Replacing inf with nan value and later imputing the nan values"
   ]
  },
  {
   "cell_type": "code",
   "execution_count": 12,
   "metadata": {
    "execution": {
     "iopub.execute_input": "2021-03-03T11:41:05.435748Z",
     "iopub.status.busy": "2021-03-03T11:41:05.433794Z",
     "iopub.status.idle": "2021-03-03T11:41:06.216261Z",
     "shell.execute_reply": "2021-03-03T11:41:06.215621Z"
    },
    "papermill": {
     "duration": 0.815938,
     "end_time": "2021-03-03T11:41:06.216441",
     "exception": false,
     "start_time": "2021-03-03T11:41:05.400503",
     "status": "completed"
    },
    "tags": []
   },
   "outputs": [],
   "source": [
    "#replacing inf with nan value\n",
    "combined_df = combined_df.replace([np.inf, -np.inf], np.nan)"
   ]
  },
  {
   "cell_type": "markdown",
   "metadata": {
    "papermill": {
     "duration": 0.027907,
     "end_time": "2021-03-03T11:41:06.271243",
     "exception": false,
     "start_time": "2021-03-03T11:41:06.243336",
     "status": "completed"
    },
    "tags": []
   },
   "source": [
    "#### 2. Checking null and nan values\n",
    "> contains 1 null value & nan value\n",
    "\n"
   ]
  },
  {
   "cell_type": "code",
   "execution_count": 13,
   "metadata": {
    "execution": {
     "iopub.execute_input": "2021-03-03T11:41:06.332174Z",
     "iopub.status.busy": "2021-03-03T11:41:06.331118Z",
     "iopub.status.idle": "2021-03-03T11:41:06.375465Z",
     "shell.execute_reply": "2021-03-03T11:41:06.374959Z"
    },
    "papermill": {
     "duration": 0.076851,
     "end_time": "2021-03-03T11:41:06.375612",
     "exception": false,
     "start_time": "2021-03-03T11:41:06.298761",
     "status": "completed"
    },
    "tags": []
   },
   "outputs": [
    {
     "data": {
      "text/plain": [
       "1"
      ]
     },
     "execution_count": 13,
     "metadata": {},
     "output_type": "execute_result"
    }
   ],
   "source": [
    "combined_df.isnull().any().sum()\n"
   ]
  },
  {
   "cell_type": "markdown",
   "metadata": {
    "papermill": {
     "duration": 0.026811,
     "end_time": "2021-03-03T11:41:06.430094",
     "exception": false,
     "start_time": "2021-03-03T11:41:06.403283",
     "status": "completed"
    },
    "tags": []
   },
   "source": [
    "#### 3. Fill nan value"
   ]
  },
  {
   "cell_type": "code",
   "execution_count": 14,
   "metadata": {
    "execution": {
     "iopub.execute_input": "2021-03-03T11:41:06.491649Z",
     "iopub.status.busy": "2021-03-03T11:41:06.489640Z",
     "iopub.status.idle": "2021-03-03T11:41:06.772069Z",
     "shell.execute_reply": "2021-03-03T11:41:06.771592Z"
    },
    "papermill": {
     "duration": 0.314369,
     "end_time": "2021-03-03T11:41:06.772215",
     "exception": false,
     "start_time": "2021-03-03T11:41:06.457846",
     "status": "completed"
    },
    "tags": []
   },
   "outputs": [],
   "source": [
    "combined_df = combined_df.fillna(0)\n"
   ]
  },
  {
   "cell_type": "markdown",
   "metadata": {
    "papermill": {
     "duration": 0.026838,
     "end_time": "2021-03-03T11:41:06.828793",
     "exception": false,
     "start_time": "2021-03-03T11:41:06.801955",
     "status": "completed"
    },
    "tags": []
   },
   "source": [
    "#### 4. Find number of classes for target variable¶\n",
    "> As can be seen there are only 2 labels, it is a binary classification problem."
   ]
  },
  {
   "cell_type": "code",
   "execution_count": 15,
   "metadata": {
    "execution": {
     "iopub.execute_input": "2021-03-03T11:41:06.893788Z",
     "iopub.status.busy": "2021-03-03T11:41:06.892757Z",
     "iopub.status.idle": "2021-03-03T11:41:06.899115Z",
     "shell.execute_reply": "2021-03-03T11:41:06.898488Z"
    },
    "papermill": {
     "duration": 0.04215,
     "end_time": "2021-03-03T11:41:06.899260",
     "exception": false,
     "start_time": "2021-03-03T11:41:06.857110",
     "status": "completed"
    },
    "tags": []
   },
   "outputs": [
    {
     "data": {
      "text/plain": [
       "2    66495\n",
       "1    10918\n",
       "Name: Expected, dtype: int64"
      ]
     },
     "execution_count": 15,
     "metadata": {},
     "output_type": "execute_result"
    }
   ],
   "source": [
    "combined_df['Expected'].value_counts()\n"
   ]
  },
  {
   "cell_type": "markdown",
   "metadata": {
    "papermill": {
     "duration": 0.027894,
     "end_time": "2021-03-03T11:41:06.955920",
     "exception": false,
     "start_time": "2021-03-03T11:41:06.928026",
     "status": "completed"
    },
    "tags": []
   },
   "source": [
    "#### 5. Plotting class distributions\n",
    "\n",
    "> It can be seen that class 2 has more number of samples than class 1, so it is clear case of unbalanced datase"
   ]
  },
  {
   "cell_type": "code",
   "execution_count": 16,
   "metadata": {
    "execution": {
     "iopub.execute_input": "2021-03-03T11:41:07.018377Z",
     "iopub.status.busy": "2021-03-03T11:41:07.017754Z",
     "iopub.status.idle": "2021-03-03T11:41:07.988762Z",
     "shell.execute_reply": "2021-03-03T11:41:07.988077Z"
    },
    "papermill": {
     "duration": 1.004717,
     "end_time": "2021-03-03T11:41:07.988913",
     "exception": false,
     "start_time": "2021-03-03T11:41:06.984196",
     "status": "completed"
    },
    "tags": []
   },
   "outputs": [
    {
     "name": "stderr",
     "output_type": "stream",
     "text": [
      "/opt/conda/lib/python3.7/site-packages/seaborn/_decorators.py:43: FutureWarning: Pass the following variables as keyword args: x, y. From version 0.12, the only valid positional argument will be `data`, and passing other arguments without an explicit keyword will result in an error or misinterpretation.\n",
      "  FutureWarning\n"
     ]
    },
    {
     "data": {
      "image/png": "[encoded data removed]",
      "text/plain": [
       "<Figure size 720x360 with 1 Axes>"
      ]
     },
     "metadata": {
      "needs_background": "light"
     },
     "output_type": "display_data"
    }
   ],
   "source": [
    "from matplotlib import pyplot as plt\n",
    "import seaborn as sns\n",
    "class_count  = combined_df['Expected'].value_counts()\n",
    "plt.figure(figsize=(10,5))\n",
    "sns.barplot(class_count.index, class_count.values, alpha=0.8)\n",
    "plt.title('Class Distribution')\n",
    "plt.ylabel('Frequency', fontsize=12)\n",
    "plt.xlabel('Class', fontsize=12)\n",
    "plt.show()"
   ]
  },
  {
   "cell_type": "markdown",
   "metadata": {
    "papermill": {
     "duration": 0.029356,
     "end_time": "2021-03-03T11:41:08.047188",
     "exception": false,
     "start_time": "2021-03-03T11:41:08.017832",
     "status": "completed"
    },
    "tags": []
   },
   "source": [
    "#### 6. Enconding Object Data type"
   ]
  },
  {
   "cell_type": "code",
   "execution_count": 17,
   "metadata": {
    "execution": {
     "iopub.execute_input": "2021-03-03T11:41:08.118390Z",
     "iopub.status.busy": "2021-03-03T11:41:08.114528Z",
     "iopub.status.idle": "2021-03-03T11:41:08.123463Z",
     "shell.execute_reply": "2021-03-03T11:41:08.122955Z"
    },
    "papermill": {
     "duration": 0.04671,
     "end_time": "2021-03-03T11:41:08.123604",
     "exception": false,
     "start_time": "2021-03-03T11:41:08.076894",
     "status": "completed"
    },
    "tags": []
   },
   "outputs": [
    {
     "data": {
      "text/plain": [
       "678-39-7       1\n",
       "52298-44-9     1\n",
       "80226-00-2     1\n",
       "1271-28-9      1\n",
       "109-00-2       1\n",
       "              ..\n",
       "3166-62-9      1\n",
       "194798-83-9    1\n",
       "459-57-4       1\n",
       "83-41-0        1\n",
       "566-48-3       1\n",
       "Name: V1, Length: 8831, dtype: int64"
      ]
     },
     "execution_count": 17,
     "metadata": {},
     "output_type": "execute_result"
    }
   ],
   "source": [
    "#value counts\n",
    "feamat_df[\"V1\"].value_counts()"
   ]
  },
  {
   "cell_type": "markdown",
   "metadata": {
    "papermill": {
     "duration": 0.028668,
     "end_time": "2021-03-03T11:41:08.183702",
     "exception": false,
     "start_time": "2021-03-03T11:41:08.155034",
     "status": "completed"
    },
    "tags": []
   },
   "source": [
    "#### 7. Label Encoding"
   ]
  },
  {
   "cell_type": "code",
   "execution_count": 18,
   "metadata": {
    "execution": {
     "iopub.execute_input": "2021-03-03T11:41:08.247452Z",
     "iopub.status.busy": "2021-03-03T11:41:08.246832Z",
     "iopub.status.idle": "2021-03-03T11:41:08.439510Z",
     "shell.execute_reply": "2021-03-03T11:41:08.439973Z"
    },
    "papermill": {
     "duration": 0.227024,
     "end_time": "2021-03-03T11:41:08.440157",
     "exception": false,
     "start_time": "2021-03-03T11:41:08.213133",
     "status": "completed"
    },
    "tags": []
   },
   "outputs": [
    {
     "data": {
      "text/html": [
       "<div>\n",
       "<style scoped>\n",
       "    .dataframe tbody tr th:only-of-type {\n",
       "        vertical-align: middle;\n",
       "    }\n",
       "\n",
       "    .dataframe tbody tr th {\n",
       "        vertical-align: top;\n",
       "    }\n",
       "\n",
       "    .dataframe thead th {\n",
       "        text-align: right;\n",
       "    }\n",
       "</style>\n",
       "<table border=\"1\" class=\"dataframe\">\n",
       "  <thead>\n",
       "    <tr style=\"text-align: right;\">\n",
       "      <th></th>\n",
       "      <th>V1</th>\n",
       "      <th>V2</th>\n",
       "      <th>V3</th>\n",
       "      <th>V4</th>\n",
       "      <th>V5</th>\n",
       "      <th>V6</th>\n",
       "      <th>V7</th>\n",
       "      <th>V8</th>\n",
       "      <th>V9</th>\n",
       "      <th>V10</th>\n",
       "      <th>...</th>\n",
       "      <th>V1066</th>\n",
       "      <th>V1067</th>\n",
       "      <th>V1068</th>\n",
       "      <th>V1069</th>\n",
       "      <th>V1070</th>\n",
       "      <th>V1071</th>\n",
       "      <th>V1072</th>\n",
       "      <th>V1073</th>\n",
       "      <th>V1074</th>\n",
       "      <th>V1075</th>\n",
       "    </tr>\n",
       "  </thead>\n",
       "  <tbody>\n",
       "    <tr>\n",
       "      <th>0</th>\n",
       "      <td>6088</td>\n",
       "      <td>178</td>\n",
       "      <td>59.037114</td>\n",
       "      <td>-0.808</td>\n",
       "      <td>43.09</td>\n",
       "      <td>0.0</td>\n",
       "      <td>0.0</td>\n",
       "      <td>0.0</td>\n",
       "      <td>0.000000</td>\n",
       "      <td>0.000000</td>\n",
       "      <td>...</td>\n",
       "      <td>0</td>\n",
       "      <td>0</td>\n",
       "      <td>0</td>\n",
       "      <td>0</td>\n",
       "      <td>0</td>\n",
       "      <td>0</td>\n",
       "      <td>0</td>\n",
       "      <td>0</td>\n",
       "      <td>0</td>\n",
       "      <td>0</td>\n",
       "    </tr>\n",
       "    <tr>\n",
       "      <th>1</th>\n",
       "      <td>246</td>\n",
       "      <td>1983</td>\n",
       "      <td>151.063329</td>\n",
       "      <td>0.870</td>\n",
       "      <td>49.33</td>\n",
       "      <td>0.0</td>\n",
       "      <td>0.0</td>\n",
       "      <td>0.0</td>\n",
       "      <td>0.083333</td>\n",
       "      <td>0.142259</td>\n",
       "      <td>...</td>\n",
       "      <td>0</td>\n",
       "      <td>0</td>\n",
       "      <td>0</td>\n",
       "      <td>0</td>\n",
       "      <td>0</td>\n",
       "      <td>0</td>\n",
       "      <td>0</td>\n",
       "      <td>0</td>\n",
       "      <td>0</td>\n",
       "      <td>0</td>\n",
       "    </tr>\n",
       "    <tr>\n",
       "      <th>2</th>\n",
       "      <td>8586</td>\n",
       "      <td>1989</td>\n",
       "      <td>324.114378</td>\n",
       "      <td>2.960</td>\n",
       "      <td>100.72</td>\n",
       "      <td>0.0</td>\n",
       "      <td>0.0</td>\n",
       "      <td>0.0</td>\n",
       "      <td>0.185395</td>\n",
       "      <td>0.161948</td>\n",
       "      <td>...</td>\n",
       "      <td>0</td>\n",
       "      <td>0</td>\n",
       "      <td>0</td>\n",
       "      <td>0</td>\n",
       "      <td>0</td>\n",
       "      <td>0</td>\n",
       "      <td>0</td>\n",
       "      <td>0</td>\n",
       "      <td>0</td>\n",
       "      <td>0</td>\n",
       "    </tr>\n",
       "    <tr>\n",
       "      <th>3</th>\n",
       "      <td>5224</td>\n",
       "      <td>122903</td>\n",
       "      <td>168.042259</td>\n",
       "      <td>-0.551</td>\n",
       "      <td>60.44</td>\n",
       "      <td>0.0</td>\n",
       "      <td>0.0</td>\n",
       "      <td>0.0</td>\n",
       "      <td>0.055556</td>\n",
       "      <td>0.198742</td>\n",
       "      <td>...</td>\n",
       "      <td>0</td>\n",
       "      <td>0</td>\n",
       "      <td>0</td>\n",
       "      <td>0</td>\n",
       "      <td>0</td>\n",
       "      <td>0</td>\n",
       "      <td>0</td>\n",
       "      <td>0</td>\n",
       "      <td>0</td>\n",
       "      <td>0</td>\n",
       "    </tr>\n",
       "    <tr>\n",
       "      <th>4</th>\n",
       "      <td>5064</td>\n",
       "      <td>44073</td>\n",
       "      <td>360.996485</td>\n",
       "      <td>4.557</td>\n",
       "      <td>89.67</td>\n",
       "      <td>0.0</td>\n",
       "      <td>0.0</td>\n",
       "      <td>0.0</td>\n",
       "      <td>0.136083</td>\n",
       "      <td>0.276855</td>\n",
       "      <td>...</td>\n",
       "      <td>0</td>\n",
       "      <td>0</td>\n",
       "      <td>0</td>\n",
       "      <td>0</td>\n",
       "      <td>0</td>\n",
       "      <td>0</td>\n",
       "      <td>0</td>\n",
       "      <td>0</td>\n",
       "      <td>0</td>\n",
       "      <td>0</td>\n",
       "    </tr>\n",
       "  </tbody>\n",
       "</table>\n",
       "<p>5 rows × 1075 columns</p>\n",
       "</div>"
      ],
      "text/plain": [
       "     V1      V2          V3     V4      V5   V6   V7   V8        V9       V10  \\\n",
       "0  6088     178   59.037114 -0.808   43.09  0.0  0.0  0.0  0.000000  0.000000   \n",
       "1   246    1983  151.063329  0.870   49.33  0.0  0.0  0.0  0.083333  0.142259   \n",
       "2  8586    1989  324.114378  2.960  100.72  0.0  0.0  0.0  0.185395  0.161948   \n",
       "3  5224  122903  168.042259 -0.551   60.44  0.0  0.0  0.0  0.055556  0.198742   \n",
       "4  5064   44073  360.996485  4.557   89.67  0.0  0.0  0.0  0.136083  0.276855   \n",
       "\n",
       "   ...  V1066  V1067  V1068  V1069  V1070  V1071  V1072  V1073  V1074  V1075  \n",
       "0  ...      0      0      0      0      0      0      0      0      0      0  \n",
       "1  ...      0      0      0      0      0      0      0      0      0      0  \n",
       "2  ...      0      0      0      0      0      0      0      0      0      0  \n",
       "3  ...      0      0      0      0      0      0      0      0      0      0  \n",
       "4  ...      0      0      0      0      0      0      0      0      0      0  \n",
       "\n",
       "[5 rows x 1075 columns]"
      ]
     },
     "execution_count": 18,
     "metadata": {},
     "output_type": "execute_result"
    }
   ],
   "source": [
    "from sklearn.preprocessing import LabelEncoder\n",
    "\n",
    "encoder = LabelEncoder()\n",
    "feamat_df['V1'] = encoder.fit_transform(feamat_df['V1'])\n",
    "\n",
    "feamat_df.head() #Results in appending a new column to "
   ]
  },
  {
   "cell_type": "code",
   "execution_count": 19,
   "metadata": {
    "execution": {
     "iopub.execute_input": "2021-03-03T11:41:08.532795Z",
     "iopub.status.busy": "2021-03-03T11:41:08.523454Z",
     "iopub.status.idle": "2021-03-03T11:41:08.553924Z",
     "shell.execute_reply": "2021-03-03T11:41:08.553344Z"
    },
    "papermill": {
     "duration": 0.083921,
     "end_time": "2021-03-03T11:41:08.554070",
     "exception": false,
     "start_time": "2021-03-03T11:41:08.470149",
     "status": "completed"
    },
    "tags": []
   },
   "outputs": [
    {
     "data": {
      "text/html": [
       "<div>\n",
       "<style scoped>\n",
       "    .dataframe tbody tr th:only-of-type {\n",
       "        vertical-align: middle;\n",
       "    }\n",
       "\n",
       "    .dataframe tbody tr th {\n",
       "        vertical-align: top;\n",
       "    }\n",
       "\n",
       "    .dataframe thead th {\n",
       "        text-align: right;\n",
       "    }\n",
       "</style>\n",
       "<table border=\"1\" class=\"dataframe\">\n",
       "  <thead>\n",
       "    <tr style=\"text-align: right;\">\n",
       "      <th></th>\n",
       "      <th>V1</th>\n",
       "      <th>Id</th>\n",
       "      <th>Expected</th>\n",
       "      <th>V2</th>\n",
       "      <th>V3</th>\n",
       "      <th>V4</th>\n",
       "      <th>V5</th>\n",
       "      <th>V6</th>\n",
       "      <th>V7</th>\n",
       "      <th>V8</th>\n",
       "      <th>...</th>\n",
       "      <th>V1066</th>\n",
       "      <th>V1067</th>\n",
       "      <th>V1068</th>\n",
       "      <th>V1069</th>\n",
       "      <th>V1070</th>\n",
       "      <th>V1071</th>\n",
       "      <th>V1072</th>\n",
       "      <th>V1073</th>\n",
       "      <th>V1074</th>\n",
       "      <th>V1075</th>\n",
       "    </tr>\n",
       "  </thead>\n",
       "  <tbody>\n",
       "    <tr>\n",
       "      <th>0</th>\n",
       "      <td>3799</td>\n",
       "      <td>1644</td>\n",
       "      <td>2</td>\n",
       "      <td>76302</td>\n",
       "      <td>315.982463</td>\n",
       "      <td>4.592</td>\n",
       "      <td>40.46</td>\n",
       "      <td>0.0</td>\n",
       "      <td>0.0</td>\n",
       "      <td>0.000000</td>\n",
       "      <td>...</td>\n",
       "      <td>0</td>\n",
       "      <td>0</td>\n",
       "      <td>0</td>\n",
       "      <td>0</td>\n",
       "      <td>0</td>\n",
       "      <td>0</td>\n",
       "      <td>0</td>\n",
       "      <td>0</td>\n",
       "      <td>0</td>\n",
       "      <td>0</td>\n",
       "    </tr>\n",
       "    <tr>\n",
       "      <th>1</th>\n",
       "      <td>6930</td>\n",
       "      <td>2451</td>\n",
       "      <td>2</td>\n",
       "      <td>12741</td>\n",
       "      <td>156.151415</td>\n",
       "      <td>3.852</td>\n",
       "      <td>17.07</td>\n",
       "      <td>0.0</td>\n",
       "      <td>0.0</td>\n",
       "      <td>0.000000</td>\n",
       "      <td>...</td>\n",
       "      <td>0</td>\n",
       "      <td>0</td>\n",
       "      <td>0</td>\n",
       "      <td>0</td>\n",
       "      <td>0</td>\n",
       "      <td>0</td>\n",
       "      <td>0</td>\n",
       "      <td>0</td>\n",
       "      <td>0</td>\n",
       "      <td>0</td>\n",
       "    </tr>\n",
       "    <tr>\n",
       "      <th>2</th>\n",
       "      <td>7062</td>\n",
       "      <td>1384</td>\n",
       "      <td>2</td>\n",
       "      <td>23558</td>\n",
       "      <td>361.347528</td>\n",
       "      <td>9.912</td>\n",
       "      <td>0.00</td>\n",
       "      <td>0.0</td>\n",
       "      <td>0.0</td>\n",
       "      <td>0.000000</td>\n",
       "      <td>...</td>\n",
       "      <td>0</td>\n",
       "      <td>0</td>\n",
       "      <td>0</td>\n",
       "      <td>0</td>\n",
       "      <td>0</td>\n",
       "      <td>0</td>\n",
       "      <td>0</td>\n",
       "      <td>0</td>\n",
       "      <td>0</td>\n",
       "      <td>0</td>\n",
       "    </tr>\n",
       "    <tr>\n",
       "      <th>3</th>\n",
       "      <td>1852</td>\n",
       "      <td>16</td>\n",
       "      <td>2</td>\n",
       "      <td>86418</td>\n",
       "      <td>255.052302</td>\n",
       "      <td>2.294</td>\n",
       "      <td>83.66</td>\n",
       "      <td>0.0</td>\n",
       "      <td>0.0</td>\n",
       "      <td>0.117851</td>\n",
       "      <td>...</td>\n",
       "      <td>0</td>\n",
       "      <td>0</td>\n",
       "      <td>0</td>\n",
       "      <td>0</td>\n",
       "      <td>0</td>\n",
       "      <td>0</td>\n",
       "      <td>0</td>\n",
       "      <td>0</td>\n",
       "      <td>0</td>\n",
       "      <td>0</td>\n",
       "    </tr>\n",
       "    <tr>\n",
       "      <th>4</th>\n",
       "      <td>7375</td>\n",
       "      <td>1856</td>\n",
       "      <td>2</td>\n",
       "      <td>5238</td>\n",
       "      <td>149.894242</td>\n",
       "      <td>1.050</td>\n",
       "      <td>0.00</td>\n",
       "      <td>0.0</td>\n",
       "      <td>0.0</td>\n",
       "      <td>0.000000</td>\n",
       "      <td>...</td>\n",
       "      <td>0</td>\n",
       "      <td>0</td>\n",
       "      <td>0</td>\n",
       "      <td>0</td>\n",
       "      <td>0</td>\n",
       "      <td>0</td>\n",
       "      <td>0</td>\n",
       "      <td>0</td>\n",
       "      <td>0</td>\n",
       "      <td>0</td>\n",
       "    </tr>\n",
       "  </tbody>\n",
       "</table>\n",
       "<p>5 rows × 1077 columns</p>\n",
       "</div>"
      ],
      "text/plain": [
       "     V1    Id  Expected     V2          V3     V4     V5   V6   V7        V8  \\\n",
       "0  3799  1644         2  76302  315.982463  4.592  40.46  0.0  0.0  0.000000   \n",
       "1  6930  2451         2  12741  156.151415  3.852  17.07  0.0  0.0  0.000000   \n",
       "2  7062  1384         2  23558  361.347528  9.912   0.00  0.0  0.0  0.000000   \n",
       "3  1852    16         2  86418  255.052302  2.294  83.66  0.0  0.0  0.117851   \n",
       "4  7375  1856         2   5238  149.894242  1.050   0.00  0.0  0.0  0.000000   \n",
       "\n",
       "   ...  V1066  V1067  V1068  V1069  V1070  V1071  V1072  V1073  V1074  V1075  \n",
       "0  ...      0      0      0      0      0      0      0      0      0      0  \n",
       "1  ...      0      0      0      0      0      0      0      0      0      0  \n",
       "2  ...      0      0      0      0      0      0      0      0      0      0  \n",
       "3  ...      0      0      0      0      0      0      0      0      0      0  \n",
       "4  ...      0      0      0      0      0      0      0      0      0      0  \n",
       "\n",
       "[5 rows x 1077 columns]"
      ]
     },
     "execution_count": 19,
     "metadata": {},
     "output_type": "execute_result"
    }
   ],
   "source": [
    "combined_df['V1'] = encoder.transform(combined_df['V1'])\n",
    "combined_df.head()"
   ]
  },
  {
   "cell_type": "markdown",
   "metadata": {
    "papermill": {
     "duration": 0.029848,
     "end_time": "2021-03-03T11:41:08.614977",
     "exception": false,
     "start_time": "2021-03-03T11:41:08.585129",
     "status": "completed"
    },
    "tags": []
   },
   "source": [
    "#### 7. Preparing X and y data for training\n",
    "> X containing all the feature variables (removing V1 variable and target variable) and y containing target variable."
   ]
  },
  {
   "cell_type": "code",
   "execution_count": 20,
   "metadata": {
    "execution": {
     "iopub.execute_input": "2021-03-03T11:41:08.682272Z",
     "iopub.status.busy": "2021-03-03T11:41:08.680917Z",
     "iopub.status.idle": "2021-03-03T11:41:09.388076Z",
     "shell.execute_reply": "2021-03-03T11:41:09.387402Z"
    },
    "papermill": {
     "duration": 0.743269,
     "end_time": "2021-03-03T11:41:09.388231",
     "exception": false,
     "start_time": "2021-03-03T11:41:08.644962",
     "status": "completed"
    },
    "tags": []
   },
   "outputs": [],
   "source": [
    "X = combined_df.drop(['Expected'], axis=1)\n",
    "y = combined_df['Expected']"
   ]
  },
  {
   "cell_type": "markdown",
   "metadata": {
    "papermill": {
     "duration": 0.031759,
     "end_time": "2021-03-03T11:41:09.453337",
     "exception": false,
     "start_time": "2021-03-03T11:41:09.421578",
     "status": "completed"
    },
    "tags": []
   },
   "source": [
    "#### 8. train test split"
   ]
  },
  {
   "cell_type": "code",
   "execution_count": 21,
   "metadata": {
    "execution": {
     "iopub.execute_input": "2021-03-03T11:41:09.518004Z",
     "iopub.status.busy": "2021-03-03T11:41:09.517316Z",
     "iopub.status.idle": "2021-03-03T11:41:10.272562Z",
     "shell.execute_reply": "2021-03-03T11:41:10.271972Z"
    },
    "papermill": {
     "duration": 0.789475,
     "end_time": "2021-03-03T11:41:10.272716",
     "exception": false,
     "start_time": "2021-03-03T11:41:09.483241",
     "status": "completed"
    },
    "tags": []
   },
   "outputs": [],
   "source": [
    "from sklearn.model_selection import train_test_split\n",
    "X_train, X_test, y_train, y_test = train_test_split(X, y, test_size=0.2, random_state=42)"
   ]
  },
  {
   "cell_type": "markdown",
   "metadata": {
    "papermill": {
     "duration": 0.029831,
     "end_time": "2021-03-03T11:41:10.333565",
     "exception": false,
     "start_time": "2021-03-03T11:41:10.303734",
     "status": "completed"
    },
    "tags": []
   },
   "source": [
    "#### 9. Normalization"
   ]
  },
  {
   "cell_type": "code",
   "execution_count": 22,
   "metadata": {
    "execution": {
     "iopub.execute_input": "2021-03-03T11:41:10.408404Z",
     "iopub.status.busy": "2021-03-03T11:41:10.407093Z",
     "iopub.status.idle": "2021-03-03T11:41:12.487788Z",
     "shell.execute_reply": "2021-03-03T11:41:12.488307Z"
    },
    "papermill": {
     "duration": 2.124604,
     "end_time": "2021-03-03T11:41:12.488504",
     "exception": false,
     "start_time": "2021-03-03T11:41:10.363900",
     "status": "completed"
    },
    "tags": []
   },
   "outputs": [
    {
     "data": {
      "text/plain": [
       "array([[ 0.09715778,  0.40524195, -0.32988022, ..., -0.08772935,\n",
       "         0.        ,  0.        ],\n",
       "       [-1.12552095, -1.40202649, -0.32586054, ..., -0.08772935,\n",
       "         0.        ,  0.        ],\n",
       "       [-0.58805558,  1.53613387, -0.33028882, ..., -0.08772935,\n",
       "         0.        ,  0.        ],\n",
       "       ...,\n",
       "       [-0.44654014,  0.25653505, -0.33020653, ..., -0.08772935,\n",
       "         0.        ,  0.        ],\n",
       "       [ 0.10705653, -1.37324451, -0.27120557, ..., -0.08772935,\n",
       "         0.        ,  0.        ],\n",
       "       [-0.84139021,  0.24694106, -0.33176054, ..., 11.39869434,\n",
       "         0.        ,  0.        ]])"
      ]
     },
     "execution_count": 22,
     "metadata": {},
     "output_type": "execute_result"
    }
   ],
   "source": [
    "from sklearn.preprocessing import MinMaxScaler, StandardScaler\n",
    "scaler = StandardScaler()\n",
    "scaler.fit(X_train)\n",
    "scaler.transform(X_train)\n",
    "scaler.transform(X_test)"
   ]
  },
  {
   "cell_type": "markdown",
   "metadata": {
    "papermill": {
     "duration": 0.031348,
     "end_time": "2021-03-03T11:41:12.551156",
     "exception": false,
     "start_time": "2021-03-03T11:41:12.519808",
     "status": "completed"
    },
    "tags": []
   },
   "source": [
    "#### FEATURE SELECTION Bagging Decison Classifier Model"
   ]
  },
  {
   "cell_type": "code",
   "execution_count": 23,
   "metadata": {
    "execution": {
     "iopub.execute_input": "2021-03-03T11:41:12.624240Z",
     "iopub.status.busy": "2021-03-03T11:41:12.623565Z",
     "iopub.status.idle": "2021-03-03T11:41:23.907657Z",
     "shell.execute_reply": "2021-03-03T11:41:23.908435Z"
    },
    "papermill": {
     "duration": 11.324766,
     "end_time": "2021-03-03T11:41:23.908684",
     "exception": false,
     "start_time": "2021-03-03T11:41:12.583918",
     "status": "completed"
    },
    "tags": []
   },
   "outputs": [
    {
     "name": "stdout",
     "output_type": "stream",
     "text": [
      "Training Score 1.0\n",
      "Testing Score 0.8766388942711361\n"
     ]
    }
   ],
   "source": [
    "from sklearn.ensemble import BaggingClassifier\n",
    "from sklearn.tree import DecisionTreeClassifier\n",
    "model = DecisionTreeClassifier()\n",
    "model.fit(X_train, y_train)\n",
    "\n",
    "print(\"Training Score {}\".format(model.score(X_train, y_train)))\n",
    "print(\"Testing Score {}\".format(model.score(X_test, y_test)))"
   ]
  },
  {
   "cell_type": "code",
   "execution_count": 24,
   "metadata": {
    "execution": {
     "iopub.execute_input": "2021-03-03T11:41:23.992074Z",
     "iopub.status.busy": "2021-03-03T11:41:23.990916Z",
     "iopub.status.idle": "2021-03-03T11:41:24.087026Z",
     "shell.execute_reply": "2021-03-03T11:41:24.087840Z"
    },
    "papermill": {
     "duration": 0.144293,
     "end_time": "2021-03-03T11:41:24.088072",
     "exception": false,
     "start_time": "2021-03-03T11:41:23.943779",
     "status": "completed"
    },
    "tags": []
   },
   "outputs": [
    {
     "name": "stdout",
     "output_type": "stream",
     "text": [
      "0.8766388942711361\n"
     ]
    }
   ],
   "source": [
    "#testing accuracy\n",
    "from sklearn.metrics import accuracy_score\n",
    "y_pred = model.predict(X_test)\n",
    "print(accuracy_score(y_test, y_pred))"
   ]
  },
  {
   "cell_type": "code",
   "execution_count": 25,
   "metadata": {
    "execution": {
     "iopub.execute_input": "2021-03-03T11:41:24.160831Z",
     "iopub.status.busy": "2021-03-03T11:41:24.159902Z",
     "iopub.status.idle": "2021-03-03T11:41:24.165048Z",
     "shell.execute_reply": "2021-03-03T11:41:24.165486Z"
    },
    "papermill": {
     "duration": 0.044118,
     "end_time": "2021-03-03T11:41:24.165661",
     "exception": false,
     "start_time": "2021-03-03T11:41:24.121543",
     "status": "completed"
    },
    "tags": []
   },
   "outputs": [
    {
     "name": "stdout",
     "output_type": "stream",
     "text": [
      "[0.03009363 0.44657181 0.02571123 ... 0.         0.         0.        ]\n"
     ]
    }
   ],
   "source": [
    "##print feature importances\n",
    "print(model.feature_importances_)"
   ]
  },
  {
   "cell_type": "code",
   "execution_count": 26,
   "metadata": {
    "execution": {
     "iopub.execute_input": "2021-03-03T11:41:24.238651Z",
     "iopub.status.busy": "2021-03-03T11:41:24.238009Z",
     "iopub.status.idle": "2021-03-03T11:41:26.021892Z",
     "shell.execute_reply": "2021-03-03T11:41:26.022313Z"
    },
    "papermill": {
     "duration": 1.823765,
     "end_time": "2021-03-03T11:41:26.022513",
     "exception": false,
     "start_time": "2021-03-03T11:41:24.198748",
     "status": "completed"
    },
    "tags": []
   },
   "outputs": [
    {
     "data": {
      "image/png": "[encoded data removed]",
      "text/plain": [
       "<Figure size 432x288 with 1 Axes>"
      ]
     },
     "metadata": {
      "needs_background": "light"
     },
     "output_type": "display_data"
    }
   ],
   "source": [
    "## plot feature importance\n",
    "importance = model.feature_importances_\n",
    "plt.bar([x for x in range(len(importance))], importance)\n",
    "plt.show()"
   ]
  },
  {
   "cell_type": "code",
   "execution_count": 27,
   "metadata": {
    "execution": {
     "iopub.execute_input": "2021-03-03T11:41:26.095731Z",
     "iopub.status.busy": "2021-03-03T11:41:26.094989Z",
     "iopub.status.idle": "2021-03-03T11:41:37.138672Z",
     "shell.execute_reply": "2021-03-03T11:41:37.138119Z"
    },
    "papermill": {
     "duration": 11.082098,
     "end_time": "2021-03-03T11:41:37.138832",
     "exception": false,
     "start_time": "2021-03-03T11:41:26.056734",
     "status": "completed"
    },
    "tags": []
   },
   "outputs": [],
   "source": [
    "from sklearn.feature_selection import SelectFromModel\n",
    "\n",
    "best_model = SelectFromModel(model, threshold=0.001)\n",
    "\n",
    "# Train the selector\n",
    "best_model.fit(X_train, y_train)\n",
    "\n",
    "# Transform the data to create a new dataset containing only the most important features\n",
    "X_important_train = best_model.transform(X_train)\n",
    "X_important_test = best_model.transform(X_test)"
   ]
  },
  {
   "cell_type": "code",
   "execution_count": 28,
   "metadata": {
    "execution": {
     "iopub.execute_input": "2021-03-03T11:41:37.209165Z",
     "iopub.status.busy": "2021-03-03T11:41:37.208588Z",
     "iopub.status.idle": "2021-03-03T11:41:37.211467Z",
     "shell.execute_reply": "2021-03-03T11:41:37.211899Z"
    },
    "papermill": {
     "duration": 0.040224,
     "end_time": "2021-03-03T11:41:37.212060",
     "exception": false,
     "start_time": "2021-03-03T11:41:37.171836",
     "status": "completed"
    },
    "tags": []
   },
   "outputs": [
    {
     "data": {
      "text/plain": [
       "(61930, 93)"
      ]
     },
     "execution_count": 28,
     "metadata": {},
     "output_type": "execute_result"
    }
   ],
   "source": [
    "#after feature selection shape is\n",
    "X_important_train.shape"
   ]
  },
  {
   "cell_type": "code",
   "execution_count": 29,
   "metadata": {
    "execution": {
     "iopub.execute_input": "2021-03-03T11:41:37.290835Z",
     "iopub.status.busy": "2021-03-03T11:41:37.285420Z",
     "iopub.status.idle": "2021-03-03T11:41:37.590975Z",
     "shell.execute_reply": "2021-03-03T11:41:37.590439Z"
    },
    "papermill": {
     "duration": 0.345741,
     "end_time": "2021-03-03T11:41:37.591123",
     "exception": false,
     "start_time": "2021-03-03T11:41:37.245382",
     "status": "completed"
    },
    "tags": []
   },
   "outputs": [],
   "source": [
    "X_important_all = best_model.transform(X)"
   ]
  },
  {
   "cell_type": "code",
   "execution_count": 30,
   "metadata": {
    "execution": {
     "iopub.execute_input": "2021-03-03T11:41:37.663679Z",
     "iopub.status.busy": "2021-03-03T11:41:37.662716Z",
     "iopub.status.idle": "2021-03-03T11:41:37.666693Z",
     "shell.execute_reply": "2021-03-03T11:41:37.666143Z"
    },
    "papermill": {
     "duration": 0.042482,
     "end_time": "2021-03-03T11:41:37.666824",
     "exception": false,
     "start_time": "2021-03-03T11:41:37.624342",
     "status": "completed"
    },
    "tags": []
   },
   "outputs": [
    {
     "data": {
      "text/plain": [
       "(77413, 93)"
      ]
     },
     "execution_count": 30,
     "metadata": {},
     "output_type": "execute_result"
    }
   ],
   "source": [
    "X_important_all.shape"
   ]
  },
  {
   "cell_type": "code",
   "execution_count": 31,
   "metadata": {
    "execution": {
     "iopub.execute_input": "2021-03-03T11:41:37.740930Z",
     "iopub.status.busy": "2021-03-03T11:41:37.739790Z",
     "iopub.status.idle": "2021-03-03T11:45:01.651590Z",
     "shell.execute_reply": "2021-03-03T11:45:01.652051Z"
    },
    "papermill": {
     "duration": 203.952173,
     "end_time": "2021-03-03T11:45:01.652227",
     "exception": false,
     "start_time": "2021-03-03T11:41:37.700054",
     "status": "completed"
    },
    "tags": []
   },
   "outputs": [
    {
     "name": "stdout",
     "output_type": "stream",
     "text": [
      "Accuracy: 0.886\n"
     ]
    }
   ],
   "source": [
    "#cross validation\n",
    "from sklearn.model_selection import KFold\n",
    "from sklearn.model_selection import cross_val_score\n",
    "cv = KFold(n_splits=5, random_state=1, shuffle=True)\n",
    "\n",
    "model = BaggingClassifier()\n",
    "model.fit(X_important_train, y_train)\n",
    "\n",
    "scores = cross_val_score(model, X, y, scoring='accuracy', cv=cv, n_jobs=-1)\n",
    "\n",
    "# report performance\n",
    "print('Accuracy: %.3f' % (np.mean(scores)))"
   ]
  },
  {
   "cell_type": "code",
   "execution_count": 32,
   "metadata": {
    "execution": {
     "iopub.execute_input": "2021-03-03T11:45:01.728164Z",
     "iopub.status.busy": "2021-03-03T11:45:01.727579Z",
     "iopub.status.idle": "2021-03-03T11:45:02.273581Z",
     "shell.execute_reply": "2021-03-03T11:45:02.274097Z"
    },
    "papermill": {
     "duration": 0.588397,
     "end_time": "2021-03-03T11:45:02.274291",
     "exception": false,
     "start_time": "2021-03-03T11:45:01.685894",
     "status": "completed"
    },
    "tags": []
   },
   "outputs": [
    {
     "name": "stdout",
     "output_type": "stream",
     "text": [
      "Training Score 0.992975940578072\n",
      "Testing Score 0.8890395918103726\n"
     ]
    }
   ],
   "source": [
    "print(\"Training Score {}\".format(model.score(X_important_train, y_train)))\n",
    "print(\"Testing Score {}\".format(model.score(X_important_test, y_test)))"
   ]
  },
  {
   "cell_type": "code",
   "execution_count": 33,
   "metadata": {
    "execution": {
     "iopub.execute_input": "2021-03-03T11:45:02.347962Z",
     "iopub.status.busy": "2021-03-03T11:45:02.347222Z",
     "iopub.status.idle": "2021-03-03T11:45:17.431871Z",
     "shell.execute_reply": "2021-03-03T11:45:17.430954Z"
    },
    "papermill": {
     "duration": 15.123934,
     "end_time": "2021-03-03T11:45:17.432082",
     "exception": false,
     "start_time": "2021-03-03T11:45:02.308148",
     "status": "completed"
    },
    "tags": []
   },
   "outputs": [
    {
     "name": "stdout",
     "output_type": "stream",
     "text": [
      "Training Score 0.9935669719556147\n",
      "Testing Score 0.9937350642640315\n"
     ]
    }
   ],
   "source": [
    "model_imp = BaggingClassifier()\n",
    "\n",
    "# Train the new classifier on the new dataset containing the most important features\n",
    "model_imp.fit(X_important_all, y)\n",
    "\n",
    "\n",
    "print(\"Training Score {}\".format(model_imp.score(X_important_all, y)))\n",
    "print(\"Testing Score {}\".format(model_imp.score(X_important_test, y_test)))"
   ]
  },
  {
   "cell_type": "markdown",
   "metadata": {
    "papermill": {
     "duration": 0.035703,
     "end_time": "2021-03-03T11:45:17.502812",
     "exception": false,
     "start_time": "2021-03-03T11:45:17.467109",
     "status": "completed"
    },
    "tags": []
   },
   "source": [
    "### Step 4: Parse test.csv and generate predictions"
   ]
  },
  {
   "cell_type": "code",
   "execution_count": 34,
   "metadata": {
    "execution": {
     "iopub.execute_input": "2021-03-03T11:45:17.577986Z",
     "iopub.status.busy": "2021-03-03T11:45:17.577345Z",
     "iopub.status.idle": "2021-03-03T11:45:17.636375Z",
     "shell.execute_reply": "2021-03-03T11:45:17.635518Z"
    },
    "papermill": {
     "duration": 0.098239,
     "end_time": "2021-03-03T11:45:17.636561",
     "exception": false,
     "start_time": "2021-03-03T11:45:17.538322",
     "status": "completed"
    },
    "tags": []
   },
   "outputs": [
    {
     "name": "stderr",
     "output_type": "stream",
     "text": [
      "/opt/conda/lib/python3.7/site-packages/ipykernel_launcher.py:4: ParserWarning: Falling back to the 'python' engine because the 'c' engine does not support regex separators (separators > 1 char and different from '\\s+' are interpreted as regex); you can avoid this warning by specifying engine='python'.\n",
      "  after removing the cwd from sys.path.\n"
     ]
    },
    {
     "data": {
      "text/html": [
       "<div>\n",
       "<style scoped>\n",
       "    .dataframe tbody tr th:only-of-type {\n",
       "        vertical-align: middle;\n",
       "    }\n",
       "\n",
       "    .dataframe tbody tr th {\n",
       "        vertical-align: top;\n",
       "    }\n",
       "\n",
       "    .dataframe thead th {\n",
       "        text-align: right;\n",
       "    }\n",
       "</style>\n",
       "<table border=\"1\" class=\"dataframe\">\n",
       "  <thead>\n",
       "    <tr style=\"text-align: right;\">\n",
       "      <th></th>\n",
       "      <th>x</th>\n",
       "    </tr>\n",
       "  </thead>\n",
       "  <tbody>\n",
       "    <tr>\n",
       "      <th>88-60-8</th>\n",
       "      <td>1682</td>\n",
       "    </tr>\n",
       "    <tr>\n",
       "      <th>122931-48-0</th>\n",
       "      <td>1656</td>\n",
       "    </tr>\n",
       "    <tr>\n",
       "      <th>NOCAS_47311</th>\n",
       "      <td>36</td>\n",
       "    </tr>\n",
       "    <tr>\n",
       "      <th>55589-62-3</th>\n",
       "      <td>1850</td>\n",
       "    </tr>\n",
       "    <tr>\n",
       "      <th>79902-63-9</th>\n",
       "      <td>30</td>\n",
       "    </tr>\n",
       "  </tbody>\n",
       "</table>\n",
       "</div>"
      ],
      "text/plain": [
       "                x\n",
       "88-60-8      1682\n",
       "122931-48-0  1656\n",
       "NOCAS_47311    36\n",
       "55589-62-3   1850\n",
       "79902-63-9     30"
      ]
     },
     "execution_count": 34,
     "metadata": {},
     "output_type": "execute_result"
    }
   ],
   "source": [
    "#Read test data\n",
    "\n",
    "import pandas as pd\n",
    "test_df = pd.read_csv('/kaggle/input/the-toxicity-prediction-challenge/test.csv', sep=',|;')\n",
    "test_df.head()"
   ]
  },
  {
   "cell_type": "code",
   "execution_count": 35,
   "metadata": {
    "execution": {
     "iopub.execute_input": "2021-03-03T11:45:17.721765Z",
     "iopub.status.busy": "2021-03-03T11:45:17.716833Z",
     "iopub.status.idle": "2021-03-03T11:45:17.725949Z",
     "shell.execute_reply": "2021-03-03T11:45:17.726400Z"
    },
    "papermill": {
     "duration": 0.052949,
     "end_time": "2021-03-03T11:45:17.726568",
     "exception": false,
     "start_time": "2021-03-03T11:45:17.673619",
     "status": "completed"
    },
    "tags": []
   },
   "outputs": [
    {
     "data": {
      "text/html": [
       "<div>\n",
       "<style scoped>\n",
       "    .dataframe tbody tr th:only-of-type {\n",
       "        vertical-align: middle;\n",
       "    }\n",
       "\n",
       "    .dataframe tbody tr th {\n",
       "        vertical-align: top;\n",
       "    }\n",
       "\n",
       "    .dataframe thead th {\n",
       "        text-align: right;\n",
       "    }\n",
       "</style>\n",
       "<table border=\"1\" class=\"dataframe\">\n",
       "  <thead>\n",
       "    <tr style=\"text-align: right;\">\n",
       "      <th></th>\n",
       "      <th>V1</th>\n",
       "      <th>x</th>\n",
       "    </tr>\n",
       "  </thead>\n",
       "  <tbody>\n",
       "    <tr>\n",
       "      <th>0</th>\n",
       "      <td>88-60-8</td>\n",
       "      <td>1682</td>\n",
       "    </tr>\n",
       "    <tr>\n",
       "      <th>1</th>\n",
       "      <td>122931-48-0</td>\n",
       "      <td>1656</td>\n",
       "    </tr>\n",
       "    <tr>\n",
       "      <th>2</th>\n",
       "      <td>NOCAS_47311</td>\n",
       "      <td>36</td>\n",
       "    </tr>\n",
       "    <tr>\n",
       "      <th>3</th>\n",
       "      <td>55589-62-3</td>\n",
       "      <td>1850</td>\n",
       "    </tr>\n",
       "    <tr>\n",
       "      <th>4</th>\n",
       "      <td>79902-63-9</td>\n",
       "      <td>30</td>\n",
       "    </tr>\n",
       "  </tbody>\n",
       "</table>\n",
       "</div>"
      ],
      "text/plain": [
       "            V1     x\n",
       "0      88-60-8  1682\n",
       "1  122931-48-0  1656\n",
       "2  NOCAS_47311    36\n",
       "3   55589-62-3  1850\n",
       "4   79902-63-9    30"
      ]
     },
     "execution_count": 35,
     "metadata": {},
     "output_type": "execute_result"
    }
   ],
   "source": [
    "test_df.reset_index(inplace=True)\n",
    "test_df = test_df.rename(columns={\"index\": \"V1\"})\n",
    "test_df.head()"
   ]
  },
  {
   "cell_type": "code",
   "execution_count": 36,
   "metadata": {
    "execution": {
     "iopub.execute_input": "2021-03-03T11:45:17.802914Z",
     "iopub.status.busy": "2021-03-03T11:45:17.801995Z",
     "iopub.status.idle": "2021-03-03T11:45:17.838817Z",
     "shell.execute_reply": "2021-03-03T11:45:17.839296Z"
    },
    "papermill": {
     "duration": 0.077509,
     "end_time": "2021-03-03T11:45:17.839509",
     "exception": false,
     "start_time": "2021-03-03T11:45:17.762000",
     "status": "completed"
    },
    "tags": []
   },
   "outputs": [
    {
     "name": "stderr",
     "output_type": "stream",
     "text": [
      "/opt/conda/lib/python3.7/site-packages/ipykernel_launcher.py:4: ParserWarning: Falling back to the 'python' engine because the 'c' engine does not support regex separators (separators > 1 char and different from '\\s+' are interpreted as regex); you can avoid this warning by specifying engine='python'.\n",
      "  after removing the cwd from sys.path.\n"
     ]
    },
    {
     "data": {
      "text/html": [
       "<div>\n",
       "<style scoped>\n",
       "    .dataframe tbody tr th:only-of-type {\n",
       "        vertical-align: middle;\n",
       "    }\n",
       "\n",
       "    .dataframe tbody tr th {\n",
       "        vertical-align: top;\n",
       "    }\n",
       "\n",
       "    .dataframe thead th {\n",
       "        text-align: right;\n",
       "    }\n",
       "</style>\n",
       "<table border=\"1\" class=\"dataframe\">\n",
       "  <thead>\n",
       "    <tr style=\"text-align: right;\">\n",
       "      <th></th>\n",
       "      <th>x</th>\n",
       "    </tr>\n",
       "  </thead>\n",
       "  <tbody>\n",
       "    <tr>\n",
       "      <th>88-60-8</th>\n",
       "      <td>1682</td>\n",
       "    </tr>\n",
       "    <tr>\n",
       "      <th>122931-48-0</th>\n",
       "      <td>1656</td>\n",
       "    </tr>\n",
       "    <tr>\n",
       "      <th>NOCAS_47311</th>\n",
       "      <td>36</td>\n",
       "    </tr>\n",
       "    <tr>\n",
       "      <th>55589-62-3</th>\n",
       "      <td>1850</td>\n",
       "    </tr>\n",
       "    <tr>\n",
       "      <th>79902-63-9</th>\n",
       "      <td>30</td>\n",
       "    </tr>\n",
       "  </tbody>\n",
       "</table>\n",
       "</div>"
      ],
      "text/plain": [
       "                x\n",
       "88-60-8      1682\n",
       "122931-48-0  1656\n",
       "NOCAS_47311    36\n",
       "55589-62-3   1850\n",
       "79902-63-9     30"
      ]
     },
     "execution_count": 36,
     "metadata": {},
     "output_type": "execute_result"
    }
   ],
   "source": [
    "#Read test data\n",
    "\n",
    "import pandas as pd\n",
    "test_df = pd.read_csv('/kaggle/input/the-toxicity-prediction-challenge/test.csv', sep=',|;')\n",
    "test_df.head()"
   ]
  },
  {
   "cell_type": "code",
   "execution_count": 37,
   "metadata": {
    "execution": {
     "iopub.execute_input": "2021-03-03T11:45:17.915502Z",
     "iopub.status.busy": "2021-03-03T11:45:17.914826Z",
     "iopub.status.idle": "2021-03-03T11:45:17.924660Z",
     "shell.execute_reply": "2021-03-03T11:45:17.925141Z"
    },
    "papermill": {
     "duration": 0.049297,
     "end_time": "2021-03-03T11:45:17.925312",
     "exception": false,
     "start_time": "2021-03-03T11:45:17.876015",
     "status": "completed"
    },
    "tags": []
   },
   "outputs": [
    {
     "data": {
      "text/html": [
       "<div>\n",
       "<style scoped>\n",
       "    .dataframe tbody tr th:only-of-type {\n",
       "        vertical-align: middle;\n",
       "    }\n",
       "\n",
       "    .dataframe tbody tr th {\n",
       "        vertical-align: top;\n",
       "    }\n",
       "\n",
       "    .dataframe thead th {\n",
       "        text-align: right;\n",
       "    }\n",
       "</style>\n",
       "<table border=\"1\" class=\"dataframe\">\n",
       "  <thead>\n",
       "    <tr style=\"text-align: right;\">\n",
       "      <th></th>\n",
       "      <th>V1</th>\n",
       "      <th>x</th>\n",
       "    </tr>\n",
       "  </thead>\n",
       "  <tbody>\n",
       "    <tr>\n",
       "      <th>0</th>\n",
       "      <td>88-60-8</td>\n",
       "      <td>1682</td>\n",
       "    </tr>\n",
       "    <tr>\n",
       "      <th>1</th>\n",
       "      <td>122931-48-0</td>\n",
       "      <td>1656</td>\n",
       "    </tr>\n",
       "    <tr>\n",
       "      <th>2</th>\n",
       "      <td>NOCAS_47311</td>\n",
       "      <td>36</td>\n",
       "    </tr>\n",
       "    <tr>\n",
       "      <th>3</th>\n",
       "      <td>55589-62-3</td>\n",
       "      <td>1850</td>\n",
       "    </tr>\n",
       "    <tr>\n",
       "      <th>4</th>\n",
       "      <td>79902-63-9</td>\n",
       "      <td>30</td>\n",
       "    </tr>\n",
       "  </tbody>\n",
       "</table>\n",
       "</div>"
      ],
      "text/plain": [
       "            V1     x\n",
       "0      88-60-8  1682\n",
       "1  122931-48-0  1656\n",
       "2  NOCAS_47311    36\n",
       "3   55589-62-3  1850\n",
       "4   79902-63-9    30"
      ]
     },
     "execution_count": 37,
     "metadata": {},
     "output_type": "execute_result"
    }
   ],
   "source": [
    "test_df.reset_index(inplace=True)\n",
    "test_df = test_df.rename(columns={\"index\": \"V1\"})\n",
    "test_df.head()"
   ]
  },
  {
   "cell_type": "code",
   "execution_count": 38,
   "metadata": {
    "execution": {
     "iopub.execute_input": "2021-03-03T11:45:18.006504Z",
     "iopub.status.busy": "2021-03-03T11:45:18.005439Z",
     "iopub.status.idle": "2021-03-03T11:45:26.045236Z",
     "shell.execute_reply": "2021-03-03T11:45:26.044691Z"
    },
    "papermill": {
     "duration": 8.083485,
     "end_time": "2021-03-03T11:45:26.045398",
     "exception": false,
     "start_time": "2021-03-03T11:45:17.961913",
     "status": "completed"
    },
    "tags": []
   },
   "outputs": [
    {
     "name": "stderr",
     "output_type": "stream",
     "text": [
      "/opt/conda/lib/python3.7/site-packages/ipykernel_launcher.py:1: ParserWarning: Falling back to the 'python' engine because the 'c' engine does not support regex separators (separators > 1 char and different from '\\s+' are interpreted as regex); you can avoid this warning by specifying engine='python'.\n",
      "  \"\"\"Entry point for launching an IPython kernel.\n"
     ]
    },
    {
     "data": {
      "text/html": [
       "<div>\n",
       "<style scoped>\n",
       "    .dataframe tbody tr th:only-of-type {\n",
       "        vertical-align: middle;\n",
       "    }\n",
       "\n",
       "    .dataframe tbody tr th {\n",
       "        vertical-align: top;\n",
       "    }\n",
       "\n",
       "    .dataframe thead th {\n",
       "        text-align: right;\n",
       "    }\n",
       "</style>\n",
       "<table border=\"1\" class=\"dataframe\">\n",
       "  <thead>\n",
       "    <tr style=\"text-align: right;\">\n",
       "      <th></th>\n",
       "      <th>V1</th>\n",
       "      <th>x</th>\n",
       "      <th>V2</th>\n",
       "      <th>V3</th>\n",
       "      <th>V4</th>\n",
       "      <th>V5</th>\n",
       "      <th>V6</th>\n",
       "      <th>V7</th>\n",
       "      <th>V8</th>\n",
       "      <th>V9</th>\n",
       "      <th>...</th>\n",
       "      <th>V1066</th>\n",
       "      <th>V1067</th>\n",
       "      <th>V1068</th>\n",
       "      <th>V1069</th>\n",
       "      <th>V1070</th>\n",
       "      <th>V1071</th>\n",
       "      <th>V1072</th>\n",
       "      <th>V1073</th>\n",
       "      <th>V1074</th>\n",
       "      <th>V1075</th>\n",
       "    </tr>\n",
       "  </thead>\n",
       "  <tbody>\n",
       "    <tr>\n",
       "      <th>0</th>\n",
       "      <td>88-60-8</td>\n",
       "      <td>1682</td>\n",
       "      <td>6937</td>\n",
       "      <td>164.120115</td>\n",
       "      <td>3.659</td>\n",
       "      <td>20.23</td>\n",
       "      <td>0.0</td>\n",
       "      <td>0.0</td>\n",
       "      <td>0.000000</td>\n",
       "      <td>0.068041</td>\n",
       "      <td>...</td>\n",
       "      <td>0</td>\n",
       "      <td>0</td>\n",
       "      <td>0</td>\n",
       "      <td>0</td>\n",
       "      <td>0</td>\n",
       "      <td>0</td>\n",
       "      <td>0</td>\n",
       "      <td>0</td>\n",
       "      <td>0</td>\n",
       "      <td>0</td>\n",
       "    </tr>\n",
       "    <tr>\n",
       "      <th>1</th>\n",
       "      <td>122931-48-0</td>\n",
       "      <td>1656</td>\n",
       "      <td>91779</td>\n",
       "      <td>431.056940</td>\n",
       "      <td>1.258</td>\n",
       "      <td>183.30</td>\n",
       "      <td>0.0</td>\n",
       "      <td>0.0</td>\n",
       "      <td>0.000000</td>\n",
       "      <td>0.151375</td>\n",
       "      <td>...</td>\n",
       "      <td>0</td>\n",
       "      <td>0</td>\n",
       "      <td>0</td>\n",
       "      <td>0</td>\n",
       "      <td>0</td>\n",
       "      <td>0</td>\n",
       "      <td>0</td>\n",
       "      <td>0</td>\n",
       "      <td>0</td>\n",
       "      <td>0</td>\n",
       "    </tr>\n",
       "    <tr>\n",
       "      <th>2</th>\n",
       "      <td>NOCAS_47311</td>\n",
       "      <td>36</td>\n",
       "      <td>53257735</td>\n",
       "      <td>695.250845</td>\n",
       "      <td>6.365</td>\n",
       "      <td>95.92</td>\n",
       "      <td>0.0</td>\n",
       "      <td>0.0</td>\n",
       "      <td>0.174792</td>\n",
       "      <td>0.789110</td>\n",
       "      <td>...</td>\n",
       "      <td>0</td>\n",
       "      <td>0</td>\n",
       "      <td>0</td>\n",
       "      <td>0</td>\n",
       "      <td>0</td>\n",
       "      <td>0</td>\n",
       "      <td>0</td>\n",
       "      <td>0</td>\n",
       "      <td>0</td>\n",
       "      <td>0</td>\n",
       "    </tr>\n",
       "    <tr>\n",
       "      <th>3</th>\n",
       "      <td>55589-62-3</td>\n",
       "      <td>1850</td>\n",
       "      <td>11074431</td>\n",
       "      <td>200.949810</td>\n",
       "      <td>-1.340</td>\n",
       "      <td>68.82</td>\n",
       "      <td>0.0</td>\n",
       "      <td>0.0</td>\n",
       "      <td>0.000000</td>\n",
       "      <td>0.058926</td>\n",
       "      <td>...</td>\n",
       "      <td>0</td>\n",
       "      <td>0</td>\n",
       "      <td>0</td>\n",
       "      <td>0</td>\n",
       "      <td>0</td>\n",
       "      <td>0</td>\n",
       "      <td>0</td>\n",
       "      <td>0</td>\n",
       "      <td>0</td>\n",
       "      <td>0</td>\n",
       "    </tr>\n",
       "    <tr>\n",
       "      <th>4</th>\n",
       "      <td>79902-63-9</td>\n",
       "      <td>30</td>\n",
       "      <td>54454</td>\n",
       "      <td>418.271924</td>\n",
       "      <td>4.775</td>\n",
       "      <td>72.83</td>\n",
       "      <td>0.0</td>\n",
       "      <td>0.0</td>\n",
       "      <td>0.000000</td>\n",
       "      <td>0.179152</td>\n",
       "      <td>...</td>\n",
       "      <td>0</td>\n",
       "      <td>0</td>\n",
       "      <td>0</td>\n",
       "      <td>0</td>\n",
       "      <td>0</td>\n",
       "      <td>0</td>\n",
       "      <td>0</td>\n",
       "      <td>0</td>\n",
       "      <td>0</td>\n",
       "      <td>0</td>\n",
       "    </tr>\n",
       "  </tbody>\n",
       "</table>\n",
       "<p>5 rows × 1076 columns</p>\n",
       "</div>"
      ],
      "text/plain": [
       "            V1     x        V2          V3     V4      V5   V6   V7        V8  \\\n",
       "0      88-60-8  1682      6937  164.120115  3.659   20.23  0.0  0.0  0.000000   \n",
       "1  122931-48-0  1656     91779  431.056940  1.258  183.30  0.0  0.0  0.000000   \n",
       "2  NOCAS_47311    36  53257735  695.250845  6.365   95.92  0.0  0.0  0.174792   \n",
       "3   55589-62-3  1850  11074431  200.949810 -1.340   68.82  0.0  0.0  0.000000   \n",
       "4   79902-63-9    30     54454  418.271924  4.775   72.83  0.0  0.0  0.000000   \n",
       "\n",
       "         V9  ...  V1066  V1067  V1068  V1069  V1070  V1071  V1072  V1073  \\\n",
       "0  0.068041  ...      0      0      0      0      0      0      0      0   \n",
       "1  0.151375  ...      0      0      0      0      0      0      0      0   \n",
       "2  0.789110  ...      0      0      0      0      0      0      0      0   \n",
       "3  0.058926  ...      0      0      0      0      0      0      0      0   \n",
       "4  0.179152  ...      0      0      0      0      0      0      0      0   \n",
       "\n",
       "   V1074  V1075  \n",
       "0      0      0  \n",
       "1      0      0  \n",
       "2      0      0  \n",
       "3      0      0  \n",
       "4      0      0  \n",
       "\n",
       "[5 rows x 1076 columns]"
      ]
     },
     "execution_count": 38,
     "metadata": {},
     "output_type": "execute_result"
    }
   ],
   "source": [
    "feamat_df = pd.read_csv('/kaggle/input/the-toxicity-prediction-challenge/feamat.csv', sep=';|,')\n",
    "df =  test_df.merge(feamat_df, on = ['V1'],how = 'left')\n",
    "df.head()"
   ]
  },
  {
   "cell_type": "code",
   "execution_count": 39,
   "metadata": {
    "execution": {
     "iopub.execute_input": "2021-03-03T11:45:26.127375Z",
     "iopub.status.busy": "2021-03-03T11:45:26.126071Z",
     "iopub.status.idle": "2021-03-03T11:45:26.295465Z",
     "shell.execute_reply": "2021-03-03T11:45:26.296245Z"
    },
    "papermill": {
     "duration": 0.213576,
     "end_time": "2021-03-03T11:45:26.296555",
     "exception": false,
     "start_time": "2021-03-03T11:45:26.082979",
     "status": "completed"
    },
    "tags": []
   },
   "outputs": [
    {
     "name": "stdout",
     "output_type": "stream",
     "text": [
      "Before Imputing Null value count is:\n",
      "1\n",
      "After Imputing Null value count is:\n",
      "0\n"
     ]
    }
   ],
   "source": [
    "df = df.replace([np.inf, -np.inf], np.nan)\n",
    "print(\"Before Imputing Null value count is:\")\n",
    "print(df.isnull().any().sum())\n",
    "df = df.fillna(0)\n",
    "print(\"After Imputing Null value count is:\")\n",
    "print(df.isnull().any().sum())"
   ]
  },
  {
   "cell_type": "code",
   "execution_count": 40,
   "metadata": {
    "execution": {
     "iopub.execute_input": "2021-03-03T11:45:26.401518Z",
     "iopub.status.busy": "2021-03-03T11:45:26.388645Z",
     "iopub.status.idle": "2021-03-03T11:45:26.581066Z",
     "shell.execute_reply": "2021-03-03T11:45:26.580539Z"
    },
    "papermill": {
     "duration": 0.244874,
     "end_time": "2021-03-03T11:45:26.581203",
     "exception": false,
     "start_time": "2021-03-03T11:45:26.336329",
     "status": "completed"
    },
    "tags": []
   },
   "outputs": [],
   "source": [
    "df['V1'] = encoder.transform(df['V1'])\n",
    "X_important = best_model.transform(df)\n",
    "\n",
    "y_pred = model_imp.predict(X_important)"
   ]
  },
  {
   "cell_type": "code",
   "execution_count": 41,
   "metadata": {
    "execution": {
     "iopub.execute_input": "2021-03-03T11:45:26.663212Z",
     "iopub.status.busy": "2021-03-03T11:45:26.662596Z",
     "iopub.status.idle": "2021-03-03T11:45:26.693087Z",
     "shell.execute_reply": "2021-03-03T11:45:26.693575Z"
    },
    "papermill": {
     "duration": 0.073811,
     "end_time": "2021-03-03T11:45:26.693747",
     "exception": false,
     "start_time": "2021-03-03T11:45:26.619936",
     "status": "completed"
    },
    "tags": []
   },
   "outputs": [
    {
     "name": "stdout",
     "output_type": "stream",
     "text": [
      "Your submission was successfully saved!\n"
     ]
    }
   ],
   "source": [
    "test_df = pd.read_csv('/kaggle/input/the-toxicity-prediction-challenge/test.csv', sep=',')\n",
    "output = pd.DataFrame({'Id': test_df[\"x\"], 'Predicted': y_pred})\n",
    "output.to_csv('submission.csv', index=False)\n",
    "print(\"Your submission was successfully saved!\")"
   ]
  }
 ],
 "metadata": {
  "kernelspec": {
   "display_name": "Python 3",
   "language": "python",
   "name": "python3"
  },
  "language_info": {
   "codemirror_mode": {
    "name": "ipython",
    "version": 3
   },
   "file_extension": ".py",
   "mimetype": "text/x-python",
   "name": "python",
   "nbconvert_exporter": "python",
   "pygments_lexer": "ipython3",
   "version": "3.7.9"
  },
  "papermill": {
   "default_parameters": {},
   "duration": 277.524995,
   "end_time": "2021-03-03T11:45:27.642756",
   "environment_variables": {},
   "exception": null,
   "input_path": "__notebook__.ipynb",
   "output_path": "__notebook__.ipynb",
   "parameters": {},
   "start_time": "2021-03-03T11:40:50.117761",
   "version": "2.2.2"
  }
 },
 "nbformat": 4,
 "nbformat_minor": 4
}

